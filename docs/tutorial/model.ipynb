{
 "cells": [
  {
   "cell_type": "raw",
   "metadata": {
    "deletable": true,
    "editable": true
   },
   "source": [
    ".. _model_tutorial:\n"
   ]
  },
  {
   "cell_type": "code",
   "execution_count": null,
   "metadata": {
    "collapsed": true
   },
   "outputs": [],
   "source": [
    "# Make imports\n",
    "import opcsim\n",
    "import numpy as np\n",
    "import matplotlib.pyplot as plt\n",
    "import seaborn as sns\n",
    "\n",
    "%matplotlib inline\n",
    "\n",
    "# turn off warnings temporarily\n",
    "import warnings\n",
    "warnings.simplefilter('ignore')\n",
    "\n",
    "# Let's set some default seaborn settings\n",
    "sns.set(context='notebook', style='ticks', palette='deep', font_scale=1.75)"
   ]
  },
  {
   "cell_type": "markdown",
   "metadata": {
    "deletable": true,
    "editable": true
   },
   "source": [
    "# The OPC Model\n",
    "\n",
    "The `opcsim.OPC` class provides an easy-to-use interface for modeling low-cost optical particle counters. This simple model is based on just a few variables. Any OPC can be described by the following:\n",
    "\n",
    "  * An OPC has $n_bins$ histogram bins\n",
    "  * An OPC has a lower cutoff at some diameter ($dmin$) and upper cutoff at some diameter ($dmax$)\n",
    "  * An OPC has a counting efficiency that can either be constant or vary with particle diameter\n",
    "  * \n",
    "  \n",
    "To define a model OPC using the `opcsim.OPC` class, we simply initiate as follows:"
   ]
  },
  {
   "cell_type": "code",
   "execution_count": null,
   "metadata": {
    "collapsed": true,
    "deletable": true,
    "editable": true
   },
   "outputs": [],
   "source": [
    "opc = opcsim.OPC()"
   ]
  },
  {
   "cell_type": "markdown",
   "metadata": {
    "collapsed": true,
    "deletable": true,
    "editable": true
   },
   "source": [
    "When initiated with no arguments, the default arguments are used. This sets $dmin=0.5\\;\\mu m$, $dmax=2.5\\;\\mu m$, and $n_bins=1$. We can view the number of bins using the `OPC.n_bins` attribute."
   ]
  },
  {
   "cell_type": "code",
   "execution_count": null,
   "metadata": {
    "collapsed": false
   },
   "outputs": [],
   "source": [
    "opc.n_bins"
   ]
  },
  {
   "cell_type": "markdown",
   "metadata": {},
   "source": [
    "We can also view the bin boundaries and midpoint diameters using the `OPC.bins` attribute. Here, we receieve a 3xn array where the first entry is the left bin boundary, the middle is the midpoint diameter, and the last entry is the right bin boundary."
   ]
  },
  {
   "cell_type": "code",
   "execution_count": null,
   "metadata": {
    "collapsed": false
   },
   "outputs": [],
   "source": [
    "opc.bins"
   ]
  },
  {
   "cell_type": "markdown",
   "metadata": {},
   "source": [
    "## Building an OPC\n",
    "\n",
    "We can build more complex models by increasing the number of bins in a couple of ways: (1) we can change the minimum or maximum cutoffs, or the total number of bins:"
   ]
  },
  {
   "cell_type": "code",
   "execution_count": null,
   "metadata": {
    "collapsed": false
   },
   "outputs": [],
   "source": [
    "opc_10bins = opcsim.OPC(n_bins=10, dmin=0.3, dmax=17)\n",
    "\n",
    "opc_10bins.bins"
   ]
  },
  {
   "cell_type": "markdown",
   "metadata": {},
   "source": [
    "If we are trying to build mimic an OPC that has pre-defined bins, we can also do that with the help of some utility methods. The bins argument in the OPC class requires a 3xn array as seen above. Often, you may only have the bin boundary information and not the midpoints. Typically, we use the logarithmic mean rather than the arithmetic mean, though we have made both available through the `opcsim.midpoints` utility function.\n",
    "\n",
    "For example, let's calculate the bins for an OPC like the Dylos DC1100 Pro. This OPC has two bins (0.5-2.5, 2.5-10). How do we build the bins?"
   ]
  },
  {
   "cell_type": "code",
   "execution_count": null,
   "metadata": {
    "collapsed": false
   },
   "outputs": [],
   "source": [
    "bins = np.array([[0.5, 2.5], [2.5, 10]])\n",
    "\n",
    "bins = opcsim.midpoints(bins)\n",
    "\n",
    "bins"
   ]
  },
  {
   "cell_type": "markdown",
   "metadata": {},
   "source": [
    "If we build bins from 'scratch' as above, when we initiate the OPC model, we need to only include the bins as an argument:"
   ]
  },
  {
   "cell_type": "code",
   "execution_count": null,
   "metadata": {
    "collapsed": false
   },
   "outputs": [],
   "source": [
    "dylos = opcsim.OPC(bins=bins)"
   ]
  },
  {
   "cell_type": "markdown",
   "metadata": {},
   "source": [
    "The last argument of interest to the OPC model is the counting efficiency (`ce`). The counting efficiency argument must be a callable function that accepts the particle diameter and returns a float. By default, counting efficiency is set to return 1 at all diameters. You can provide any function you want. However, as of now, the counting efficiency is only evaluated at bin midpoints.\n",
    "\n",
    "For example, if you wanted to change the counting efficiency to be a linear function, you could set it as something like:"
   ]
  },
  {
   "cell_type": "code",
   "execution_count": null,
   "metadata": {
    "collapsed": false
   },
   "outputs": [],
   "source": [
    "# define the counting efficiency function\n",
    "ce = lambda x: 1.25*x + 0.05\n",
    "\n",
    "opc_ce = opcsim.OPC(n_bins=10, ce=ce)"
   ]
  },
  {
   "cell_type": "markdown",
   "metadata": {},
   "source": [
    "That more or less covers how we build an OPC. Next, how do we determine what an OPC \"sees\" given an aerosol distribution?\n",
    "\n",
    "## Evaluating an OPC\n",
    "\n",
    "To determine what the OPC \"sees\", we evaluate the PDF of the aerosol distribution present at the midpoint diameter of each bin and multiply by the counting efficiency at that diameter. We can use the `OPC.evaluate` method to calculate these values for any combination of `weight` and `base`. The defaults are `weight='number'` and `base='log10'`. This returns a value that is the $dN/dlogD_p$ value in units of $cm^{-3}$."
   ]
  },
  {
   "cell_type": "code",
   "execution_count": null,
   "metadata": {
    "collapsed": false
   },
   "outputs": [],
   "source": [
    "opc = opcsim.OPC(n_bins=5, dmin=0.3, dmax=2.5)\n",
    "urban = opcsim.load_distribution(\"Urban\")\n",
    "\n",
    "opc.evaluate(distribution=urban)"
   ]
  },
  {
   "cell_type": "markdown",
   "metadata": {},
   "source": [
    "## Plotting OPC Response to the Urban Distribution\n",
    "\n",
    "Now that we know how to evaluate the response of an OPC to the urban distribution, how can we easily visualize it? Well, we have the handy `opcsim.plots.histplot` to do that! All we need is the data to plot (evaluated PDF) and the OPC bins.\n",
    "\n",
    "Let's go ahead and plot the response of a 10-bin OPC to the Urban Aerosol Distribution:"
   ]
  },
  {
   "cell_type": "code",
   "execution_count": null,
   "metadata": {
    "collapsed": false
   },
   "outputs": [],
   "source": [
    "# Set the 10-bin OPC\n",
    "opc = opcsim.OPC(n_bins=10, dmin=0.3, dmax=2.5)\n",
    "\n",
    "# Build a distribution\n",
    "urban = opcsim.load_distribution(\"Urban\")\n",
    "\n",
    "# Plot\n",
    "ax = opcsim.plots.histplot(opc.evaluate(urban), opc.bins)\n",
    "\n",
    "ax.set_ylabel(\"$dN/dlogD_p$\")\n",
    "\n",
    "plt.show()"
   ]
  },
  {
   "cell_type": "markdown",
   "metadata": {},
   "source": [
    "Why don't we go ahead and overlay the distribution itself:"
   ]
  },
  {
   "cell_type": "code",
   "execution_count": null,
   "metadata": {
    "collapsed": false
   },
   "outputs": [],
   "source": [
    "# Plot\n",
    "ax = opcsim.plots.histplot(opc.evaluate(urban), opc.bins)\n",
    "\n",
    "# Add the distribution to the plot\n",
    "ax = opcsim.plots.pdfplot(urban, ax=ax)\n",
    "\n",
    "ax.set_ylabel(\"$dN/dlogD_p$\")\n",
    "\n",
    "plt.show()"
   ]
  },
  {
   "cell_type": "markdown",
   "metadata": {},
   "source": [
    "The above plots are in number-space. The primary use of these low-cost sensors is to estimate mass, so why don't we go ahead and plot this in volume space?"
   ]
  },
  {
   "cell_type": "code",
   "execution_count": null,
   "metadata": {
    "collapsed": false
   },
   "outputs": [],
   "source": [
    "# Plot\n",
    "ax = opcsim.plots.histplot(opc.evaluate(urban, weight='volume'), opc.bins)\n",
    "\n",
    "# Add the distribution to the plot\n",
    "ax = opcsim.plots.pdfplot(urban, weight='volume', ax=ax)\n",
    "\n",
    "ax.set_ylabel(\"$dV/dlogD_p$\")\n",
    "\n",
    "plt.show()"
   ]
  },
  {
   "cell_type": "markdown",
   "metadata": {},
   "source": [
    "# Scoring an OPC Model"
   ]
  },
  {
   "cell_type": "code",
   "execution_count": null,
   "metadata": {
    "collapsed": true
   },
   "outputs": [],
   "source": []
  }
 ],
 "metadata": {
  "kernelspec": {
   "display_name": "Python 3",
   "language": "python",
   "name": "python3"
  },
  "language_info": {
   "codemirror_mode": {
    "name": "ipython",
    "version": 3
   },
   "file_extension": ".py",
   "mimetype": "text/x-python",
   "name": "python",
   "nbconvert_exporter": "python",
   "pygments_lexer": "ipython3",
   "version": "3.6.0"
  }
 },
 "nbformat": 4,
 "nbformat_minor": 2
}
