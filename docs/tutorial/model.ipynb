{
 "cells": [
  {
   "cell_type": "raw",
   "metadata": {},
   "source": [
    ".. _model_tutorial:\n"
   ]
  },
  {
   "cell_type": "markdown",
   "metadata": {},
   "source": [
    "# Using OPCSIM to Build and Model an Optical Particle Counter (OPC)\n",
    "\n",
    "The following tutorial will show you how a low-cost OPC is represented when using the opcsim software. You will learn how to build a model OPC, how to mimic a calibration for specific aerosols, and how to evaluate the OPC against a simulated aerosol distribution. Visualization tools will also be discussed.\n",
    "\n",
    "First, we import the python libraries we need and set the styles used for plotting throughout this tutorial."
   ]
  },
  {
   "cell_type": "code",
   "execution_count": 1,
   "metadata": {},
   "outputs": [
    {
     "name": "stdout",
     "output_type": "stream",
     "text": [
      "0.3.0+8.g007204b\n"
     ]
    }
   ],
   "source": [
    "# Make imports\n",
    "import opcsim\n",
    "import numpy as np\n",
    "import matplotlib.pyplot as plt\n",
    "import matplotlib.ticker as mticks\n",
    "import seaborn as sns\n",
    "\n",
    "%matplotlib inline\n",
    "\n",
    "# turn off warnings temporarily\n",
    "import warnings\n",
    "warnings.simplefilter('ignore')\n",
    "\n",
    "# Let's set some default seaborn settings\n",
    "sns.set(context='notebook', style='ticks', palette='dark', font_scale=1.75, \n",
    "        rc={'figure.figsize': (12,6), **opcsim.plots.rc_log})\n",
    "\n",
    "print (opcsim.__version__)"
   ]
  },
  {
   "cell_type": "markdown",
   "metadata": {},
   "source": [
    "# The OPC Model\n",
    "\n",
    "The `opcsim.OPC` class provides a simple way to model most of the functionality of low-cost optical particle counters. This model is based on just a few instrument parameters which should be defined in the manufacturer's speficication sheet. \n",
    "\n",
    "An OPC is defined by just the laser wavelength (`wl`), the exact `bins` the OPC uses as its output, and the angles for which the scattered light is collected between (`theta`). Other work has considered much more detail that this, including the electrical properties and characteristics of the photodetector, etc. However, this typically requires knowledge or information that is not commonly available in the datasheet of a low-cost particle counter, and thus we try to provide a method that does not rely on this information. \n",
    "\n",
    "Within the software itself, there is flexibility in how exactly you define the bins. In the end, you will end up with a 3xn array of values, where n is the number of bins. Each bin is then defined by its left bin boundary, midpoint, and right bin boundary. \n",
    " \n",
    "To simulate an OPC using the `opcsim.OPC` class, we initiate as follows:"
   ]
  },
  {
   "cell_type": "code",
   "execution_count": 2,
   "metadata": {},
   "outputs": [
    {
     "data": {
      "text/plain": [
       "<class 'opcsim.models.OPC'>"
      ]
     },
     "execution_count": 2,
     "metadata": {},
     "output_type": "execute_result"
    }
   ],
   "source": [
    "opc = opcsim.OPC(wl=0.658, n_bins=5, theta=(32., 88.))\n",
    "\n",
    "opc"
   ]
  },
  {
   "cell_type": "markdown",
   "metadata": {},
   "source": [
    "When initiated with no arguments, the default arguments are used and can be looked up in the API documentation. This sets $dmin=0.5\\;\\mu m$, $dmax=2.5\\;\\mu m$, and $n_{bins}=5$. We can view the number of bins using the `OPC.n_bins` attribute."
   ]
  },
  {
   "cell_type": "code",
   "execution_count": 3,
   "metadata": {},
   "outputs": [
    {
     "data": {
      "text/plain": [
       "5"
      ]
     },
     "execution_count": 3,
     "metadata": {},
     "output_type": "execute_result"
    }
   ],
   "source": [
    "opc.n_bins"
   ]
  },
  {
   "cell_type": "markdown",
   "metadata": {},
   "source": [
    "We can also view the bin boundaries and midpoint diameters using the `OPC.bins` attribute. Here, we receieve a **3xn** array where the first entry is the left bin boundary, the middle is the midpoint diameter, and the last entry is the right bin boundary."
   ]
  },
  {
   "cell_type": "code",
   "execution_count": 4,
   "metadata": {},
   "outputs": [
    {
     "data": {
      "text/plain": [
       "array([[0.5       , 0.58730947, 0.68986483],\n",
       "       [0.68986483, 0.8103283 , 0.95182697],\n",
       "       [0.95182697, 1.11803399, 1.3132639 ],\n",
       "       [1.3132639 , 1.54258466, 1.81194916],\n",
       "       [1.81194916, 2.12834981, 2.5       ]])"
      ]
     },
     "execution_count": 4,
     "metadata": {},
     "output_type": "execute_result"
    }
   ],
   "source": [
    "opc.bins"
   ]
  },
  {
   "cell_type": "markdown",
   "metadata": {},
   "source": [
    "## Building more specific OPC's\n",
    "\n",
    "We can build more complex - or specified - models by increasing the number of bins in a couple of ways: (1) we can change the minimum or maximum cutoffs, or the total number of bins:"
   ]
  },
  {
   "cell_type": "code",
   "execution_count": 5,
   "metadata": {},
   "outputs": [
    {
     "data": {
      "text/plain": [
       "array([[ 0.38      ,  0.46019969,  0.55732566],\n",
       "       [ 0.55732566,  0.67495025,  0.81739972],\n",
       "       [ 0.81739972,  0.98991341,  1.19883643],\n",
       "       [ 1.19883643,  1.45185303,  1.75826924],\n",
       "       [ 1.75826924,  2.12935514,  2.57875939],\n",
       "       [ 2.57875939,  3.12301123,  3.78212839],\n",
       "       [ 3.78212839,  4.58035343,  5.54704531],\n",
       "       [ 5.54704531,  6.71775925,  8.13555449],\n",
       "       [ 8.13555449,  9.85257798, 11.93198238],\n",
       "       [11.93198238, 14.45024885, 17.5       ]])"
      ]
     },
     "execution_count": 5,
     "metadata": {},
     "output_type": "execute_result"
    }
   ],
   "source": [
    "opc_10bins = opcsim.OPC(wl=0.658, n_bins=10, dmin=0.38, dmax=17.5)\n",
    "\n",
    "opc_10bins.bins"
   ]
  },
  {
   "cell_type": "markdown",
   "metadata": {},
   "source": [
    "If we are trying to model a specific OPC that has pre-defined bins, we can also do that with the help of some utility methods. The bins argument in the OPC class requires a **3xn** array as seen above. Often, you may only have the bin boundary information and not the midpoints. We can define the bins as an array of the bin boundaries, where there are 1 more entries than total number of bins, as follows:"
   ]
  },
  {
   "cell_type": "code",
   "execution_count": 6,
   "metadata": {},
   "outputs": [
    {
     "data": {
      "text/plain": [
       "array([[0.38      , 0.45299007, 0.54      ],\n",
       "       [0.54      , 0.64899923, 0.78      ],\n",
       "       [0.78      , 0.90498619, 1.05      ],\n",
       "       [1.05      , 1.25499004, 1.5       ],\n",
       "       [1.5       , 1.93649167, 2.5       ]])"
      ]
     },
     "execution_count": 6,
     "metadata": {},
     "output_type": "execute_result"
    }
   ],
   "source": [
    "opc = opcsim.OPC(wl=0.658, bins=[0.38, 0.54, 0.78, 1.05, 1.5, 2.5])\n",
    "\n",
    "opc.bins"
   ]
  },
  {
   "cell_type": "markdown",
   "metadata": {},
   "source": [
    "This more or less covers how we can build various OPC's - if you are still unsure of what to do in a specific case, feel free to post questions on the GitHub repository under the 'Issues' tab."
   ]
  },
  {
   "cell_type": "markdown",
   "metadata": {},
   "source": [
    "# OPC Calibration\n",
    "\n",
    "Probably the most important part of our representation is how we calibrate our sensor. Unlike nephelometers of photometers, OPC's scatter the light off of, and count, each and every particle (unless there are too many and coincidence becomes an issue, but that's a whole different problem). The light scattered off a particle is proportional to the scattering cross-section of the particle in question. To represent this in our model, we perform Mie Theory calculations for each and every particle in the aerosol distribution, calculating the scattering cross-section ($C_{scat}$) assuming the particle is spherical and has some refractive index as defined when you built the distribution. \n",
    "\n",
    "To determine which particle size bin a certain $C_{scat}$ value belongs to, we must calibrate the sensor. There are many ways to do this, and they are documented throughout the literature, especially for expensive, nice OPC's. Our goal is to come up with a functional relationship that returns an OPC particle size bin for any given $C_{scat}$ value. We provide two simple methods as built-in options within the software, but users can elect to define their own.\n",
    "\n",
    "\n",
    "First, let's take a look at what a simple scattering pattern looks like for an OPC with a wavelength of 658 nm and a collection angle of 32-88 degrees, assuming we are using PSL's."
   ]
  },
  {
   "cell_type": "code",
   "execution_count": 7,
   "metadata": {},
   "outputs": [
    {
     "data": {
      "text/plain": [
       "<class 'opcsim.models.OPC'>"
      ]
     },
     "execution_count": 7,
     "metadata": {},
     "output_type": "execute_result"
    }
   ],
   "source": [
    "opc = opcsim.OPC(wl=0.658, theta=(32.0, 88.0), n_bins=10)\n",
    "\n",
    "opc"
   ]
  },
  {
   "cell_type": "code",
   "execution_count": 8,
   "metadata": {},
   "outputs": [
    {
     "data": {
      "image/png": "[encoded data removed]",
      "text/plain": [
       "<Figure size 432x432 with 1 Axes>"
      ]
     },
     "metadata": {},
     "output_type": "display_data"
    }
   ],
   "source": [
    "# generate an array of particle diameters\n",
    "dp = np.logspace(-1, 1.25, 250)\n",
    "vals = [opcsim.mie.cscat(x, wl=0.658, refr=complex(1.59, 0), theta1=32., theta2=88.) for x in dp]\n",
    "\n",
    "fig, ax = plt.subplots(1, figsize=(6, 6))\n",
    "\n",
    "ax.plot(dp, vals, lw=3)\n",
    "\n",
    "ax.semilogx()\n",
    "ax.semilogy()\n",
    "\n",
    "ax.set_title(\"Calibration Curve for PSLs\", y=1.02)\n",
    "ax.set_xlabel(\"$D_p\\;[\\mu m]$\")\n",
    "ax.set_ylabel(\"$C_{scat}$\")\n",
    "\n",
    "sns.despine(offset=5)"
   ]
  },
  {
   "cell_type": "markdown",
   "metadata": {},
   "source": [
    "As we can see in the figure above, there are $C_{scat}$ values that are not monotonically increasing as the particle diameter increases, which may make it difficult to assign that value to 1 bin specifically. This is a very well known and documented issue with OPC's and should play a role in choosing bin boundaries. Additionally, it only gets more complicated as the particle optical properties change!\n",
    "\n",
    "Now, we will examine the two simple approaches to modeling our ways out of this."
   ]
  },
  {
   "cell_type": "markdown",
   "metadata": {},
   "source": [
    "## Method 1: `smooth`\n",
    "\n",
    "If we were to plot the bin boundaries for a given OPC on the figure above, we would likely see periods where the $C_{scat}$ value decreases from one bin boundary to the next, which makes our life difficult. Thus, we can smooth it out by simply interpolating across any of these 'down' periods. Note that this can make it quite difficult for particles to get assigned to certain bins, especially if the $C_{scat}$ values plateau - this can be somewhat solved by combining these bins into one bin to reduce the uncertainty in bin assignment, though it will make the correct particle sizing in that bin less precise as well.\n",
    "\n",
    "We can examine how this works by showing a quick example. Let's grab the $C_{scat}$ values for the OPC above at each bin boundary:"
   ]
  },
  {
   "cell_type": "code",
   "execution_count": 9,
   "metadata": {},
   "outputs": [
    {
     "data": {
      "text/plain": [
       "array([0.5       , 0.58730947, 0.68986483, 0.8103283 , 0.95182697,\n",
       "       1.11803399, 1.3132639 , 1.54258466, 1.81194916, 2.12834981,\n",
       "       2.5       ])"
      ]
     },
     "execution_count": 9,
     "metadata": {},
     "output_type": "execute_result"
    }
   ],
   "source": [
    "opc.bin_boundaries"
   ]
  },
  {
   "cell_type": "code",
   "execution_count": 10,
   "metadata": {},
   "outputs": [
    {
     "data": {
      "text/plain": [
       "array([2.86492750e-09, 4.48206290e-09, 5.25272279e-09, 6.02393845e-09,\n",
       "       6.64256044e-09, 9.09772227e-09, 1.25785156e-08, 1.25676003e-08,\n",
       "       1.40492264e-08, 1.99683184e-08, 4.17442631e-08])"
      ]
     },
     "execution_count": 10,
     "metadata": {},
     "output_type": "execute_result"
    }
   ],
   "source": [
    "v = np.array([opcsim.mie.cscat(x, wl=0.658, theta1=32.,\n",
    "                                      theta2=88., refr=complex(1.59, 0)) for x in opc.bin_boundaries])\n",
    "\n",
    "# print out the cscat values for each bin boundary\n",
    "v"
   ]
  },
  {
   "cell_type": "markdown",
   "metadata": {},
   "source": [
    "Let's check to see if there are any points where the value actually decreases as the particle diameter increases."
   ]
  },
  {
   "cell_type": "code",
   "execution_count": 11,
   "metadata": {},
   "outputs": [
    {
     "data": {
      "text/plain": [
       "array([False, False, False, False, False, False,  True, False, False,\n",
       "       False])"
      ]
     },
     "execution_count": 11,
     "metadata": {},
     "output_type": "execute_result"
    }
   ],
   "source": [
    "np.diff(v) < 0"
   ]
  },
  {
   "cell_type": "markdown",
   "metadata": {},
   "source": [
    "Yup! We got one. So, let's apply the `opcsim.utils.squash_dips` function to remove them:"
   ]
  },
  {
   "cell_type": "code",
   "execution_count": 12,
   "metadata": {},
   "outputs": [
    {
     "data": {
      "text/plain": [
       "array([2.86492750e-09, 4.48206290e-09, 5.25272279e-09, 6.02393845e-09,\n",
       "       6.64256044e-09, 9.09772227e-09, 1.08326613e-08, 1.25676003e-08,\n",
       "       1.40492264e-08, 1.99683184e-08, 4.17442631e-08])"
      ]
     },
     "execution_count": 12,
     "metadata": {},
     "output_type": "execute_result"
    }
   ],
   "source": [
    "opcsim.utils.squash_dips(v)"
   ]
  },
  {
   "cell_type": "markdown",
   "metadata": {},
   "source": [
    "We can see above that the offending value has now been modified."
   ]
  },
  {
   "cell_type": "markdown",
   "metadata": {},
   "source": [
    "## Method 2: `linear`\n",
    "\n",
    "The second approach to generating our map of $C_{scat}$ to $D_p$ values is to fit a line to the data in log-log space. Here, we begin by plotting the bin boundaries on top of the PSL scattering line for an OPC that models the Alphasense OPC-N2."
   ]
  },
  {
   "cell_type": "code",
   "execution_count": 13,
   "metadata": {},
   "outputs": [
    {
     "data": {
      "image/png": "[encoded data removed]",
      "text/plain": [
       "<Figure size 576x576 with 1 Axes>"
      ]
     },
     "metadata": {},
     "output_type": "display_data"
    }
   ],
   "source": [
    "from scipy.interpolate import interp1d\n",
    "\n",
    "fig, ax = plt.subplots(1, figsize=(8, 8))\n",
    "\n",
    "ax.plot(dp, vals, lw=3)\n",
    "\n",
    "ax.set_xlabel(\"$D_p$, $\\mu m$\")\n",
    "ax.set_ylabel(\"$C_{scat}$, $cm^2$/particle\")\n",
    "\n",
    "# draw some bins\n",
    "f = interp1d(x=dp, y=vals)\n",
    "\n",
    "bb = np.array([0.38, 0.54, 0.78, 1.05, 1.34, 1.59, 2.07, 3., 4., \n",
    "               5., 6.5, 8., 10., 12., 14., 16., 17.5])\n",
    "\n",
    "ax.scatter(bb, f(bb), color='r', s=50, label=\"OPC-N2 Bin Boundaries\")\n",
    "ax.legend()\n",
    "\n",
    "ax.semilogx()\n",
    "ax.semilogy()\n",
    "\n",
    "sns.despine(offset=5)"
   ]
  },
  {
   "cell_type": "markdown",
   "metadata": {},
   "source": [
    "We can fit a line to these data points, which will generate an easy mapping between the two values - however, it will likely undersize particles in some regions and oversize them in others. You can easily create complicated polynomial or machine-learning approaches to matching these values; however, it will all get thrown into chaos when we begin to incorporate particles of various optical properties and morphologies."
   ]
  },
  {
   "cell_type": "markdown",
   "metadata": {},
   "source": [
    "## So, how do we calibrate our sensor?\n",
    "\n",
    "It is recommended you begin with one of the two approaches above, which are both built into the `OPC.calibrate` function. Once you get a hang of those, you can go ahead and get more sophisticated.\n",
    "\n",
    "To calibrate our sensor, we simply define the material we want to use to calibrate. We can define the material in one of two ways: \n",
    "\n",
    "  1. you can input a string with the material name\n",
    "  2. you can input the materials complex refractive index at the wavelength of your device\n",
    "  \n",
    "The material lookup table is quite limited and are mostly values taken as close to 658 nm as possible. If you would like to add to this table, please open an issue on GitHub.\n",
    "\n",
    "### Current Options\n",
    "\n",
    "| option | Material | Refractive Index |\n",
    "|:------:|:--------:|:----------------:|\n",
    "| `psl` | Polystyrene Latex Spheres | 1.592 + 0i |\n",
    "| `ammonium_sulfate` | Ammonium Sulfate | 1.521 + 0i |\n",
    "| `sodium_chloride` | Sodium Chloride | 1.5405 + 0i |\n",
    "| `sodium_nitrate` | Sodium Nitrate | 1.448 + 0i |\n",
    "| `black_carbon` | Black Carbon | 1.95 + 0.79i |\n",
    "| `sulfuric_acid` | Sulfuric Acid | 1.427 + 0i |\n",
    "| `soa` | Secondary Organic Aerosol | 1.4 + 0.002i |\n",
    "| `urban_high` | High estimate for Urban Aerosol | 1.6 + 0.034i |\n",
    "| `urban_low` | Low estimate for Urban Aerosol | 1.73 + 0.086i |\n",
    "\n",
    "\n",
    "To use the method, we simply state the material and the method. We can also get more complicated (check the API docs) if you want to send custom arguments to the fitting function, etc. A simple example would be:"
   ]
  },
  {
   "cell_type": "code",
   "execution_count": 14,
   "metadata": {},
   "outputs": [
    {
     "data": {
      "text/plain": [
       "functools.partial(<bound method OPC._digitize_opc_bins of <class 'opcsim.models.OPC'>>, cscat_boundaries=array([2.86492750e-09, 4.48206290e-09, 5.25272279e-09, 6.02393845e-09,\n",
       "       6.64256044e-09, 9.09772227e-09, 1.08326613e-08, 1.25676003e-08,\n",
       "       1.40492264e-08, 1.99683184e-08, 4.17442631e-08]))"
      ]
     },
     "execution_count": 14,
     "metadata": {},
     "output_type": "execute_result"
    }
   ],
   "source": [
    "opc.calibrate(\"psl\", method=\"smooth\")\n",
    "\n",
    "opc.calibration_function"
   ]
  },
  {
   "cell_type": "markdown",
   "metadata": {},
   "source": [
    "Alternatively, we could calibrate using the linear fit:"
   ]
  },
  {
   "cell_type": "code",
   "execution_count": 15,
   "metadata": {},
   "outputs": [
    {
     "data": {
      "text/plain": [
       "functools.partial(<bound method OPC._digitize_opc_bins of <class 'opcsim.models.OPC'>>, cscat_boundaries=array([3.12354813e-09, 3.85694293e-09, 4.76253547e-09, 5.88075700e-09,\n",
       "       7.26153183e-09, 8.96650627e-09, 1.10718009e-08, 1.36714091e-08,\n",
       "       1.68813933e-08, 2.08450672e-08, 2.57393936e-08]))"
      ]
     },
     "execution_count": 15,
     "metadata": {},
     "output_type": "execute_result"
    }
   ],
   "source": [
    "opc.calibrate(\"psl\", method=\"linear\")\n",
    "\n",
    "opc.calibration_function"
   ]
  },
  {
   "cell_type": "markdown",
   "metadata": {},
   "source": [
    "When the calibration is executed, it saves the calibration function, which is a digitizer which simply uses the $C_{scat}$ values we computed at each bin boundary during the calibration to return the OPC bin for any given $C_{scat}$ value. If a $C_{scat}$ value is either too high or too low (above or below the boundaries we computed), then it will not assign that particle to a bin.\""
   ]
  },
  {
   "cell_type": "markdown",
   "metadata": {},
   "source": [
    "# Evaluating an OPC for a given Aerosol Distribution\n",
    "\n",
    "The entire point of this software is to model how various OPC's and other particle sensors \"see\" aerosols in the real world. The Aerosol Distribution tutorial showed how we can model realistic aerosol distributions. This section will review how the OPC's we just built \"see\" these distributions. Generally speaking, the process works as follows:\n",
    "\n",
    "  1. For every particle in the aerosol distribution, we calculate the scattering cross-section\n",
    "  2. For each of the scattering cross-section's we just calculated, we assign them to a bin of the OPC based on the calibration curve we generated\n",
    "  3. We end up with a histogram in the form of the cumulative number of particles in each OPC bin, just as we would if we were using a commercially available OPC\n",
    "  \n",
    "  \n",
    "The base method we use to obtain these numbers is `OPC.evaluate`. This method returns the number of particles the OPC \"sees\" in each bin for a given aerosol distribution. One component that hasn't yet been discussed is how the OPC reacts as relative humidity changes. Each of these methods takes an argument for relative humidity (`rh`) which will automatically calculate the change in particle size due to hygroscopic growth per $\\kappa$-kohler theory; the refractive index and density will also change accordingly based on the amount of growth that takes place.\n",
    "\n",
    "To evaluate a distribution, we need to first define the AerosolDistribution and the OPC.\n",
    "\n",
    "  * Show examples for a few different scenarios, including growth due to RH\n",
    "  * show examples for different calibration approaches"
   ]
  },
  {
   "cell_type": "code",
   "execution_count": 16,
   "metadata": {},
   "outputs": [
    {
     "data": {
      "text/plain": [
       "AerosolDistribution: Amm. Sulfate"
      ]
     },
     "execution_count": 16,
     "metadata": {},
     "output_type": "execute_result"
    }
   ],
   "source": [
    "# build a single mode of ammonium sulfate\n",
    "d = opcsim.AerosolDistribution(\"Amm. Sulfate\")\n",
    "\n",
    "d.add_mode(n=1e3, gm=250e-3, gsd=1.65, kappa=0.53, rho=1.77, refr=complex(1.521, 0))\n",
    "\n",
    "d"
   ]
  },
  {
   "cell_type": "code",
   "execution_count": 17,
   "metadata": {},
   "outputs": [
    {
     "data": {
      "text/plain": [
       "<class 'opcsim.models.OPC'>"
      ]
     },
     "execution_count": 17,
     "metadata": {},
     "output_type": "execute_result"
    }
   ],
   "source": [
    "# build an OPC\n",
    "opc = opcsim.OPC(wl=0.658, n_bins=24, dmin=0.35, dmax=40.)\n",
    "\n",
    "opc"
   ]
  },
  {
   "cell_type": "markdown",
   "metadata": {},
   "source": [
    "Let's go ahead and calibrate the OPC using ammonium sulfate:"
   ]
  },
  {
   "cell_type": "code",
   "execution_count": 18,
   "metadata": {},
   "outputs": [],
   "source": [
    "opc.calibrate(\"ammonium_sulfate\", method=\"smooth\")\n",
    "\n",
    "# ax = opcsim.plots.calibration_plot(opc)"
   ]
  },
  {
   "cell_type": "markdown",
   "metadata": {},
   "source": [
    "Now, let's go ahead and evaluate the OPC for the previously defined distribution. This will return the number of particles in each bin:"
   ]
  },
  {
   "cell_type": "code",
   "execution_count": 19,
   "metadata": {},
   "outputs": [
    {
     "data": {
      "text/plain": [
       "array([111.,  71.,  34.,  22.,   7.,   4.,   0.,   0.,   0.,   0.,   0.,\n",
       "         0.,   0.,   0.,   0.,   0.,   0.,   0.,   0.,   0.,   0.,   0.,\n",
       "         0.,   0.])"
      ]
     },
     "execution_count": 19,
     "metadata": {},
     "output_type": "execute_result"
    }
   ],
   "source": [
    "vals = opc.evaluate(d, rh=0.0)\n",
    "\n",
    "vals"
   ]
  },
  {
   "cell_type": "markdown",
   "metadata": {},
   "source": [
    "## Interating across the Particle Size Distribution\n",
    "\n",
    "Another important task for evaluation OPC's is comparing the integrated values across some pre-defined particle size range. We can accomplish this by using the `OPC.integrate` method to calculate either the total number of particles, total surface area, total volume, or total mass betweeen any two diameters.\n",
    "\n",
    "Example:"
   ]
  },
  {
   "cell_type": "code",
   "execution_count": 20,
   "metadata": {},
   "outputs": [
    {
     "data": {
      "text/plain": [
       "249.0"
      ]
     },
     "execution_count": 20,
     "metadata": {},
     "output_type": "execute_result"
    }
   ],
   "source": [
    "opc.integrate(d, dmin=0., dmax=2.5, weight='number', rh=0.)"
   ]
  },
  {
   "cell_type": "code",
   "execution_count": 31,
   "metadata": {},
   "outputs": [
    {
     "data": {
      "text/plain": [
       "562.0"
      ]
     },
     "execution_count": 31,
     "metadata": {},
     "output_type": "execute_result"
    }
   ],
   "source": [
    "opc.integrate(d, dmin=0., dmax=2.5, weight='number', rh=85.)"
   ]
  },
  {
   "cell_type": "markdown",
   "metadata": {},
   "source": [
    "## Visualizing the OPC Histogram\n",
    "\n",
    "Last, it is fairly useful and important for us to be able to easily visualize our results. There are functions built-in to compute the histogram to use with `opcsim.plots.histplot` to easily plot the particle size distribution.\n",
    "\n",
    "Let's go ahead and visualize our results from earlier:"
   ]
  },
  {
   "cell_type": "code",
   "execution_count": 25,
   "metadata": {},
   "outputs": [],
   "source": [
    "# compute the histogram\n",
    "lb, data1, ddp = opc.histogram(d, weight=\"number\", base=\"log10\", rh=0.0)\n",
    "lb, data2, ddp = opc.histogram(d, weight=\"number\", base=\"log10\", rh=95.0)"
   ]
  },
  {
   "cell_type": "code",
   "execution_count": 30,
   "metadata": {},
   "outputs": [
    {
     "data": {
      "image/png": "[encoded data removed]",
      "text/plain": [
       "<Figure size 576x432 with 1 Axes>"
      ]
     },
     "metadata": {},
     "output_type": "display_data"
    }
   ],
   "source": [
    "fig, ax = plt.subplots(1, figsize=(8, 6))\n",
    "\n",
    "ax = opcsim.plots.pdfplot(d, ax=ax, weight=\"number\")\n",
    "ax = opcsim.plots.histplot(data=data1, bins=opc.bins, ax=ax, label=\"RH=0%\", plot_kws=dict(linewidth=2, fill=True, alpha=.5))\n",
    "ax = opcsim.plots.histplot(data=data2, bins=opc.bins, ax=ax, label=\"RH=95%\", plot_kws=dict(linewidth=2))\n",
    "\n",
    "ax.set_ylim(0, None)\n",
    "ax.set_xlim(0.01, None)\n",
    "ax.legend()\n",
    "\n",
    "sns.despine()"
   ]
  },
  {
   "cell_type": "markdown",
   "metadata": {},
   "source": [
    "### Effects of Aerosol Optical Properties\n",
    "\n",
    "One of the key (and cool) features of OPCSIM is it allows us to explore how an OPC would react to aerosols of different optical properties, namely changes in the refractive index.\n",
    "\n",
    "Here, we calibrate our OPC to PSL's (commonly done in the lab) and then try to evaluate our OPC on an Urban distribution.\n",
    "\n",
    "\n",
    "#### First, lets build our OPC and calibrate it with PSL's"
   ]
  },
  {
   "cell_type": "code",
   "execution_count": 77,
   "metadata": {},
   "outputs": [
    {
     "data": {
      "text/plain": [
       "functools.partial(<bound method OPC._digitize_opc_bins of <class 'opcsim.models.OPC'>>, cscat_boundaries=array([7.04540782e-10, 9.37793973e-10, 1.20142177e-09, 1.49484062e-09,\n",
       "       1.81754550e-09, 2.16909214e-09, 2.54908461e-09, 3.39301322e-09,\n",
       "       4.34683957e-09, 5.40845233e-09, 6.57602426e-09, 9.94839916e-09,\n",
       "       1.39525042e-08, 2.37925791e-08, 3.59940998e-08, 1.30229517e-07,\n",
       "       2.76311007e-07, 4.71180757e-07]))"
      ]
     },
     "execution_count": 77,
     "metadata": {},
     "output_type": "execute_result"
    }
   ],
   "source": [
    "opc = opcsim.OPC(\n",
    "    wl=658e-3, \n",
    "    bins=[0.3, 0.35, 0.4, 0.45, 0.5, 0.55, 0.6, 0.7, 0.8, 0.9, 1.0, 1.25, 1.5, 2.0, 2.5, 5., 7.5, 10.], \n",
    "    theta=(32., 88.))\n",
    "\n",
    "opc.calibrate(material=\"psl\", method=\"linear\")\n",
    "\n",
    "opc.calibration_function"
   ]
  },
  {
   "cell_type": "markdown",
   "metadata": {},
   "source": [
    "#### Next, let's build our Distribution of Urban Aerosols using RI values from [Ebert, et al (2004)][1]\n",
    "\n",
    "[1]: https://www.sciencedirect.com/science/article/pii/S1352231004008027"
   ]
  },
  {
   "cell_type": "code",
   "execution_count": 78,
   "metadata": {},
   "outputs": [],
   "source": [
    "d1 = opcsim.AerosolDistribution(\"PSL\")\n",
    "d2 = opcsim.AerosolDistribution(\"Urban Upper Bound Estimate\")\n",
    "\n",
    "d1.add_mode(n=1e3, gm=250e-3, gsd=1.65, kappa=0., refr=complex(1.591, 0))\n",
    "# d1.add_mode(n=1e3, gm=250e-3, gsd=1.65, kappa=0.2, refr=complex(1.6, 0.034))\n",
    "d2.add_mode(n=1e3, gm=250e-3, gsd=1.65, kappa=0.2, refr=complex(1.73, 0.086))"
   ]
  },
  {
   "cell_type": "markdown",
   "metadata": {},
   "source": [
    "#### Now, let's compute the histogram for a few different scenarios"
   ]
  },
  {
   "cell_type": "code",
   "execution_count": 79,
   "metadata": {},
   "outputs": [],
   "source": [
    "lb, data1, ddp = opc.histogram(d1, weight=\"number\", base=\"log10\", rh=0.0)\n",
    "lb, data2, ddp = opc.histogram(d2, weight=\"number\", base=\"log10\", rh=.0)"
   ]
  },
  {
   "cell_type": "markdown",
   "metadata": {},
   "source": [
    "#### Finally, let's plot the results"
   ]
  },
  {
   "cell_type": "code",
   "execution_count": 80,
   "metadata": {},
   "outputs": [
    {
     "data": {
      "image/png": "[encoded data removed]",
      "text/plain": [
       "<Figure size 576x432 with 1 Axes>"
      ]
     },
     "metadata": {},
     "output_type": "display_data"
    }
   ],
   "source": [
    "fig, ax = plt.subplots(1, figsize=(8, 6))\n",
    "\n",
    "ax = opcsim.plots.pdfplot(d1, ax=ax, weight=\"number\", label=\"Actual Distribution\")\n",
    "\n",
    "# ax.plot(opc.midpoints, data1)\n",
    "ax = opcsim.plots.histplot(data=data1, bins=opc.bins, ax=ax, label=\"PSL\", plot_kws=dict(linewidth=0, fill=True, alpha=.35))\n",
    "ax = opcsim.plots.histplot(data=data2, bins=opc.bins, ax=ax, label=\"Urban Aerosol\", plot_kws=dict(linewidth=3))\n",
    "\n",
    "ax.set_ylim(0, None)\n",
    "ax.set_xlim(0.01, None)\n",
    "ax.legend(bbox_to_anchor=(.85, 1))\n",
    "\n",
    "sns.despine()"
   ]
  },
  {
   "cell_type": "code",
   "execution_count": 72,
   "metadata": {},
   "outputs": [
    {
     "data": {
      "text/plain": [
       "array([122., 123.,  37.,  59.,  59.,   0.,   0.,   0.,   0.,   0.,   0.,\n",
       "         0.,   0.,   0.,   0.,   0.,   0.])"
      ]
     },
     "execution_count": 72,
     "metadata": {},
     "output_type": "execute_result"
    }
   ],
   "source": [
    "opc.evaluate(d2, rh=0)"
   ]
  },
  {
   "cell_type": "code",
   "execution_count": 76,
   "metadata": {},
   "outputs": [
    {
     "data": {
      "text/plain": [
       "2.228687652433969"
      ]
     },
     "execution_count": 76,
     "metadata": {},
     "output_type": "execute_result"
    }
   ],
   "source": [
    "opcsim.utils.k_kohler(diam_dry=1, kappa=0.53, rh=95)"
   ]
  },
  {
   "cell_type": "code",
   "execution_count": null,
   "metadata": {},
   "outputs": [],
   "source": []
  }
 ],
 "metadata": {
  "kernelspec": {
   "display_name": "Python 3",
   "language": "python",
   "name": "python3"
  },
  "language_info": {
   "codemirror_mode": {
    "name": "ipython",
    "version": 3
   },
   "file_extension": ".py",
   "mimetype": "text/x-python",
   "name": "python",
   "nbconvert_exporter": "python",
   "pygments_lexer": "ipython3",
   "version": "3.6.5"
  }
 },
 "nbformat": 4,
 "nbformat_minor": 2
}
