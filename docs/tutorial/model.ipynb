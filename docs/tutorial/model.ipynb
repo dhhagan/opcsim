{
 "cells": [
  {
   "cell_type": "raw",
   "metadata": {
    "deletable": true,
    "editable": true
   },
   "source": [
    ".. _model_tutorial:\n"
   ]
  },
  {
   "cell_type": "markdown",
   "metadata": {},
   "source": [
    "The following tutorial will show you how we represent a low-cost optical particle counter in the opcsim software. You will learn how to build a model OPC and evaluate it against a simulated aerosol distribution. Visualization tools will also be discussed.\n",
    "\n",
    "First, we import the python libraries we need and set the styles used for plotting throughout this tutorial."
   ]
  },
  {
   "cell_type": "code",
   "execution_count": null,
   "metadata": {
    "deletable": true,
    "editable": true
   },
   "outputs": [],
   "source": [
    "# Make imports\n",
    "import opcsim\n",
    "import numpy as np\n",
    "import matplotlib.pyplot as plt\n",
    "import matplotlib.ticker as mticks\n",
    "import seaborn as sns\n",
    "\n",
    "%matplotlib inline\n",
    "\n",
    "# turn off warnings temporarily\n",
    "import warnings\n",
    "warnings.simplefilter('ignore')\n",
    "\n",
    "# Let's set some default seaborn settings\n",
    "sns.set(context='notebook', style='ticks', palette='dark', font_scale=1.75, rc={'figure.figsize': (12,6)})"
   ]
  },
  {
   "cell_type": "markdown",
   "metadata": {
    "deletable": true,
    "editable": true
   },
   "source": [
    "# The OPC Model\n",
    "\n",
    "The `opcsim.OPC` class provides an easy-to-use interface for simulating low-cost optical particle counters. This simple model is based on just a few instrument parameters. We define an OPC with the following statements:\n",
    "\n",
    "  * An OPC has `n_bins` histogram bins\n",
    "  * An OPC has a lower cutoff at some diameter (`dmin`) and upper cutoff at some diameter (`dmax`)\n",
    "  * An OPC has a counting efficiency that can either be constant or vary with particle diameter as defined by the function `ce`\n",
    "\n",
    "  \n",
    "To simulate an OPC using the `opcsim.OPC` class, we initiate as follows:"
   ]
  },
  {
   "cell_type": "code",
   "execution_count": null,
   "metadata": {
    "deletable": true,
    "editable": true
   },
   "outputs": [],
   "source": [
    "opc = opcsim.OPC()"
   ]
  },
  {
   "cell_type": "markdown",
   "metadata": {
    "collapsed": true,
    "deletable": true,
    "editable": true
   },
   "source": [
    "When initiated with no arguments, the default arguments are used. This sets $dmin=0.5\\;\\mu m$, $dmax=2.5\\;\\mu m$, and $n_{bins}=1$. We can view the number of bins using the `OPC.n_bins` attribute."
   ]
  },
  {
   "cell_type": "code",
   "execution_count": null,
   "metadata": {
    "deletable": true,
    "editable": true
   },
   "outputs": [],
   "source": [
    "opc.n_bins"
   ]
  },
  {
   "cell_type": "markdown",
   "metadata": {
    "deletable": true,
    "editable": true
   },
   "source": [
    "We can also view the bin boundaries and midpoint diameters using the `OPC.bins` attribute. Here, we receieve a `3xn` array where the first entry is the left bin boundary, the middle is the midpoint diameter, and the last entry is the right bin boundary."
   ]
  },
  {
   "cell_type": "code",
   "execution_count": null,
   "metadata": {
    "deletable": true,
    "editable": true
   },
   "outputs": [],
   "source": [
    "opc.bins"
   ]
  },
  {
   "cell_type": "markdown",
   "metadata": {
    "deletable": true,
    "editable": true
   },
   "source": [
    "## Building an OPC\n",
    "\n",
    "We can build more complex models by increasing the number of bins in a couple of ways: (1) we can change the minimum or maximum cutoffs, or the total number of bins:"
   ]
  },
  {
   "cell_type": "code",
   "execution_count": null,
   "metadata": {
    "deletable": true,
    "editable": true
   },
   "outputs": [],
   "source": [
    "opc_10bins = opcsim.OPC(n_bins=10, dmin=0.3, dmax=17)\n",
    "\n",
    "opc_10bins.bins"
   ]
  },
  {
   "cell_type": "markdown",
   "metadata": {
    "deletable": true,
    "editable": true
   },
   "source": [
    "If we are trying to mimic a specific OPC that has pre-defined bins, we can also do that with the help of some utility methods. The bins argument in the OPC class requires a `3xn` array as seen above. Often, you may only have the bin boundary information and not the midpoints. Typically, we use the logarithmic mean rather than the arithmetic mean, though we have made both available through the `opcsim.midpoints` utility function.\n",
    "\n",
    "For example, let's calculate the bins for an OPC like the Dylos DC1100 Pro. This OPC has two bins (0.5-2.5, 2.5-10). How do we build the bins?"
   ]
  },
  {
   "cell_type": "code",
   "execution_count": null,
   "metadata": {
    "deletable": true,
    "editable": true
   },
   "outputs": [],
   "source": [
    "bins = np.array([[0.5, 2.5], [2.5, 10]])\n",
    "\n",
    "bins = opcsim.midpoints(bins)\n",
    "\n",
    "bins"
   ]
  },
  {
   "cell_type": "markdown",
   "metadata": {
    "deletable": true,
    "editable": true
   },
   "source": [
    "If we build bins from 'scratch' as above, when we initiate the OPC model, we need to only include the bins as an argument:"
   ]
  },
  {
   "cell_type": "code",
   "execution_count": null,
   "metadata": {
    "deletable": true,
    "editable": true
   },
   "outputs": [],
   "source": [
    "dylos = opcsim.OPC(bins=bins)"
   ]
  },
  {
   "cell_type": "markdown",
   "metadata": {
    "deletable": true,
    "editable": true
   },
   "source": [
    "## Define OPC Counting Efficiency\n",
    "\n",
    "The last argument of interest to the OPC model is the counting efficiency (`ce`). The counting efficiency argument must be a callable function that accepts the particle diameter and returns a float. By default, counting efficiency is set to return $\\eta=1$ at all diameters. You can provide any function you want. \n",
    "\n",
    "Let's define some counting efficiency functions that we can then incorporate into various simulated OPCs:"
   ]
  },
  {
   "cell_type": "code",
   "execution_count": null,
   "metadata": {},
   "outputs": [],
   "source": [
    "# Define efficiency based on an exponential function\n",
    "η_exp = lambda dp: 1 - np.exp(-5*dp)\n",
    "\n",
    "# Define efficiency based on a tanh function\n",
    "η_tanh = lambda dp: np.tanh(2*dp)\n",
    "\n",
    "# Define a function that rises linearly from 100nm to 1um, and then stays at 1\n",
    "η_linear = lambda dp: [np.piecewise(i, [i < 1., i >= 1.], [i, 1]) for i in dp]"
   ]
  },
  {
   "cell_type": "markdown",
   "metadata": {},
   "source": [
    "Let's go ahead and visualize these functions really quick to get a better idea"
   ]
  },
  {
   "cell_type": "code",
   "execution_count": null,
   "metadata": {},
   "outputs": [],
   "source": [
    "# Create an array of diameters\n",
    "diams = np.logspace(-2,1, 50)\n",
    "\n",
    "fig, ax = plt.subplots(1)\n",
    "\n",
    "ax.plot(diams, η_exp(diams), marker='o', label=\"$\\eta=1-exp(-5D_p)$\")\n",
    "ax.plot(diams, η_tanh(diams), marker='*', label=\"$\\eta=tanh(2D_p)$\")\n",
    "ax.plot(diams, η_linear(diams), marker='^', label=\"$\\eta=linear$\")\n",
    "\n",
    "ax.semilogx()\n",
    "ax.legend(loc='best')\n",
    "\n",
    "sns.despine(offset=5)\n",
    "\n",
    "ax.set_xlabel(\"Diameter\")\n",
    "ax.set_ylabel(\"Counting Efficiency\")\n",
    "\n",
    "ax.xaxis.set_major_formatter(mticks.FormatStrFormatter(\"%.3g\"))"
   ]
  },
  {
   "cell_type": "markdown",
   "metadata": {},
   "source": [
    "Now that we have a better understanding of what the counting efficiency function looks like (and how you can define your own), let's go ahead and show how to build an OPC that uses one of these functions. \n",
    "\n",
    "Let's go ahead and build a 10-bin OPC that uses the tanh counting efficiency from above:"
   ]
  },
  {
   "cell_type": "code",
   "execution_count": null,
   "metadata": {
    "deletable": true,
    "editable": true
   },
   "outputs": [],
   "source": [
    "opc_tanh = opcsim.OPC(n_bins=10, ce=η_tanh)"
   ]
  },
  {
   "cell_type": "markdown",
   "metadata": {
    "deletable": true,
    "editable": true
   },
   "source": [
    "That more or less covers how we build an OPC. Next, how do we determine what an OPC \"sees\" given an aerosol distribution?\n",
    "\n",
    "# Evaluate the OPC for a Given `AerosolDistribution`\n",
    "\n",
    "To evaluate the OPC, we need to determine how many particles the OPC 'sees' in each size bin. Once we have this value, we can convert to surface area, volume, or mass in order to compare to the true amount of mass present in the underlying aerosol distribution.\n",
    "\n",
    "There are two methods we use to do this:\n",
    "\n",
    "  1. `simple` method\n",
    "  \n",
    "      The simple method means we evaluate the PDF of the aerosol distribution at each bin midpoint. Depending on the \n",
    "      `weight` and `base` we are evaluating at, this returns the $d[weight]/d[base]D_p$ value at the given bin. We take into account the counting efficiency by multiplying this value by the `ce` function evaluated at the midpoint diameter for each bin. Mathematically, this would be represented as: $$\\frac{d[weight]}{d[base]D_p}=\\sum_{i=1}^{n_{bins}}PDF(D_{p,midpoint})*CE(D_{p,midpoint})$$\n",
    "\n",
    "  2. `subint` method\n",
    "  \n",
    "      The subintegration method takes a more continuous approach; the total number of particles in each bin is calculated by integrating the product of the CDF and the counting efficiency function within each individual bin. This provides a more \"accurate\" result. Essentially, if you assume the OPC has 100% counting efficiency, this would return the actual number of particles present in the given bin.\n",
    "      \n",
    "We assume that an OPC \"sees\" particle number concentration, and not some correlation to particle volume. Thus, each evaluation is completed by first evaluating the aerosol distribution in number-weighted space, and then converting to number, surface area, or volume by multiplying by the respective multiplier. The multiplier is determined at the bin midpoint, which is important.\n",
    "\n",
    "The `opcsim` library provides a few ways to obtain these values. \n",
    "\n",
    "## `opcsim.OPC.evaluate`\n",
    "\n",
    "The `opcsim.OPC.evaluate` method returns an array of values where each value is the number of {particles, surface area, volume} in each bin. It will return data in the format $d[weight]/d[base]D_p$ where the default is to return $dN/dlogD_p$ (`weight='number'`, `base='log10'`). It can also be evaluated with either the `simple` evaluation method or the `subint` evaluation method depending on the `method` keyword argument provided.\n",
    "\n",
    "For example, to evaluate a 5-bin OPC and return $dN/dlogD_p$ values for each bin using the default `subint` method, we would do the following: "
   ]
  },
  {
   "cell_type": "code",
   "execution_count": null,
   "metadata": {
    "deletable": true,
    "editable": true
   },
   "outputs": [],
   "source": [
    "# Build a 5-bin OPC\n",
    "opc = opcsim.OPC(n_bins=5, dmin=0.3, dmax=2.5)\n",
    "\n",
    "# load the urban distribution\n",
    "urban = opcsim.load_distribution(\"Urban\")\n",
    "\n",
    "# evaluate the number-weighted distribution\n",
    "opc.evaluate(distribution=urban)"
   ]
  },
  {
   "cell_type": "markdown",
   "metadata": {},
   "source": [
    "To compare to the `simple` method, we can grab that data as well:"
   ]
  },
  {
   "cell_type": "code",
   "execution_count": null,
   "metadata": {},
   "outputs": [],
   "source": [
    "opc.evaluate(urban, method='simple')"
   ]
  },
  {
   "cell_type": "markdown",
   "metadata": {},
   "source": [
    "As you can see, they are similar, but not exactly the same. What if we want to grab $dV/dlogD_p$?"
   ]
  },
  {
   "cell_type": "code",
   "execution_count": null,
   "metadata": {},
   "outputs": [],
   "source": [
    "opc.evaluate(urban, weight='volume')"
   ]
  },
  {
   "cell_type": "markdown",
   "metadata": {},
   "source": [
    "## `opcsim.OPC.number`\n",
    "\n",
    "Although the log-weighted values are ideal for visualization, when it comes to evaluating the OPC performance, we want the actual number of particles, surface area, or volume within each bin. To get this data, we could either multiply the above results by the log difference of the bins, or we can use one of the other methods made available.\n",
    "\n",
    "The `opcsim.OPC.number` method returns the total number of particles the OPC \"sees\" in each bin per a given distribution. You can also access the \"True\" number of particles in each bin (i.e. the integrated CDF of the underyling aerosol distribution) by changing the `measured` argument to be `False`.\n",
    "\n",
    "For example, let's grab the total number of particles/cc in each bin of the previous OPC per the Urban distribution:"
   ]
  },
  {
   "cell_type": "code",
   "execution_count": null,
   "metadata": {},
   "outputs": [],
   "source": [
    "opc.number(urban)"
   ]
  },
  {
   "cell_type": "markdown",
   "metadata": {},
   "source": [
    "The \"True\" number of particles in each bin can be calculated as follows:"
   ]
  },
  {
   "cell_type": "code",
   "execution_count": null,
   "metadata": {},
   "outputs": [],
   "source": [
    "opc.number(urban, measured=False)"
   ]
  },
  {
   "cell_type": "markdown",
   "metadata": {},
   "source": [
    "These look the same! Well, that's because we have set the counting efficiency for this OPC simulation to be 100%. If we were to set it to something else, we would see a different result."
   ]
  },
  {
   "cell_type": "markdown",
   "metadata": {},
   "source": [
    "## `opcsim.OPC.surface_area`\n",
    "\n",
    "Similar to the `number` method above, we can do the same for surface area.\n",
    "\n",
    "To get the surface area within each bin, we do the following:"
   ]
  },
  {
   "cell_type": "code",
   "execution_count": null,
   "metadata": {},
   "outputs": [],
   "source": [
    "opc.surface_area(urban)"
   ]
  },
  {
   "cell_type": "markdown",
   "metadata": {},
   "source": [
    "## `opcsim.OPC.volume`\n",
    "\n",
    "Similar to the `number`  and `surface_area` methods above, we can do the same for volume.\n",
    "\n",
    "To get the volume within each bin, we do the following:"
   ]
  },
  {
   "cell_type": "code",
   "execution_count": null,
   "metadata": {},
   "outputs": [],
   "source": [
    "opc.volume(urban)"
   ]
  },
  {
   "cell_type": "markdown",
   "metadata": {
    "deletable": true,
    "editable": true
   },
   "source": [
    "## Plotting OPC Response to the Urban Distribution\n",
    "\n",
    "Now that we know how to evaluate the response of an OPC to the urban distribution, how can we easily visualize it? Well, we have the handy function `opcsim.plots.histplot` to do that! All we need is the data to plot (evaluated PDF) and the OPC bins.\n",
    "\n",
    "Let's go ahead and plot the response of a 10-bin OPC to the Urban Aerosol Distribution:"
   ]
  },
  {
   "cell_type": "code",
   "execution_count": null,
   "metadata": {
    "deletable": true,
    "editable": true
   },
   "outputs": [],
   "source": [
    "# Set the 10-bin OPC\n",
    "opc = opcsim.OPC(n_bins=10, dmin=0.3, dmax=2.5)\n",
    "\n",
    "# Load the urban distribution\n",
    "urban = opcsim.load_distribution(\"Urban\")\n",
    "\n",
    "# Plot\n",
    "ax = opcsim.plots.histplot(opc.evaluate(urban), opc.bins)\n",
    "\n",
    "ax.set_ylabel(\"$dN/dlogD_p$\")\n",
    "\n",
    "# Remove the spine\n",
    "sns.despine()"
   ]
  },
  {
   "cell_type": "markdown",
   "metadata": {
    "deletable": true,
    "editable": true
   },
   "source": [
    "Why don't we go ahead and overlay the distribution itself:"
   ]
  },
  {
   "cell_type": "code",
   "execution_count": null,
   "metadata": {
    "deletable": true,
    "editable": true
   },
   "outputs": [],
   "source": [
    "# Plot\n",
    "ax = opcsim.plots.histplot(opc.evaluate(urban), opc.bins)\n",
    "\n",
    "# Add the distribution to the plot\n",
    "ax = opcsim.plots.pdfplot(urban, ax=ax)\n",
    "\n",
    "ax.set_ylabel(\"$dN/dlogD_p$\")\n",
    "\n",
    "sns.despine()"
   ]
  },
  {
   "cell_type": "markdown",
   "metadata": {
    "deletable": true,
    "editable": true
   },
   "source": [
    "The above plots are in number-space. The primary use of these low-cost sensors is to estimate mass, so why don't we go ahead and plot this in volume space?"
   ]
  },
  {
   "cell_type": "code",
   "execution_count": null,
   "metadata": {
    "deletable": true,
    "editable": true
   },
   "outputs": [],
   "source": [
    "# Plot\n",
    "ax = opcsim.plots.histplot(opc.evaluate(urban, weight='volume'), opc.bins)\n",
    "\n",
    "# Add the distribution to the plot\n",
    "ax = opcsim.plots.pdfplot(urban, weight='volume', ax=ax)\n",
    "\n",
    "ax.set_ylabel(\"$dV/dlogD_p$\")\n",
    "\n",
    "sns.despine()"
   ]
  },
  {
   "cell_type": "markdown",
   "metadata": {
    "collapsed": true,
    "deletable": true,
    "editable": true
   },
   "source": [
    "Each of these plots uses the `method='subint'` integration method. How does it change if we use the `simple` method instead?"
   ]
  },
  {
   "cell_type": "code",
   "execution_count": null,
   "metadata": {},
   "outputs": [],
   "source": [
    "# Plot\n",
    "ax = opcsim.plots.histplot(opc.evaluate(urban, weight='volume'), opc.bins)\n",
    "ax = opcsim.plots.histplot(opc.evaluate(urban, weight='volume', method='simple'), opc.bins, ax=ax)\n",
    "\n",
    "# Add the distribution to the plot\n",
    "ax = opcsim.plots.pdfplot(urban, weight='volume', ax=ax)\n",
    "\n",
    "ax.set_ylabel(\"$dV/dlogD_p$\")\n",
    "\n",
    "ax.legend([\"Urban PDF\", \"subint\", \"simple\"], loc='best')\n",
    "\n",
    "sns.despine()"
   ]
  },
  {
   "cell_type": "markdown",
   "metadata": {},
   "source": [
    "So it doesn't look too different from this picture, but it can have reasonable impacts. That should be a fairly in depth introduction to setting up, evaluating, and visualizing a simulated OPC."
   ]
  },
  {
   "cell_type": "code",
   "execution_count": null,
   "metadata": {},
   "outputs": [],
   "source": []
  }
 ],
 "metadata": {
  "kernelspec": {
   "display_name": "Python 3",
   "language": "python",
   "name": "python3"
  },
  "language_info": {
   "codemirror_mode": {
    "name": "ipython",
    "version": 3
   },
   "file_extension": ".py",
   "mimetype": "text/x-python",
   "name": "python",
   "nbconvert_exporter": "python",
   "pygments_lexer": "ipython3",
   "version": "3.6.0"
  }
 },
 "nbformat": 4,
 "nbformat_minor": 2
}
