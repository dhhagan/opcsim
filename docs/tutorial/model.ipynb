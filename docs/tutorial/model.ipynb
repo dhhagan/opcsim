{
 "cells": [
  {
   "cell_type": "raw",
   "metadata": {},
   "source": [
    ".. _model_tutorial:\n"
   ]
  },
  {
   "cell_type": "markdown",
   "metadata": {},
   "source": [
    "# Using OPCSIM to Build and Model an Optical Particle Counter (OPC)\n",
    "\n",
    "The following tutorial will show you how a low-cost OPC is represented when using the opcsim software. You will learn how to build a model OPC, how to mimic a calibration for specific aerosols, and how to evaluate the OPC against a simulated aerosol distribution. Visualization tools will also be discussed.\n",
    "\n",
    "First, we import the python libraries we need and set the styles used for plotting throughout this tutorial."
   ]
  },
  {
   "cell_type": "code",
   "execution_count": 2,
   "metadata": {},
   "outputs": [
    {
     "name": "stdout",
     "output_type": "stream",
     "text": [
      "0.3.0+7.g7d474c8\n"
     ]
    }
   ],
   "source": [
    "# Make imports\n",
    "import opcsim\n",
    "import numpy as np\n",
    "import matplotlib.pyplot as plt\n",
    "import matplotlib.ticker as mticks\n",
    "import seaborn as sns\n",
    "\n",
    "%matplotlib inline\n",
    "\n",
    "# turn off warnings temporarily\n",
    "import warnings\n",
    "warnings.simplefilter('ignore')\n",
    "\n",
    "# Let's set some default seaborn settings\n",
    "sns.set(context='notebook', style='ticks', palette='dark', font_scale=1.75, \n",
    "        rc={'figure.figsize': (12,6), **opcsim.plots.rc_log})\n",
    "\n",
    "print (opcsim.__version__)"
   ]
  },
  {
   "cell_type": "markdown",
   "metadata": {},
   "source": [
    "# The OPC Model\n",
    "\n",
    "The `opcsim.OPC` class provides a simple way to model most of the functionality of low-cost optical particle counters. This model is based on just a few instrument parameters which should be defined in the manufacturer's speficication sheet. \n",
    "\n",
    "An OPC is defined by just the laser wavelength (`wl`), the exact `bins` the OPC uses as its output, and the angles for which the scattered light is collected between (`theta`). Other work has considered much more detail that this, including the electrical properties and characteristics of the photodetector, etc. However, this typically requires knowledge or information that is not commonly available in the datasheet of a low-cost particle counter, and thus we try to provide a method that does not rely on this information. \n",
    "\n",
    "Within the software itself, there is flexibility in how exactly you define the bins. In the end, you will end up with a 3xn array of values, where n is the number of bins. Each bin is then defined by its left bin boundary, midpoint, and right bin boundary. \n",
    " \n",
    "To simulate an OPC using the `opcsim.OPC` class, we initiate as follows:"
   ]
  },
  {
   "cell_type": "code",
   "execution_count": 3,
   "metadata": {},
   "outputs": [
    {
     "data": {
      "text/plain": [
       "<class 'opcsim.models.OPC'>"
      ]
     },
     "execution_count": 3,
     "metadata": {},
     "output_type": "execute_result"
    }
   ],
   "source": [
    "opc = opcsim.OPC(wl=0.658, n_bins=5, theta=(32., 88.))\n",
    "\n",
    "opc"
   ]
  },
  {
   "cell_type": "markdown",
   "metadata": {},
   "source": [
    "When initiated with no arguments, the default arguments are used and can be looked up in the API documentation. This sets $dmin=0.5\\;\\mu m$, $dmax=2.5\\;\\mu m$, and $n_{bins}=5$. We can view the number of bins using the `OPC.n_bins` attribute."
   ]
  },
  {
   "cell_type": "code",
   "execution_count": 4,
   "metadata": {},
   "outputs": [
    {
     "data": {
      "text/plain": [
       "5"
      ]
     },
     "execution_count": 4,
     "metadata": {},
     "output_type": "execute_result"
    }
   ],
   "source": [
    "opc.n_bins"
   ]
  },
  {
   "cell_type": "markdown",
   "metadata": {},
   "source": [
    "We can also view the bin boundaries and midpoint diameters using the `OPC.bins` attribute. Here, we receieve a **3xn** array where the first entry is the left bin boundary, the middle is the midpoint diameter, and the last entry is the right bin boundary."
   ]
  },
  {
   "cell_type": "code",
   "execution_count": 5,
   "metadata": {},
   "outputs": [
    {
     "data": {
      "text/plain": [
       "array([[0.5       , 0.58730947, 0.68986483],\n",
       "       [0.68986483, 0.8103283 , 0.95182697],\n",
       "       [0.95182697, 1.11803399, 1.3132639 ],\n",
       "       [1.3132639 , 1.54258466, 1.81194916],\n",
       "       [1.81194916, 2.12834981, 2.5       ]])"
      ]
     },
     "execution_count": 5,
     "metadata": {},
     "output_type": "execute_result"
    }
   ],
   "source": [
    "opc.bins"
   ]
  },
  {
   "cell_type": "markdown",
   "metadata": {},
   "source": [
    "## Building more specific OPC's\n",
    "\n",
    "We can build more complex - or specified - models by increasing the number of bins in a couple of ways: (1) we can change the minimum or maximum cutoffs, or the total number of bins:"
   ]
  },
  {
   "cell_type": "code",
   "execution_count": 6,
   "metadata": {},
   "outputs": [
    {
     "data": {
      "text/plain": [
       "array([[ 0.38      ,  0.46019969,  0.55732566],\n",
       "       [ 0.55732566,  0.67495025,  0.81739972],\n",
       "       [ 0.81739972,  0.98991341,  1.19883643],\n",
       "       [ 1.19883643,  1.45185303,  1.75826924],\n",
       "       [ 1.75826924,  2.12935514,  2.57875939],\n",
       "       [ 2.57875939,  3.12301123,  3.78212839],\n",
       "       [ 3.78212839,  4.58035343,  5.54704531],\n",
       "       [ 5.54704531,  6.71775925,  8.13555449],\n",
       "       [ 8.13555449,  9.85257798, 11.93198238],\n",
       "       [11.93198238, 14.45024885, 17.5       ]])"
      ]
     },
     "execution_count": 6,
     "metadata": {},
     "output_type": "execute_result"
    }
   ],
   "source": [
    "opc_10bins = opcsim.OPC(wl=0.658, n_bins=10, dmin=0.38, dmax=17.5)\n",
    "\n",
    "opc_10bins.bins"
   ]
  },
  {
   "cell_type": "markdown",
   "metadata": {},
   "source": [
    "If we are trying to model a specific OPC that has pre-defined bins, we can also do that with the help of some utility methods. The bins argument in the OPC class requires a **3xn** array as seen above. Often, you may only have the bin boundary information and not the midpoints. We can define the bins as an array of the bin boundaries, where there are 1 more entries than total number of bins, as follows:"
   ]
  },
  {
   "cell_type": "code",
   "execution_count": 7,
   "metadata": {},
   "outputs": [
    {
     "data": {
      "text/plain": [
       "array([[0.38      , 0.45299007, 0.54      ],\n",
       "       [0.54      , 0.64899923, 0.78      ],\n",
       "       [0.78      , 0.90498619, 1.05      ],\n",
       "       [1.05      , 1.25499004, 1.5       ],\n",
       "       [1.5       , 1.93649167, 2.5       ]])"
      ]
     },
     "execution_count": 7,
     "metadata": {},
     "output_type": "execute_result"
    }
   ],
   "source": [
    "opc = opcsim.OPC(wl=0.658, bins=[0.38, 0.54, 0.78, 1.05, 1.5, 2.5])\n",
    "\n",
    "opc.bins"
   ]
  },
  {
   "cell_type": "markdown",
   "metadata": {},
   "source": [
    "This more or less covers how we can build various OPC's - if you are still unsure of what to do in a specific case, feel free to post questions on the GitHub repository under the 'Issues' tab."
   ]
  },
  {
   "cell_type": "markdown",
   "metadata": {},
   "source": [
    "# OPC Calibration\n",
    "\n",
    "Probably the most important part of our representation is how we calibrate our sensor. Unlike nephelometers of photometers, OPC's scatter the light off of, and count, each and every particle (unless there are too many and coincidence becomes an issue, but that's a whole different problem). The light scattered off a particle is proportional to the scattering cross-section of the particle in question. To represent this in our model, we perform Mie Theory calculations for each and every particle in the aerosol distribution, calculating the scattering cross-section ($C_{scat}$) assuming the particle is spherical and has some refractive index as defined when you built the distribution. \n",
    "\n",
    "To determine which particle size bin a certain $C_{scat}$ value belongs to, we must calibrate the sensor. There are many ways to do this, and they are documented throughout the literature, especially for expensive, nice OPC's. Our goal is to come up with a functional relationship that returns an OPC particle size bin for any given $C_{scat}$ value. We provide two simple methods as built-in options within the software, but users can elect to define their own.\n",
    "\n",
    "\n",
    "First, let's take a look at what a simple scattering pattern looks like for an OPC with a wavelength of 658 nm and a collection angle of 32-88 degrees, assuming we are using PSL's."
   ]
  },
  {
   "cell_type": "code",
   "execution_count": 8,
   "metadata": {},
   "outputs": [
    {
     "data": {
      "text/plain": [
       "<class 'opcsim.models.OPC'>"
      ]
     },
     "execution_count": 8,
     "metadata": {},
     "output_type": "execute_result"
    }
   ],
   "source": [
    "opc = opcsim.OPC(wl=0.658, theta=(32.0, 88.0), n_bins=10)\n",
    "\n",
    "opc"
   ]
  },
  {
   "cell_type": "code",
   "execution_count": 9,
   "metadata": {},
   "outputs": [
    {
     "data": {
      "image/png": "[encoded data removed]",
      "text/plain": [
       "<Figure size 432x432 with 1 Axes>"
      ]
     },
     "metadata": {},
     "output_type": "display_data"
    }
   ],
   "source": [
    "# generate an array of particle diameters\n",
    "dp = np.logspace(-1, 1.25, 250)\n",
    "vals = [opcsim.mie.cscat(x, wl=0.658, refr=complex(1.59, 0), theta1=32., theta2=88.) for x in dp]\n",
    "\n",
    "fig, ax = plt.subplots(1, figsize=(6, 6))\n",
    "\n",
    "ax.plot(dp, vals, lw=3)\n",
    "\n",
    "ax.semilogx()\n",
    "ax.semilogy()\n",
    "\n",
    "ax.set_title(\"Calibration Curve for PSLs\", y=1.02)\n",
    "ax.set_xlabel(\"$D_p\\;[\\mu m]$\")\n",
    "ax.set_ylabel(\"$C_{scat}$\")\n",
    "\n",
    "sns.despine(offset=5)"
   ]
  },
  {
   "cell_type": "markdown",
   "metadata": {},
   "source": [
    "As we can see in the figure above, there are $C_{scat}$ values that are not monotonically increasing as the particle diameter increases, which may make it difficult to assign that value to 1 bin specifically. This is a very well known and documented issue with OPC's and should play a role in choosing bin boundaries. Additionally, it only gets more complicated as the particle optical properties change!\n",
    "\n",
    "Now, we will examine the two simple approaches to modeling our ways out of this."
   ]
  },
  {
   "cell_type": "markdown",
   "metadata": {},
   "source": [
    "## Method 1: `smooth`\n",
    "\n",
    "If we were to plot the bin boundaries for a given OPC on the figure above, we would likely see periods where the $C_{scat}$ value decreases from one bin boundary to the next, which makes our life difficult. Thus, we can smooth it out by simply interpolating across any of these 'down' periods. Note that this can make it quite difficult for particles to get assigned to certain bins, especially if the $C_{scat}$ values plateau - this can be somewhat solved by combining these bins into one bin to reduce the uncertainty in bin assignment, though it will make the correct particle sizing in that bin less precise as well.\n",
    "\n",
    "We can examine how this works by showing a quick example. Let's grab the $C_{scat}$ values for the OPC above at each bin boundary:"
   ]
  },
  {
   "cell_type": "code",
   "execution_count": 10,
   "metadata": {},
   "outputs": [
    {
     "data": {
      "text/plain": [
       "array([0.5       , 0.58730947, 0.68986483, 0.8103283 , 0.95182697,\n",
       "       1.11803399, 1.3132639 , 1.54258466, 1.81194916, 2.12834981,\n",
       "       2.5       ])"
      ]
     },
     "execution_count": 10,
     "metadata": {},
     "output_type": "execute_result"
    }
   ],
   "source": [
    "opc.bin_boundaries"
   ]
  },
  {
   "cell_type": "code",
   "execution_count": 11,
   "metadata": {},
   "outputs": [
    {
     "data": {
      "text/plain": [
       "array([2.86492750e-09, 4.48206290e-09, 5.25272279e-09, 6.02393845e-09,\n",
       "       6.64256044e-09, 9.09772227e-09, 1.25785156e-08, 1.25676003e-08,\n",
       "       1.40492264e-08, 1.99683184e-08, 4.17442631e-08])"
      ]
     },
     "execution_count": 11,
     "metadata": {},
     "output_type": "execute_result"
    }
   ],
   "source": [
    "v = np.array([opcsim.mie.cscat(x, wl=0.658, theta1=32.,\n",
    "                                      theta2=88., refr=complex(1.59, 0)) for x in opc.bin_boundaries])\n",
    "\n",
    "# print out the cscat values for each bin boundary\n",
    "v"
   ]
  },
  {
   "cell_type": "markdown",
   "metadata": {},
   "source": [
    "Let's check to see if there are any points where the value actually decreases as the particle diameter increases."
   ]
  },
  {
   "cell_type": "code",
   "execution_count": 12,
   "metadata": {},
   "outputs": [
    {
     "data": {
      "text/plain": [
       "array([False, False, False, False, False, False,  True, False, False,\n",
       "       False])"
      ]
     },
     "execution_count": 12,
     "metadata": {},
     "output_type": "execute_result"
    }
   ],
   "source": [
    "np.diff(v) < 0"
   ]
  },
  {
   "cell_type": "markdown",
   "metadata": {},
   "source": [
    "Yup! We got one. So, let's apply the `opcsim.utils.squash_dips` function to remove them:"
   ]
  },
  {
   "cell_type": "code",
   "execution_count": 13,
   "metadata": {},
   "outputs": [
    {
     "data": {
      "text/plain": [
       "array([2.86492750e-09, 4.48206290e-09, 5.25272279e-09, 6.02393845e-09,\n",
       "       6.64256044e-09, 9.09772227e-09, 1.08326613e-08, 1.25676003e-08,\n",
       "       1.40492264e-08, 1.99683184e-08, 4.17442631e-08])"
      ]
     },
     "execution_count": 13,
     "metadata": {},
     "output_type": "execute_result"
    }
   ],
   "source": [
    "opcsim.utils.squash_dips(v)"
   ]
  },
  {
   "cell_type": "markdown",
   "metadata": {},
   "source": [
    "We can see above that the offending value has now been modified."
   ]
  },
  {
   "cell_type": "markdown",
   "metadata": {},
   "source": [
    "## Method 2: `linear`\n",
    "\n",
    "The second approach to generating our map of $C_{scat}$ to $D_p$ values is to fit a line to the data in log-log space. Here, we begin by plotting the bin boundaries on top of the PSL scattering line for an OPC that models the Alphasense OPC-N2."
   ]
  },
  {
   "cell_type": "code",
   "execution_count": 14,
   "metadata": {},
   "outputs": [
    {
     "data": {
      "image/png": "[encoded data removed]",
      "text/plain": [
       "<Figure size 576x576 with 1 Axes>"
      ]
     },
     "metadata": {},
     "output_type": "display_data"
    }
   ],
   "source": [
    "from scipy.interpolate import interp1d\n",
    "\n",
    "fig, ax = plt.subplots(1, figsize=(8, 8))\n",
    "\n",
    "ax.plot(dp, vals, lw=3)\n",
    "\n",
    "ax.set_xlabel(\"$D_p$, $\\mu m$\")\n",
    "ax.set_ylabel(\"$C_{scat}$, $cm^2$/particle\")\n",
    "\n",
    "# draw some bins\n",
    "f = interp1d(x=dp, y=vals)\n",
    "\n",
    "bb = np.array([0.38, 0.54, 0.78, 1.05, 1.34, 1.59, 2.07, 3., 4., \n",
    "               5., 6.5, 8., 10., 12., 14., 16., 17.5])\n",
    "\n",
    "ax.scatter(bb, f(bb), color='r', s=50, label=\"OPC-N2 Bin Boundaries\")\n",
    "ax.legend()\n",
    "\n",
    "ax.semilogx()\n",
    "ax.semilogy()\n",
    "\n",
    "sns.despine(offset=5)"
   ]
  },
  {
   "cell_type": "markdown",
   "metadata": {},
   "source": [
    "We can fit a line to these data points, which will generate an easy mapping between the two values - however, it will likely undersize particles in some regions and oversize them in others. You can easily create complicated polynomial or machine-learning approaches to matching these values; however, it will all get thrown into chaos when we begin to incorporate particles of various optical properties and morphologies."
   ]
  },
  {
   "cell_type": "markdown",
   "metadata": {},
   "source": [
    "## So, how do we calibrate our sensor?\n",
    "\n",
    "It is recommended you begin with one of the two approaches above, which are both built into the `OPC.calibrate` function. Once you get a hang of those, you can go ahead and get more sophisticated.\n",
    "\n",
    "To calibrate our sensor, we simply define the material we want to use to calibrate. We can define the material in one of two ways: \n",
    "\n",
    "  1. you can input a string with the material name\n",
    "  2. you can input the materials complex refractive index at the wavelength of your device\n",
    "  \n",
    "The material lookup table is quite limited and are mostly values taken as close to 658 nm as possible. If you would like to add to this table, please open an issue on GitHub.\n",
    "\n",
    "### Current Options\n",
    "\n",
    "| option | Material | Refractive Index |\n",
    "|:------:|:--------:|:----------------:|\n",
    "| `psl` | Polystyrene Latex Spheres | 1.592 + 0i |\n",
    "| `ammonium_sulfate` | Ammonium Sulfate | 1.521 + 0i |\n",
    "| `sodium_chloride` | Sodium Chloride | 1.5405 + 0i |\n",
    "| `sodium_nitrate` | Sodium Nitrate | 1.448 + 0i |\n",
    "| `black_carbon` | Black Carbon | 1.95 + 0.79i |\n",
    "| `sulfuric_acid` | Sulfuric Acid | 1.427 + 0i |\n",
    "| `soa` | Secondary Organic Aerosol | 1.4 + 0.002i |\n",
    "| `h20` | Water | 1.333 + 0i |\n",
    "\n",
    "\n",
    "To use the method, we simply state the material and the method. We can also get more complicated (check the API docs) if you want to send custom arguments to the fitting function, etc. A simple example would be:"
   ]
  },
  {
   "cell_type": "code",
   "execution_count": 15,
   "metadata": {},
   "outputs": [
    {
     "data": {
      "text/plain": [
       "functools.partial(<bound method OPC._digitize_opc_bins of <class 'opcsim.models.OPC'>>, cscat_boundaries=array([2.86492750e-09, 4.48206290e-09, 5.25272279e-09, 6.02393845e-09,\n",
       "       6.64256044e-09, 9.09772227e-09, 1.08326613e-08, 1.25676003e-08,\n",
       "       1.40492264e-08, 1.99683184e-08, 4.17442631e-08]))"
      ]
     },
     "execution_count": 15,
     "metadata": {},
     "output_type": "execute_result"
    }
   ],
   "source": [
    "opc.calibrate(\"psl\", method=\"smooth\")\n",
    "\n",
    "opc.calibration_function"
   ]
  },
  {
   "cell_type": "markdown",
   "metadata": {},
   "source": [
    "Alternatively, we could calibrate using the linear fit:"
   ]
  },
  {
   "cell_type": "code",
   "execution_count": 26,
   "metadata": {},
   "outputs": [
    {
     "data": {
      "text/plain": [
       "functools.partial(<bound method OPC._digitize_opc_bins of <class 'opcsim.models.OPC'>>, cscat_boundaries=array([3.12354813e-09, 3.85694293e-09, 4.76253547e-09, 5.88075700e-09,\n",
       "       7.26153183e-09, 8.96650627e-09, 1.10718009e-08, 1.36714091e-08,\n",
       "       1.68813933e-08, 2.08450672e-08, 2.57393936e-08]))"
      ]
     },
     "execution_count": 26,
     "metadata": {},
     "output_type": "execute_result"
    }
   ],
   "source": [
    "opc.calibrate(\"psl\", method=\"linear\")\n",
    "\n",
    "opc.calibration_function"
   ]
  },
  {
   "cell_type": "markdown",
   "metadata": {},
   "source": [
    "When the calibration is executed, it saves the calibration function, which is a digitizer which simply uses the $C_{scat}$ values we computed at each bin boundary during the calibration to return the OPC bin for any given $C_{scat}$ value. If a $C_{scat}$ value is either too high or too low (above or below the boundaries we computed), then it will not assign that particle to a bin.\""
   ]
  },
  {
   "cell_type": "markdown",
   "metadata": {},
   "source": [
    "# Evaluating an OPC for a given Aerosol Distribution\n",
    "\n",
    "The entire point of this software is to model how various OPC's and other particle sensors \"see\" aerosols in the real world. The Aerosol Distribution tutorial showed how we can model realistic aerosol distributions. This section will review how the OPC's we just built \"see\" these distributions. Generally speaking, the process works as follows:\n",
    "\n",
    "  1. For every particle in the aerosol distribution, we calculate the scattering cross-section\n",
    "  2. For each of the scattering cross-section's we just calculated, we assign them to a bin of the OPC based on the calibration curve we generated\n",
    "  3. We end up with a histogram in the form of the cumulative number of particles in each OPC bin, just as we would if we were using a commercially available OPC\n",
    "  \n",
    "  \n",
    "The base method we use to obtain these numbers is `OPC.evaluate`. This method returns the number of particles the OPC \"sees\" in each bin for a given aerosol distribution. One component that hasn't yet been discussed is how the OPC reacts as relative humidity changes. Each of these methods takes an argument for relative humidity (`rh`) which will automatically calculate the change in particle size due to hygroscopic growth per $\\kappa$-kohler theory; the refractive index and density will also change accordingly based on the amount of growth that takes place.\n",
    "\n",
    "To evaluate a distribution, we need to first define the AerosolDistribution and the OPC.\n",
    "\n",
    "  * Show examples for a few different scenarios, including growth due to RH\n",
    "  * show examples for different calibration approaches"
   ]
  },
  {
   "cell_type": "code",
   "execution_count": 27,
   "metadata": {},
   "outputs": [
    {
     "data": {
      "text/plain": [
       "AerosolDistribution: Amm. Sulfate"
      ]
     },
     "execution_count": 27,
     "metadata": {},
     "output_type": "execute_result"
    }
   ],
   "source": [
    "# build a single mode of ammonium sulfate\n",
    "d = opcsim.AerosolDistribution(\"Amm. Sulfate\")\n",
    "\n",
    "d.add_mode(n=1e3, gm=250e-3, gsd=1.65, kappa=0.53, rho=1.77, refr=complex(1.521, 0))\n",
    "\n",
    "d"
   ]
  },
  {
   "cell_type": "code",
   "execution_count": 28,
   "metadata": {},
   "outputs": [
    {
     "data": {
      "text/plain": [
       "<class 'opcsim.models.OPC'>"
      ]
     },
     "execution_count": 28,
     "metadata": {},
     "output_type": "execute_result"
    }
   ],
   "source": [
    "# build an OPC\n",
    "opc = opcsim.OPC(wl=0.658, n_bins=24, dmin=0.35, dmax=40.)\n",
    "\n",
    "opc"
   ]
  },
  {
   "cell_type": "markdown",
   "metadata": {},
   "source": [
    "Let's go ahead and calibrate the OPC using ammonium sulfate:"
   ]
  },
  {
   "cell_type": "code",
   "execution_count": 29,
   "metadata": {},
   "outputs": [],
   "source": [
    "opc.calibrate(\"ammonium_sulfate\", method=\"smooth\")\n",
    "\n",
    "# ax = opcsim.plots.calibration_plot(opc)"
   ]
  },
  {
   "cell_type": "markdown",
   "metadata": {},
   "source": [
    "Now, let's go ahead and evaluate the OPC for the previously defined distribution. This will return the number of particles in each bin:"
   ]
  },
  {
   "cell_type": "code",
   "execution_count": 30,
   "metadata": {},
   "outputs": [
    {
     "data": {
      "text/plain": [
       "array([26., 27., 29., 30., 31., 31.,  0., 32., 65., 32., 32., 32., 31.,\n",
       "       30., 29., 28., 27., 25., 24., 22., 21., 19., 17., 16.])"
      ]
     },
     "execution_count": 30,
     "metadata": {},
     "output_type": "execute_result"
    }
   ],
   "source": [
    "vals = opc.evaluate(d, rh=0.0)\n",
    "\n",
    "vals"
   ]
  },
  {
   "cell_type": "markdown",
   "metadata": {},
   "source": [
    "## Interating across the Particle Size Distribution\n",
    "\n",
    "Another important task for evaluation OPC's is comparing the integrated values across some pre-defined particle size range. We can accomplish this by using the `OPC.integrate` method to calculate either the total number of particles, total surface area, total volume, or total mass betweeen any two diameters.\n",
    "\n",
    "Example:"
   ]
  },
  {
   "cell_type": "code",
   "execution_count": 31,
   "metadata": {},
   "outputs": [
    {
     "data": {
      "text/plain": [
       "270.4496495656295"
      ]
     },
     "execution_count": 31,
     "metadata": {},
     "output_type": "execute_result"
    }
   ],
   "source": [
    "opc.integrate(d, dmin=0., dmax=2.5, weight='number', rh=0.)"
   ]
  },
  {
   "cell_type": "code",
   "execution_count": 35,
   "metadata": {},
   "outputs": [
    {
     "data": {
      "text/plain": [
       "484.0732214371468"
      ]
     },
     "execution_count": 35,
     "metadata": {},
     "output_type": "execute_result"
    }
   ],
   "source": [
    "opc.integrate(d, dmin=0., dmax=10.0, weight='number', rh=0.)"
   ]
  },
  {
   "cell_type": "code",
   "execution_count": 32,
   "metadata": {},
   "outputs": [
    {
     "data": {
      "text/plain": [
       "230.46684801670358"
      ]
     },
     "execution_count": 32,
     "metadata": {},
     "output_type": "execute_result"
    }
   ],
   "source": [
    "opc.integrate(d, dmin=0., dmax=2.5, weight='number', rh=55.)"
   ]
  },
  {
   "cell_type": "markdown",
   "metadata": {},
   "source": [
    "## Visualizing the OPC Histogram\n",
    "\n",
    "Last, it is fairly useful and important for us to be able to easily visualize our results. There are functions built-in to compute the histogram to use with `opcsim.plots.histplot` to easily plot the particle size distribution.\n",
    "\n",
    "Let's go ahead and visualize our results from earlier:"
   ]
  },
  {
   "cell_type": "code",
   "execution_count": 33,
   "metadata": {},
   "outputs": [],
   "source": [
    "# compute the histogram\n",
    "lb, data1, ddp = opc.histogram(d, weight=\"number\", base=\"log10\", rh=0.0)\n",
    "lb, data2, ddp = opc.histogram(d, weight=\"number\", base=\"log10\", rh=65.0)"
   ]
  },
  {
   "cell_type": "code",
   "execution_count": 37,
   "metadata": {},
   "outputs": [
    {
     "data": {
      "image/png": "[encoded data removed]",
      "text/plain": [
       "<Figure size 576x432 with 1 Axes>"
      ]
     },
     "metadata": {},
     "output_type": "display_data"
    }
   ],
   "source": [
    "fig, ax = plt.subplots(1, figsize=(8, 6))\n",
    "\n",
    "ax = opcsim.plots.pdfplot(d, ax=ax, weight=\"number\")\n",
    "ax = opcsim.plots.histplot(data=data1, bins=opc.bins, ax=ax, label=\"RH=0%\")\n",
    "ax = opcsim.plots.histplot(data=data2, bins=opc.bins, ax=ax, label=\"RH=65%\")\n",
    "\n",
    "ax.set_ylim(0, None)\n",
    "ax.set_xlim(0.01, None)\n",
    "ax.legend()\n",
    "\n",
    "sns.despine()"
   ]
  },
  {
   "cell_type": "code",
   "execution_count": 38,
   "metadata": {},
   "outputs": [
    {
     "data": {
      "text/plain": [
       "functools.partial(<bound method OPC._digitize_opc_bins of <class 'opcsim.models.OPC'>>, cscat_boundaries=array([7.44020097e-10, 1.79567086e-09, 2.93096527e-09, 4.87698154e-09,\n",
       "       6.44459286e-09, 7.37969481e-09, 1.02192110e-08, 1.26761207e-08,\n",
       "       1.51330305e-08, 2.45223702e-08, 2.96253571e-08, 5.28283210e-08,\n",
       "       6.99991826e-08, 9.86616917e-08, 1.39255620e-07, 2.16689630e-07,\n",
       "       3.07260588e-07, 4.33470793e-07, 6.35509746e-07, 9.84062030e-07,\n",
       "       1.39479549e-06, 2.06632471e-06, 3.03271231e-06, 4.44066840e-06,\n",
       "       6.60550863e-06]))"
      ]
     },
     "execution_count": 38,
     "metadata": {},
     "output_type": "execute_result"
    }
   ],
   "source": [
    "opc.calibration_function"
   ]
  },
  {
   "cell_type": "code",
   "execution_count": 46,
   "metadata": {},
   "outputs": [
    {
     "data": {
      "text/plain": [
       "(1.521+0j)"
      ]
     },
     "execution_count": 46,
     "metadata": {},
     "output_type": "execute_result"
    }
   ],
   "source": [
    "opc.calibration_refr\n"
   ]
  },
  {
   "cell_type": "code",
   "execution_count": 43,
   "metadata": {},
   "outputs": [
    {
     "data": {
      "text/plain": [
       "(0.0875, 10)"
      ]
     },
     "execution_count": 43,
     "metadata": {},
     "output_type": "execute_result"
    }
   ],
   "source": [
    "bounds = ((opc.dmin / 4), 10)\n",
    "bounds"
   ]
  },
  {
   "cell_type": "code",
   "execution_count": 40,
   "metadata": {},
   "outputs": [
    {
     "data": {
      "text/plain": [
       "1000.0"
      ]
     },
     "execution_count": 40,
     "metadata": {},
     "output_type": "execute_result"
    }
   ],
   "source": [
    "ntot = d.cdf(dmin=0, dmax=100, weight=\"number\")\n",
    "ntot"
   ]
  },
  {
   "cell_type": "code",
   "execution_count": 44,
   "metadata": {},
   "outputs": [
    {
     "data": {
      "text/plain": [
       "array([ 0.0875    ,  0.0917901 ,  0.09629055,  0.10101165,  0.10596422,\n",
       "        0.11115962,  0.11660974,  0.12232709,  0.12832475,  0.13461648,\n",
       "        0.14121669,  0.14814051,  0.1554038 ,  0.1630232 ,  0.17101619,\n",
       "        0.17940106,  0.18819705,  0.1974243 ,  0.20710396,  0.21725821,\n",
       "        0.22791033,  0.23908471,  0.25080697,  0.26310397,  0.27600388,\n",
       "        0.28953628,  0.30373217,  0.31862407,  0.33424613,  0.35063412,\n",
       "        0.36782562,  0.38586001,  0.40477863,  0.42462481,  0.44544405,\n",
       "        0.46728406,  0.49019487,  0.51422899,  0.5394415 ,  0.56589017,\n",
       "        0.59363562,  0.62274141,  0.65327426,  0.68530412,  0.7189044 ,\n",
       "        0.75415209,  0.79112796,  0.82991676,  0.87060735,  0.913293  ,\n",
       "        0.95807151,  1.0050455 ,  1.05432261,  1.10601577,  1.16024342,\n",
       "        1.21712985,  1.2768054 ,  1.33940682,  1.40507758,  1.47396816,\n",
       "        1.54623642,  1.62204798,  1.70157656,  1.7850044 ,  1.87252269,\n",
       "        1.96433198,  2.06064265,  2.16167541,  2.26766177,  2.37884462,\n",
       "        2.49547874,  2.61783139,  2.74618297,  2.88082758,  3.02207379,\n",
       "        3.17024526,  3.32568153,  3.48873881,  3.65979074,  3.8392293 ,\n",
       "        4.02746568,  4.22493125,  4.4320785 ,  4.64938212,  4.87734008,\n",
       "        5.11647476,  5.36733414,  5.6304931 ,  5.90655467,  6.19615147,\n",
       "        6.49994711,  6.81863778,  7.15295377,  7.50366117,  7.87156367,\n",
       "        8.25750433,  8.66236756,  9.08708112,  9.53261828, 10.        ])"
      ]
     },
     "execution_count": 44,
     "metadata": {},
     "output_type": "execute_result"
    }
   ],
   "source": [
    "bounds = np.logspace(start=np.log10(bounds[0]), stop=np.log10(bounds[1]), num=int(min(ntot/10, 250)))\n",
    "bounds"
   ]
  },
  {
   "cell_type": "code",
   "execution_count": 57,
   "metadata": {},
   "outputs": [
    {
     "name": "stdout",
     "output_type": "stream",
     "text": [
      "{'label': 'Mode 0', 'N': 1000.0, 'GM': 0.25, 'GSD': 1.65, 'kappa': 0.53, 'rho': 1.77, 'refr': (1.521+0j)}\n",
      "(1.521+0j)\n"
     ]
    }
   ],
   "source": [
    "rh = 0\n",
    "rv = np.array([])\n",
    "\n",
    "for m in d.modes:\n",
    "    print (m)\n",
    "    \n",
    "    # compute the sub-bins\n",
    "    n = np.array([round(d.cdf(dmin=a, dmax=b, mode=m[\"label\"], rh=rh), 0) for a, b in zip(bounds[:-1], bounds[1:])])\n",
    "    \n",
    "    refr = opcsim.utils.ri_eff([m[\"refr\"], 1.333], diams=[m[\"GM\"], opcsim.utils.k_kohler(diam_dry=m[\"GM\"], kappa=m[\"kappa\"], rh=rh) - m[\"GM\"]])\n",
    "    \n",
    "    # \n",
    "    for dp, dn in zip(opc.midpoints,)"
   ]
  },
  {
   "cell_type": "code",
   "execution_count": 61,
   "metadata": {},
   "outputs": [
    {
     "data": {
      "text/plain": [
       "array([0.08961938, 0.0940134 , 0.09862285, 0.1034583 , 0.10853083,\n",
       "       0.11385207, 0.11943421, 0.12529004, 0.13143297, 0.1378771 ,\n",
       "       0.14463717, 0.1517287 , 0.15916791, 0.16697187, 0.17515846,\n",
       "       0.18374643, 0.19275547, 0.20220622, 0.21212034, 0.22252054,\n",
       "       0.23343066, 0.2448757 , 0.25688189, 0.26947675, 0.28268912,\n",
       "       0.29654929, 0.31108902, 0.32634163, 0.34234208, 0.35912702,\n",
       "       0.37673492, 0.39520613, 0.41458298, 0.43490987, 0.45623339,\n",
       "       0.47860239, 0.50206814, 0.5266844 , 0.5525076 , 0.5795969 ,\n",
       "       0.60801438, 0.63782516, 0.66909756, 0.70190323, 0.73631736,\n",
       "       0.7724188 , 0.81029029, 0.85001861, 0.89169479, 0.93541435,\n",
       "       0.98127746, 1.02938923, 1.07985991, 1.13280515, 1.18834629,\n",
       "       1.24661059, 1.30773157, 1.3718493 , 1.4391107 , 1.50966992,\n",
       "       1.58368863, 1.66133646, 1.74279134, 1.82823993, 1.91787805,\n",
       "       2.01191109, 2.11055456, 2.21403448, 2.322588  , 2.43646387,\n",
       "       2.55592304, 2.68123926, 2.81269971, 2.95060562, 3.09527302,\n",
       "       3.24703343, 3.40623461, 3.57324138, 3.74843645, 3.93222129,\n",
       "       4.12501704, 4.32726553, 4.5394302 , 4.76199724, 4.99547669,\n",
       "       5.24040358, 5.49733916, 5.76687223, 6.04962043, 6.3462317 ,\n",
       "       6.65738574, 6.98379559, 7.32620921, 7.68541129, 8.06222495,\n",
       "       8.45751368, 8.87218331, 9.30718409, 9.76351283])"
      ]
     },
     "execution_count": 61,
     "metadata": {},
     "output_type": "execute_result"
    }
   ],
   "source": [
    "opcsim.utils.midpoints(np.array([bounds[:-1], bounds[1:]]).T)[:, 1]"
   ]
  },
  {
   "cell_type": "code",
   "execution_count": 64,
   "metadata": {},
   "outputs": [
    {
     "data": {
      "text/plain": [
       "array([0.08964505, 0.09404032, 0.0986511 , 0.10348793, 0.10856192,\n",
       "       0.11388468, 0.11946842, 0.12532592, 0.13147062, 0.13791658,\n",
       "       0.1446786 , 0.15177215, 0.1592135 , 0.16701969, 0.17520863,\n",
       "       0.18379906, 0.19281068, 0.20226413, 0.21218109, 0.22258427,\n",
       "       0.23349752, 0.24494584, 0.25695547, 0.26955392, 0.28277008,\n",
       "       0.29663422, 0.31117812, 0.3264351 , 0.34244012, 0.35922987,\n",
       "       0.37684282, 0.39531932, 0.41470172, 0.43503443, 0.45636406,\n",
       "       0.47873946, 0.50221193, 0.52683525, 0.55266584, 0.5797629 ,\n",
       "       0.60818852, 0.63800784, 0.66928919, 0.70210426, 0.73652824,\n",
       "       0.77264003, 0.81052236, 0.85026205, 0.89195017, 0.93568225,\n",
       "       0.9815585 , 1.02968405, 1.08016919, 1.13312959, 1.18868663,\n",
       "       1.24696762, 1.30810611, 1.3722422 , 1.43952287, 1.51010229,\n",
       "       1.5841422 , 1.66181227, 1.74329048, 1.82876355, 1.91842734,\n",
       "       2.01248731, 2.11115903, 2.21466859, 2.3232532 , 2.43716168,\n",
       "       2.55665507, 2.68200718, 2.81350527, 2.95145068, 3.09615952,\n",
       "       3.24796339, 3.40721017, 3.57426477, 3.74951002, 3.93334749,\n",
       "       4.12619846, 4.32850487, 4.54073031, 4.7633611 , 4.99690742,\n",
       "       5.24190445, 5.49891362, 5.76852389, 6.05135307, 6.34804929,\n",
       "       6.65929245, 6.98579577, 7.32830747, 7.68761242, 8.064534  ,\n",
       "       8.45993595, 8.87472434, 9.3098497 , 9.76630914])"
      ]
     },
     "execution_count": 64,
     "metadata": {},
     "output_type": "execute_result"
    }
   ],
   "source": [
    "np.mean([bounds[:-1], bounds[1:]], axis=0)"
   ]
  },
  {
   "cell_type": "code",
   "execution_count": null,
   "metadata": {},
   "outputs": [],
   "source": []
  }
 ],
 "metadata": {
  "kernelspec": {
   "display_name": "Python 3",
   "language": "python",
   "name": "python3"
  },
  "language_info": {
   "codemirror_mode": {
    "name": "ipython",
    "version": 3
   },
   "file_extension": ".py",
   "mimetype": "text/x-python",
   "name": "python",
   "nbconvert_exporter": "python",
   "pygments_lexer": "ipython3",
   "version": "3.6.5"
  }
 },
 "nbformat": 4,
 "nbformat_minor": 2
}
