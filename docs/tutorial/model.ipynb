{
 "cells": [
  {
   "cell_type": "raw",
   "metadata": {},
   "source": [
    ".. _model_tutorial:\n"
   ]
  },
  {
   "cell_type": "markdown",
   "metadata": {},
   "source": [
    "# Using OPCSIM to Build and Model an Optical Particle Counter (OPC)\n",
    "\n",
    "The following tutorial will show you how a low-cost OPC is represented when using the opcsim software. You will learn how to build a model OPC, how to mimic a calibration for specific aerosols, and how to evaluate the OPC against a simulated aerosol distribution. Visualization tools will also be discussed.\n",
    "\n",
    "First, we import the python libraries we need and set the styles used for plotting throughout this tutorial."
   ]
  },
  {
   "cell_type": "code",
   "execution_count": 1,
   "metadata": {},
   "outputs": [
    {
     "name": "stdout",
     "output_type": "stream",
     "text": [
      "0.3.0+14.g8325170\n"
     ]
    }
   ],
   "source": [
    "# Make imports\n",
    "import opcsim\n",
    "import numpy as np\n",
    "import matplotlib.pyplot as plt\n",
    "import matplotlib.ticker as mticks\n",
    "import seaborn as sns\n",
    "\n",
    "%matplotlib inline\n",
    "\n",
    "# turn off warnings temporarily\n",
    "import warnings\n",
    "warnings.simplefilter('ignore')\n",
    "\n",
    "# Let's set some default seaborn settings\n",
    "sns.set(context='notebook', style='ticks', palette='dark', font_scale=1.75, \n",
    "        rc={'figure.figsize': (12,6), **opcsim.plots.rc_log})\n",
    "\n",
    "print (opcsim.__version__)"
   ]
  },
  {
   "cell_type": "markdown",
   "metadata": {},
   "source": [
    "# The OPC Model\n",
    "\n",
    "The `opcsim.OPC` class provides a simple way to model most of the functionality of low-cost optical particle counters. This model is based on just a few instrument parameters which should be defined in the manufacturer's speficication sheet. \n",
    "\n",
    "An OPC is defined by just the laser wavelength (`wl`), the exact `bins` the OPC uses as its output, and the angles for which the scattered light is collected between (`theta`). Other work has considered much more detail that this, including the electrical properties and characteristics of the photodetector, etc. However, this typically requires knowledge or information that is not commonly available in the datasheet of a low-cost particle counter, and thus we try to provide a method that does not rely on this information. \n",
    "\n",
    "Within the software itself, there is flexibility in how exactly you define the bins. In the end, you will end up with a 3xn array of values, where n is the number of bins. Each bin is then defined by its left bin boundary, midpoint, and right bin boundary. \n",
    " \n",
    "To simulate an OPC using the `opcsim.OPC` class, we initiate as follows:"
   ]
  },
  {
   "cell_type": "code",
   "execution_count": 2,
   "metadata": {},
   "outputs": [
    {
     "data": {
      "text/plain": [
       "<class 'opcsim.models.OPC'>"
      ]
     },
     "execution_count": 2,
     "metadata": {},
     "output_type": "execute_result"
    }
   ],
   "source": [
    "opc = opcsim.OPC(wl=0.658, n_bins=5, theta=(32., 88.))\n",
    "\n",
    "opc"
   ]
  },
  {
   "cell_type": "markdown",
   "metadata": {},
   "source": [
    "When initiated with no arguments, the default arguments are used and can be looked up in the API documentation. This sets $dmin=0.5\\;\\mu m$, $dmax=2.5\\;\\mu m$, and $n_{bins}=5$. We can view the number of bins using the `OPC.n_bins` attribute."
   ]
  },
  {
   "cell_type": "code",
   "execution_count": 3,
   "metadata": {},
   "outputs": [
    {
     "data": {
      "text/plain": [
       "5"
      ]
     },
     "execution_count": 3,
     "metadata": {},
     "output_type": "execute_result"
    }
   ],
   "source": [
    "opc.n_bins"
   ]
  },
  {
   "cell_type": "markdown",
   "metadata": {},
   "source": [
    "We can also view the bin boundaries and midpoint diameters using the `OPC.bins` attribute. Here, we receieve a **3xn** array where the first entry is the left bin boundary, the middle is the midpoint diameter as defined by its geometric mean, and the last entry is the right bin boundary."
   ]
  },
  {
   "cell_type": "code",
   "execution_count": 4,
   "metadata": {},
   "outputs": [
    {
     "data": {
      "text/plain": [
       "array([[0.5       , 0.58730947, 0.68986483],\n",
       "       [0.68986483, 0.8103283 , 0.95182697],\n",
       "       [0.95182697, 1.11803399, 1.3132639 ],\n",
       "       [1.3132639 , 1.54258466, 1.81194916],\n",
       "       [1.81194916, 2.12834981, 2.5       ]])"
      ]
     },
     "execution_count": 4,
     "metadata": {},
     "output_type": "execute_result"
    }
   ],
   "source": [
    "opc.bins"
   ]
  },
  {
   "cell_type": "markdown",
   "metadata": {},
   "source": [
    "## Building more specific OPC's\n",
    "\n",
    "We can build more complex - or specified - models by increasing the number of bins in a couple of ways: (1) we can change the minimum or maximum cutoffs, or the total number of bins:"
   ]
  },
  {
   "cell_type": "code",
   "execution_count": 5,
   "metadata": {},
   "outputs": [
    {
     "data": {
      "text/plain": [
       "array([[ 0.38      ,  0.46019969,  0.55732566],\n",
       "       [ 0.55732566,  0.67495025,  0.81739972],\n",
       "       [ 0.81739972,  0.98991341,  1.19883643],\n",
       "       [ 1.19883643,  1.45185303,  1.75826924],\n",
       "       [ 1.75826924,  2.12935514,  2.57875939],\n",
       "       [ 2.57875939,  3.12301123,  3.78212839],\n",
       "       [ 3.78212839,  4.58035343,  5.54704531],\n",
       "       [ 5.54704531,  6.71775925,  8.13555449],\n",
       "       [ 8.13555449,  9.85257798, 11.93198238],\n",
       "       [11.93198238, 14.45024885, 17.5       ]])"
      ]
     },
     "execution_count": 5,
     "metadata": {},
     "output_type": "execute_result"
    }
   ],
   "source": [
    "opc_10bins = opcsim.OPC(wl=0.658, n_bins=10, dmin=0.38, dmax=17.5)\n",
    "\n",
    "opc_10bins.bins"
   ]
  },
  {
   "cell_type": "markdown",
   "metadata": {},
   "source": [
    "If we are trying to model a specific OPC that has pre-defined bins, we can also do that with the help of some utility methods. The bins argument in the OPC class requires a **3xn** array as seen above. Often, you may only have the bin boundary information and not the midpoints. We can define the bins as an array of the bin boundaries, where there are 1 more entries than total number of bins, as follows:"
   ]
  },
  {
   "cell_type": "code",
   "execution_count": 6,
   "metadata": {},
   "outputs": [
    {
     "data": {
      "text/plain": [
       "array([[0.38      , 0.45299007, 0.54      ],\n",
       "       [0.54      , 0.64899923, 0.78      ],\n",
       "       [0.78      , 0.90498619, 1.05      ],\n",
       "       [1.05      , 1.25499004, 1.5       ],\n",
       "       [1.5       , 1.93649167, 2.5       ]])"
      ]
     },
     "execution_count": 6,
     "metadata": {},
     "output_type": "execute_result"
    }
   ],
   "source": [
    "opc = opcsim.OPC(wl=0.658, bins=[0.38, 0.54, 0.78, 1.05, 1.5, 2.5])\n",
    "\n",
    "opc.bins"
   ]
  },
  {
   "cell_type": "markdown",
   "metadata": {},
   "source": [
    "This more or less covers how we can build various OPC's - if you are still unsure of what to do in a specific case, feel free to post questions on the GitHub repository under the 'Issues' tab."
   ]
  },
  {
   "cell_type": "markdown",
   "metadata": {},
   "source": [
    "# OPC Calibration\n",
    "\n",
    "OPC's count and size each particle individualy - the size of a particle is determined by the signal amplitude measured by the photo-detector, which is proportional to the product of the intensity of incoming light and the particle's scattering cross-section. This model assumes light intensity is constant, thus every particle experiences the same light intensity. Assuming this is valid, we can state the size of a particle is proportional ot the scattering cross-section of that particle. \n",
    "\n",
    "The output we receieve from an OPC is a histogram with the total number of particles in a specified size bin. So how do we know which bin a given particle belongs to? We must calibrate our OPC and tell it, based on the $C_{scat}$ value, which bin a particle belongs to. While the literature dives deep into complicated, and possibly more accurate ways to do this, we offer three easy methods that can often be found in today's low-cost devices:\n",
    "\n",
    "  1. `spline` - a simple mapping between $C_{scat}$ and $D_p$\n",
    "  2. `linear` - fit a power law (linear in log-log space) to the $C_{scat}$ values at every bin boundary\n",
    "  3. `piecewise` - the same as `linear` except we split into two different curves\n",
    "\n",
    "\n",
    "### Assumptions we make\n",
    "\n",
    "  * all particles are spheres\n",
    "  * light intensity is constant\n",
    "  * all particles fall squarely within the laser\n",
    "\n",
    "We will walk through how to calibrate using each approach, but first, let's take a look at a typical scattering pattern for an OPC with a 658 nm laser and a collection angle of 32-88 degrees."
   ]
  },
  {
   "cell_type": "code",
   "execution_count": 14,
   "metadata": {},
   "outputs": [
    {
     "data": {
      "text/plain": [
       "<class 'opcsim.models.OPC'>"
      ]
     },
     "execution_count": 14,
     "metadata": {},
     "output_type": "execute_result"
    }
   ],
   "source": [
    "# build a generic OPC with 10-bins\n",
    "opc = opcsim.OPC(wl=0.658, theta=(32.0, 88.0), n_bins=10)\n",
    "\n",
    "opc"
   ]
  },
  {
   "cell_type": "code",
   "execution_count": 8,
   "metadata": {},
   "outputs": [
    {
     "data": {
      "image/png": "[encoded data removed]",
      "text/plain": [
       "<Figure size 432x432 with 1 Axes>"
      ]
     },
     "metadata": {},
     "output_type": "display_data"
    }
   ],
   "source": [
    "# generate an array of particle diameters\n",
    "dp = np.logspace(-1, 1.25, 250)\n",
    "vals = [opcsim.mie.cscat(x, wl=0.658, refr=complex(1.59, 0), theta1=32., theta2=88.) for x in dp]\n",
    "\n",
    "fig, ax = plt.subplots(1, figsize=(6, 6))\n",
    "\n",
    "ax.plot(dp, vals, lw=3)\n",
    "\n",
    "ax.semilogx()\n",
    "ax.semilogy()\n",
    "\n",
    "ax.set_title(\"Calibration Curve for PSLs\", y=1.02)\n",
    "ax.set_xlabel(\"$D_p\\;[\\mu m]$\")\n",
    "ax.set_ylabel(\"$C_{scat}$\")\n",
    "\n",
    "sns.despine(offset=5)"
   ]
  },
  {
   "cell_type": "markdown",
   "metadata": {},
   "source": [
    "As we can see in the figure above, there are $C_{scat}$ values that are not monotonically increasing as the particle diameter increases, which may make it difficult to assign that value to 1 bin specifically. This is a very well known and documented issue with OPC's and should play a role in choosing bin boundaries. Additionally, it only gets more complicated as the particle optical properties change!\n",
    "\n",
    "Now, we will examine the two simple approaches to modeling our ways out of this."
   ]
  },
  {
   "cell_type": "markdown",
   "metadata": {},
   "source": [
    "## Calibration Method 1: `spline`\n",
    "\n",
    "One of the most common ways to associate a $C_{scat}$ value with a corresponding particle size is to use spline interpolation. Essentially, this entails evaluating the $C_{scat}$ curve at every bin boundary and grouping all $C_{scat}$ values within range of those two boundaries as belonging to that bin. This work fairly well when the bins are chosen intelligently for a given aerosol type. However, this is not only the case and there are non-monotonically increasing bins from time-to-time. To remove issues associated with this \"dips\", we implement a solution where we interpolate across any \"dips\". This is far from perfect, but gives us reasonable results. \n",
    "\n",
    "Note that this can make it quite difficult for particles to get assigned to certain bins, especially if the $C_{scat}$ values plateau - this can be somewhat solved by combining these bins into one bin to reduce the uncertainty in bin assignment, though it will make the correct particle sizing in that bin less precise as well.\n",
    "\n",
    "Note that it is also possible to write your own calibration function, so do not fret!"
   ]
  },
  {
   "cell_type": "code",
   "execution_count": 18,
   "metadata": {},
   "outputs": [
    {
     "data": {
      "text/plain": [
       "functools.partial(<bound method OPC._digitize_opc_bins of <class 'opcsim.models.OPC'>>, cscat_boundaries=array([2.86492750e-09, 4.48206290e-09, 5.25272279e-09, 6.02393845e-09,\n",
       "       6.64256044e-09, 9.09772227e-09, 1.08326613e-08, 1.25676003e-08,\n",
       "       1.40492264e-08, 1.99683184e-08, 4.17442631e-08]))"
      ]
     },
     "execution_count": 18,
     "metadata": {},
     "output_type": "execute_result"
    }
   ],
   "source": [
    "# calibrate using spline\n",
    "opc.calibrate(\"psl\", method=\"spline\")\n",
    "\n",
    "# show the Cscat values corresponding to each bin boundary\n",
    "opc.calibration_function"
   ]
  },
  {
   "cell_type": "markdown",
   "metadata": {},
   "source": [
    "Let's take a look at the calibration:"
   ]
  },
  {
   "cell_type": "code",
   "execution_count": 25,
   "metadata": {},
   "outputs": [
    {
     "data": {
      "image/png": "[encoded data removed]",
      "text/plain": [
       "<Figure size 720x576 with 1 Axes>"
      ]
     },
     "metadata": {},
     "output_type": "display_data"
    }
   ],
   "source": [
    "fig, ax = plt.subplots(1, figsize=(10, 8))\n",
    "\n",
    "ax = opcsim.plots.calplot(opc, ax=ax, dp=np.logspace(-1, 1, 250), plot_kws=dict(alpha=.5))\n",
    "\n",
    "ax.set_xlim(0.1, 10)\n",
    "ax.set_ylim(1e-10, 1e-6)\n",
    "\n",
    "sns.despine()"
   ]
  },
  {
   "cell_type": "code",
   "execution_count": null,
   "metadata": {},
   "outputs": [],
   "source": []
  },
  {
   "cell_type": "code",
   "execution_count": null,
   "metadata": {},
   "outputs": [],
   "source": []
  },
  {
   "cell_type": "markdown",
   "metadata": {},
   "source": [
    "## Method 2: `linear`\n",
    "\n",
    "The second approach to generating our map of $C_{scat}$ to $D_p$ values is to fit a line to the data in log-log space. Here, we begin by plotting the bin boundaries on top of the PSL scattering line for an OPC that models the Alphasense OPC-N2."
   ]
  },
  {
   "cell_type": "code",
   "execution_count": 13,
   "metadata": {},
   "outputs": [
    {
     "data": {
      "image/png": "[encoded data removed]",
      "text/plain": [
       "<Figure size 576x576 with 1 Axes>"
      ]
     },
     "metadata": {},
     "output_type": "display_data"
    }
   ],
   "source": [
    "from scipy.interpolate import interp1d\n",
    "\n",
    "fig, ax = plt.subplots(1, figsize=(8, 8))\n",
    "\n",
    "ax.plot(dp, vals, lw=3)\n",
    "\n",
    "ax.set_xlabel(\"$D_p$, $\\mu m$\")\n",
    "ax.set_ylabel(\"$C_{scat}$, $cm^2$/particle\")\n",
    "\n",
    "# draw some bins\n",
    "f = interp1d(x=dp, y=vals)\n",
    "\n",
    "bb = np.array([0.38, 0.54, 0.78, 1.05, 1.34, 1.59, 2.07, 3., 4., \n",
    "               5., 6.5, 8., 10., 12., 14., 16., 17.5])\n",
    "\n",
    "ax.scatter(bb, f(bb), color='r', s=50, label=\"OPC-N2 Bin Boundaries\")\n",
    "ax.legend()\n",
    "\n",
    "ax.semilogx()\n",
    "ax.semilogy()\n",
    "\n",
    "sns.despine(offset=5)"
   ]
  },
  {
   "cell_type": "markdown",
   "metadata": {},
   "source": [
    "We can fit a line to these data points, which will generate an easy mapping between the two values - however, it will likely undersize particles in some regions and oversize them in others. You can easily create complicated polynomial or machine-learning approaches to matching these values; however, it will all get thrown into chaos when we begin to incorporate particles of various optical properties and morphologies."
   ]
  },
  {
   "cell_type": "markdown",
   "metadata": {},
   "source": [
    "## Method 3: `piecewise` linear fit\n",
    "\n",
    "Similarly, we can fit a `piecewise` linear fit, where there are two linear fits, separated based on the $C_{scat}$ value at a pre-determined breakpoint as defined by the user."
   ]
  },
  {
   "cell_type": "code",
   "execution_count": null,
   "metadata": {},
   "outputs": [],
   "source": []
  },
  {
   "cell_type": "code",
   "execution_count": null,
   "metadata": {},
   "outputs": [],
   "source": []
  },
  {
   "cell_type": "code",
   "execution_count": 50,
   "metadata": {},
   "outputs": [
    {
     "data": {
      "text/plain": [
       "array([1.00000000e+00, 9.92135111e-09, 5.82312909e-09, 1.91907065e+00,\n",
       "       1.87064143e+00])"
      ]
     },
     "execution_count": 50,
     "metadata": {},
     "output_type": "execute_result"
    }
   ],
   "source": [
    "import scipy\n",
    "\n",
    "def piecewise_linear(x, x0, a1, a2, b1, b2):\n",
    "    return np.piecewise(x, [x < x0], [\n",
    "        lambda x: a1*np.power(x, b1),\n",
    "        lambda x: a2*np.power(x, b2)\n",
    "    ])\n",
    "\n",
    "sigma = np.power(10, np.log10(f(bb)) + 1)\n",
    "\n",
    "p, e = scipy.optimize.curve_fit(piecewise_linear, bb, f(bb), sigma=sigma)\n",
    "\n",
    "p"
   ]
  },
  {
   "cell_type": "code",
   "execution_count": 52,
   "metadata": {},
   "outputs": [
    {
     "data": {
      "image/png": "[encoded data removed]",
      "text/plain": [
       "<Figure size 576x576 with 1 Axes>"
      ]
     },
     "metadata": {},
     "output_type": "display_data"
    }
   ],
   "source": [
    "fig, ax = plt.subplots(1, figsize=(8, 8))\n",
    "\n",
    "ax.plot(dp, vals, lw=3)\n",
    "\n",
    "ax.set_xlabel(\"$D_p$, $\\mu m$\")\n",
    "ax.set_ylabel(\"$C_{scat}$, $cm^2$/particle\")\n",
    "\n",
    "xd = np.logspace(np.log10(.1), np.log10(10), num=50)\n",
    "\n",
    "ax.plot(xd, piecewise_linear(xd, *p))\n",
    "# draw some bins\n",
    "# f = interp1d(x=dp, y=vals)\n",
    "\n",
    "# bb = np.array([0.38, 0.54, 0.78, 1.05, 1.34, 1.59, 2.07, 3., 4., \n",
    "#                5., 6.5, 8., 10., 12., 14., 16., 17.5])\n",
    "\n",
    "ax.scatter(bb, f(bb), color='r', s=50, label=\"OPC-N2 Bin Boundaries\")\n",
    "ax.legend()\n",
    "\n",
    "ax.semilogx()\n",
    "ax.semilogy()\n",
    "\n",
    "sns.despine(offset=5)"
   ]
  },
  {
   "cell_type": "code",
   "execution_count": null,
   "metadata": {},
   "outputs": [],
   "source": []
  },
  {
   "cell_type": "markdown",
   "metadata": {},
   "source": []
  },
  {
   "cell_type": "markdown",
   "metadata": {},
   "source": [
    "## So, how do we calibrate our sensor?\n",
    "\n",
    "It is recommended you begin with one of the two approaches above, which are both built into the `OPC.calibrate` function. Once you get a hang of those, you can go ahead and get more sophisticated.\n",
    "\n",
    "To calibrate our sensor, we simply define the material we want to use to calibrate. We can define the material in one of two ways: \n",
    "\n",
    "  1. you can input a string with the material name\n",
    "  2. you can input the materials complex refractive index at the wavelength of your device\n",
    "  \n",
    "The material lookup table is quite limited and are mostly values taken as close to 658 nm as possible. If you would like to add to this table, please open an issue on GitHub.\n",
    "\n",
    "### Current Options\n",
    "\n",
    "| option | Material | Refractive Index |\n",
    "|:------:|:--------:|:----------------:|\n",
    "| `psl` | Polystyrene Latex Spheres | 1.592 + 0i |\n",
    "| `ammonium_sulfate` | Ammonium Sulfate | 1.521 + 0i |\n",
    "| `sodium_chloride` | Sodium Chloride | 1.5405 + 0i |\n",
    "| `sodium_nitrate` | Sodium Nitrate | 1.448 + 0i |\n",
    "| `black_carbon` | Black Carbon | 1.95 + 0.79i |\n",
    "| `sulfuric_acid` | Sulfuric Acid | 1.427 + 0i |\n",
    "| `soa` | Secondary Organic Aerosol | 1.4 + 0.002i |\n",
    "| `urban_high` | High estimate for Urban Aerosol | 1.6 + 0.034i |\n",
    "| `urban_low` | Low estimate for Urban Aerosol | 1.73 + 0.086i |\n",
    "\n",
    "\n",
    "To use the method, we simply state the material and the method. We can also get more complicated (check the API docs) if you want to send custom arguments to the fitting function, etc. A simple example would be:"
   ]
  },
  {
   "cell_type": "code",
   "execution_count": 14,
   "metadata": {},
   "outputs": [
    {
     "data": {
      "text/plain": [
       "functools.partial(<bound method OPC._digitize_opc_bins of <class 'opcsim.models.OPC'>>, cscat_boundaries=array([2.86492750e-09, 4.48206290e-09, 5.25272279e-09, 6.02393845e-09,\n",
       "       6.64256044e-09, 9.09772227e-09, 1.08326613e-08, 1.25676003e-08,\n",
       "       1.40492264e-08, 1.99683184e-08, 4.17442631e-08]))"
      ]
     },
     "execution_count": 14,
     "metadata": {},
     "output_type": "execute_result"
    }
   ],
   "source": [
    "opc.calibrate(\"psl\", method=\"spline\")\n",
    "\n",
    "opc.calibration_function"
   ]
  },
  {
   "cell_type": "markdown",
   "metadata": {},
   "source": [
    "Alternatively, we could calibrate using the linear fit:"
   ]
  },
  {
   "cell_type": "code",
   "execution_count": 15,
   "metadata": {},
   "outputs": [
    {
     "data": {
      "text/plain": [
       "functools.partial(<bound method OPC._digitize_opc_bins of <class 'opcsim.models.OPC'>>, cscat_boundaries=array([3.12354813e-09, 3.85694293e-09, 4.76253547e-09, 5.88075700e-09,\n",
       "       7.26153183e-09, 8.96650627e-09, 1.10718009e-08, 1.36714091e-08,\n",
       "       1.68813933e-08, 2.08450672e-08, 2.57393936e-08]))"
      ]
     },
     "execution_count": 15,
     "metadata": {},
     "output_type": "execute_result"
    }
   ],
   "source": [
    "opc.calibrate(\"psl\", method=\"linear\")\n",
    "\n",
    "opc.calibration_function"
   ]
  },
  {
   "cell_type": "markdown",
   "metadata": {},
   "source": [
    "When the calibration is executed, it saves the calibration function, which is a digitizer which simply uses the $C_{scat}$ values we computed at each bin boundary during the calibration to return the OPC bin for any given $C_{scat}$ value. If a $C_{scat}$ value is either too high or too low (above or below the boundaries we computed), then it will not assign that particle to a bin.\""
   ]
  },
  {
   "cell_type": "markdown",
   "metadata": {},
   "source": [
    "# Evaluating an OPC for a given Aerosol Distribution\n",
    "\n",
    "The entire point of this software is to model how various OPC's and other particle sensors \"see\" aerosols in the real world. The Aerosol Distribution tutorial showed how we can model realistic aerosol distributions. This section will review how the OPC's we just built \"see\" these distributions. Generally speaking, the process works as follows:\n",
    "\n",
    "  1. For every particle in the aerosol distribution, we calculate the scattering cross-section\n",
    "  2. For each of the scattering cross-section's we just calculated, we assign them to a bin of the OPC based on the calibration curve we generated\n",
    "  3. We end up with a histogram in the form of the cumulative number of particles in each OPC bin, just as we would if we were using a commercially available OPC\n",
    "  \n",
    "  \n",
    "The base method we use to obtain these numbers is `OPC.evaluate`. This method returns the number of particles the OPC \"sees\" in each bin for a given aerosol distribution. One component that hasn't yet been discussed is how the OPC reacts as relative humidity changes. Each of these methods takes an argument for relative humidity (`rh`) which will automatically calculate the change in particle size due to hygroscopic growth per $\\kappa$-kohler theory; the refractive index and density will also change accordingly based on the amount of growth that takes place.\n",
    "\n",
    "To evaluate a distribution, we need to first define the AerosolDistribution and the OPC.\n",
    "\n",
    "  * Show examples for a few different scenarios, including growth due to RH\n",
    "  * show examples for different calibration approaches"
   ]
  },
  {
   "cell_type": "code",
   "execution_count": 16,
   "metadata": {},
   "outputs": [
    {
     "data": {
      "text/plain": [
       "AerosolDistribution: Amm. Sulfate"
      ]
     },
     "execution_count": 16,
     "metadata": {},
     "output_type": "execute_result"
    }
   ],
   "source": [
    "# build a single mode of ammonium sulfate\n",
    "d = opcsim.AerosolDistribution(\"Amm. Sulfate\")\n",
    "\n",
    "d.add_mode(n=1e3, gm=250e-3, gsd=1.65, kappa=0.53, rho=1.77, refr=complex(1.521, 0))\n",
    "\n",
    "d"
   ]
  },
  {
   "cell_type": "code",
   "execution_count": 17,
   "metadata": {},
   "outputs": [
    {
     "data": {
      "text/plain": [
       "<class 'opcsim.models.OPC'>"
      ]
     },
     "execution_count": 17,
     "metadata": {},
     "output_type": "execute_result"
    }
   ],
   "source": [
    "# build an OPC\n",
    "opc = opcsim.OPC(wl=0.658, n_bins=24, dmin=0.35, dmax=40.)\n",
    "\n",
    "opc"
   ]
  },
  {
   "cell_type": "markdown",
   "metadata": {},
   "source": [
    "Let's go ahead and calibrate the OPC using ammonium sulfate:"
   ]
  },
  {
   "cell_type": "code",
   "execution_count": 19,
   "metadata": {},
   "outputs": [],
   "source": [
    "opc.calibrate(\"ammonium_sulfate\", method=\"spline\")"
   ]
  },
  {
   "cell_type": "markdown",
   "metadata": {},
   "source": [
    "Now, let's go ahead and evaluate the OPC for the previously defined distribution. This will return the number of particles in each bin:"
   ]
  },
  {
   "cell_type": "code",
   "execution_count": 20,
   "metadata": {},
   "outputs": [
    {
     "data": {
      "text/plain": [
       "array([1.05530960e+02, 6.98817010e+01, 3.98414534e+01, 1.95563644e+01,\n",
       "       7.37540121e+00, 4.02522887e+00, 2.23257552e-01, 5.59489350e-01,\n",
       "       3.50404796e-01, 3.80044653e-03, 2.12502672e-03, 2.46502814e-04,\n",
       "       4.80382138e-05, 2.56183671e-06, 5.52369556e-07, 2.62696176e-08,\n",
       "       1.39596068e-09, 2.41016096e-11, 0.00000000e+00, 0.00000000e+00,\n",
       "       0.00000000e+00, 0.00000000e+00, 0.00000000e+00, 0.00000000e+00])"
      ]
     },
     "execution_count": 20,
     "metadata": {},
     "output_type": "execute_result"
    }
   ],
   "source": [
    "vals = opc.evaluate(d, rh=0.0)\n",
    "\n",
    "vals"
   ]
  },
  {
   "cell_type": "markdown",
   "metadata": {},
   "source": [
    "## Interating across the Particle Size Distribution\n",
    "\n",
    "Another important task for evaluation OPC's is comparing the integrated values across some pre-defined particle size range. We can accomplish this by using the `OPC.integrate` method to calculate either the total number of particles, total surface area, total volume, or total mass betweeen any two diameters.\n",
    "\n",
    "Example:"
   ]
  },
  {
   "cell_type": "code",
   "execution_count": 21,
   "metadata": {},
   "outputs": [
    {
     "data": {
      "text/plain": [
       "247.34419479917193"
      ]
     },
     "execution_count": 21,
     "metadata": {},
     "output_type": "execute_result"
    }
   ],
   "source": [
    "opc.integrate(d, dmin=0., dmax=2.5, weight='number', rh=0.)"
   ]
  },
  {
   "cell_type": "code",
   "execution_count": 22,
   "metadata": {},
   "outputs": [
    {
     "data": {
      "text/plain": [
       "479.06078758408"
      ]
     },
     "execution_count": 22,
     "metadata": {},
     "output_type": "execute_result"
    }
   ],
   "source": [
    "opc.integrate(d, dmin=0., dmax=2.5, weight='number', rh=85.)"
   ]
  },
  {
   "cell_type": "markdown",
   "metadata": {},
   "source": [
    "## Visualizing the OPC Histogram\n",
    "\n",
    "Last, it is fairly useful and important for us to be able to easily visualize our results. There are functions built-in to compute the histogram to use with `opcsim.plots.histplot` to easily plot the particle size distribution.\n",
    "\n",
    "Let's go ahead and visualize our results from earlier:"
   ]
  },
  {
   "cell_type": "code",
   "execution_count": 22,
   "metadata": {},
   "outputs": [],
   "source": [
    "# compute the histogram\n",
    "lb, data1, ddp = opc.histogram(d, weight=\"number\", base=\"log10\", rh=0.0)\n",
    "lb, data2, ddp = opc.histogram(d, weight=\"number\", base=\"log10\", rh=95.0)"
   ]
  },
  {
   "cell_type": "code",
   "execution_count": 23,
   "metadata": {},
   "outputs": [
    {
     "data": {
      "image/png": "[encoded data removed]",
      "text/plain": [
       "<Figure size 576x432 with 1 Axes>"
      ]
     },
     "metadata": {},
     "output_type": "display_data"
    }
   ],
   "source": [
    "fig, ax = plt.subplots(1, figsize=(8, 6))\n",
    "\n",
    "ax = opcsim.plots.pdfplot(d, ax=ax, weight=\"number\")\n",
    "ax = opcsim.plots.pdfplot(d, ax=ax, weight=\"number\", rh=95.0)\n",
    "ax = opcsim.plots.histplot(data=data1, bins=opc.bins, ax=ax, label=\"RH=0%\", \n",
    "                           plot_kws=dict(linewidth=2, fill=True, alpha=.35, color='blue'))\n",
    "ax = opcsim.plots.histplot(data=data2, bins=opc.bins, ax=ax, label=\"RH=95%\", \n",
    "                           plot_kws=dict(linewidth=2))\n",
    "\n",
    "ax.set_ylim(0, None)\n",
    "ax.set_xlim(0.01, None)\n",
    "ax.legend(bbox_to_anchor=(.7, 1))\n",
    "\n",
    "sns.despine()"
   ]
  },
  {
   "cell_type": "markdown",
   "metadata": {},
   "source": [
    "On the left, we have the PDF of the particle size distribution at 0% RH in dark blue with the histogram, as seen by the OPC, in light blue. In dark red, we have the PDF of the particle size distribution at 95% RH - as you can see, it has shifted right substantially. There is also the histogram, shown as red boxes, of how the OPC \"see's\" the size distribution at 95% RH. Interestingly, you see the lower part of the distribution (below around 600 nm) simply moves right; however, above that point, the bin assignments start to get screwy. This is due to the Mie Resonance taking hold and making it hard to assign the $C_{scat}$ value to the correct bin."
   ]
  },
  {
   "cell_type": "markdown",
   "metadata": {},
   "source": [
    "## Classifying Bin Misassignment\n",
    "\n",
    "One way to gain an underestanding of how reliable/accurate the OPC is is to estimate the range of bins particles of a specific size could be assigned to. For example, if we calibrated our OPC with Ammonium Sulfate at 0% RH, and then only evaluated Ammonium Sulfate at that same RH, we would be fairly confident in our ability to resolve the correct bin. However, if we suddenly were in a more humid environment, how would we do? \n",
    "\n",
    "There are a fwe `metrics` methods available by default to help understand the expected range of bin assignments - each is detailed below.\n",
    "\n",
    "### `compute_bin_assessment`\n",
    "\n",
    "The objective of this method is to assess the ability of an OPC to assign particles to the correct bin. It uses a calibrated OPC to evaluate a material of some refractive index and kappa value at various relative humidities. The method returns a dataframe containing data including: the correct bin assignment, the lower estimate for bin assignment, the upper estimate for bin assignment, the effective refractive index, the relative humidity, and the lower and upper limit's of scattered light to expected scattered light.\n",
    "\n",
    "Our primary focus here is estimating the effects of changes in relative humidity, which (1) causes the aerosols to grow as they uptake water and (2) causes the refractive index to change."
   ]
  },
  {
   "cell_type": "code",
   "execution_count": 26,
   "metadata": {},
   "outputs": [
    {
     "data": {
      "text/html": [
       "<div>\n",
       "<style scoped>\n",
       "    .dataframe tbody tr th:only-of-type {\n",
       "        vertical-align: middle;\n",
       "    }\n",
       "\n",
       "    .dataframe tbody tr th {\n",
       "        vertical-align: top;\n",
       "    }\n",
       "\n",
       "    .dataframe thead th {\n",
       "        text-align: right;\n",
       "    }\n",
       "</style>\n",
       "<table border=\"1\" class=\"dataframe\">\n",
       "  <thead>\n",
       "    <tr style=\"text-align: right;\">\n",
       "      <th></th>\n",
       "      <th>bin_true</th>\n",
       "      <th>bin_lo</th>\n",
       "      <th>bin_hi</th>\n",
       "      <th>refr_eff</th>\n",
       "      <th>rh</th>\n",
       "      <th>cscat_hi_ratio</th>\n",
       "      <th>cscat_lo_ratio</th>\n",
       "    </tr>\n",
       "  </thead>\n",
       "  <tbody>\n",
       "    <tr>\n",
       "      <th>0</th>\n",
       "      <td>0</td>\n",
       "      <td>0</td>\n",
       "      <td>1</td>\n",
       "      <td>(1.521+0j)</td>\n",
       "      <td>0.0</td>\n",
       "      <td>1.000000</td>\n",
       "      <td>1.000000</td>\n",
       "    </tr>\n",
       "    <tr>\n",
       "      <th>1</th>\n",
       "      <td>1</td>\n",
       "      <td>1</td>\n",
       "      <td>2</td>\n",
       "      <td>(1.521+0j)</td>\n",
       "      <td>0.0</td>\n",
       "      <td>1.000000</td>\n",
       "      <td>1.000000</td>\n",
       "    </tr>\n",
       "    <tr>\n",
       "      <th>2</th>\n",
       "      <td>2</td>\n",
       "      <td>2</td>\n",
       "      <td>3</td>\n",
       "      <td>(1.521+0j)</td>\n",
       "      <td>0.0</td>\n",
       "      <td>1.000000</td>\n",
       "      <td>1.000000</td>\n",
       "    </tr>\n",
       "    <tr>\n",
       "      <th>3</th>\n",
       "      <td>3</td>\n",
       "      <td>3</td>\n",
       "      <td>4</td>\n",
       "      <td>(1.521+0j)</td>\n",
       "      <td>0.0</td>\n",
       "      <td>1.000000</td>\n",
       "      <td>1.000000</td>\n",
       "    </tr>\n",
       "    <tr>\n",
       "      <th>4</th>\n",
       "      <td>4</td>\n",
       "      <td>4</td>\n",
       "      <td>5</td>\n",
       "      <td>(1.521+0j)</td>\n",
       "      <td>0.0</td>\n",
       "      <td>1.000000</td>\n",
       "      <td>1.000000</td>\n",
       "    </tr>\n",
       "    <tr>\n",
       "      <th>5</th>\n",
       "      <td>5</td>\n",
       "      <td>5</td>\n",
       "      <td>6</td>\n",
       "      <td>(1.521+0j)</td>\n",
       "      <td>0.0</td>\n",
       "      <td>1.000000</td>\n",
       "      <td>1.000000</td>\n",
       "    </tr>\n",
       "    <tr>\n",
       "      <th>6</th>\n",
       "      <td>6</td>\n",
       "      <td>6</td>\n",
       "      <td>8</td>\n",
       "      <td>(1.521+0j)</td>\n",
       "      <td>0.0</td>\n",
       "      <td>1.000000</td>\n",
       "      <td>1.000000</td>\n",
       "    </tr>\n",
       "    <tr>\n",
       "      <th>7</th>\n",
       "      <td>7</td>\n",
       "      <td>8</td>\n",
       "      <td>8</td>\n",
       "      <td>(1.521+0j)</td>\n",
       "      <td>0.0</td>\n",
       "      <td>1.000000</td>\n",
       "      <td>1.000000</td>\n",
       "    </tr>\n",
       "    <tr>\n",
       "      <th>8</th>\n",
       "      <td>8</td>\n",
       "      <td>8</td>\n",
       "      <td>9</td>\n",
       "      <td>(1.521+0j)</td>\n",
       "      <td>0.0</td>\n",
       "      <td>1.000000</td>\n",
       "      <td>1.000000</td>\n",
       "    </tr>\n",
       "    <tr>\n",
       "      <th>9</th>\n",
       "      <td>9</td>\n",
       "      <td>9</td>\n",
       "      <td>10</td>\n",
       "      <td>(1.521+0j)</td>\n",
       "      <td>0.0</td>\n",
       "      <td>1.000000</td>\n",
       "      <td>1.000000</td>\n",
       "    </tr>\n",
       "    <tr>\n",
       "      <th>10</th>\n",
       "      <td>10</td>\n",
       "      <td>10</td>\n",
       "      <td>11</td>\n",
       "      <td>(1.521+0j)</td>\n",
       "      <td>0.0</td>\n",
       "      <td>1.000000</td>\n",
       "      <td>1.000000</td>\n",
       "    </tr>\n",
       "    <tr>\n",
       "      <th>11</th>\n",
       "      <td>11</td>\n",
       "      <td>11</td>\n",
       "      <td>12</td>\n",
       "      <td>(1.521+0j)</td>\n",
       "      <td>0.0</td>\n",
       "      <td>1.000000</td>\n",
       "      <td>1.000000</td>\n",
       "    </tr>\n",
       "    <tr>\n",
       "      <th>12</th>\n",
       "      <td>12</td>\n",
       "      <td>12</td>\n",
       "      <td>13</td>\n",
       "      <td>(1.521+0j)</td>\n",
       "      <td>0.0</td>\n",
       "      <td>1.000000</td>\n",
       "      <td>1.000000</td>\n",
       "    </tr>\n",
       "    <tr>\n",
       "      <th>13</th>\n",
       "      <td>13</td>\n",
       "      <td>13</td>\n",
       "      <td>14</td>\n",
       "      <td>(1.521+0j)</td>\n",
       "      <td>0.0</td>\n",
       "      <td>1.000000</td>\n",
       "      <td>1.000000</td>\n",
       "    </tr>\n",
       "    <tr>\n",
       "      <th>14</th>\n",
       "      <td>14</td>\n",
       "      <td>14</td>\n",
       "      <td>15</td>\n",
       "      <td>(1.521+0j)</td>\n",
       "      <td>0.0</td>\n",
       "      <td>1.000000</td>\n",
       "      <td>1.000000</td>\n",
       "    </tr>\n",
       "    <tr>\n",
       "      <th>15</th>\n",
       "      <td>15</td>\n",
       "      <td>15</td>\n",
       "      <td>16</td>\n",
       "      <td>(1.521+0j)</td>\n",
       "      <td>0.0</td>\n",
       "      <td>1.000000</td>\n",
       "      <td>1.000000</td>\n",
       "    </tr>\n",
       "    <tr>\n",
       "      <th>16</th>\n",
       "      <td>16</td>\n",
       "      <td>16</td>\n",
       "      <td>17</td>\n",
       "      <td>(1.521+0j)</td>\n",
       "      <td>0.0</td>\n",
       "      <td>1.000000</td>\n",
       "      <td>1.000000</td>\n",
       "    </tr>\n",
       "    <tr>\n",
       "      <th>17</th>\n",
       "      <td>17</td>\n",
       "      <td>17</td>\n",
       "      <td>18</td>\n",
       "      <td>(1.521+0j)</td>\n",
       "      <td>0.0</td>\n",
       "      <td>1.000000</td>\n",
       "      <td>1.000000</td>\n",
       "    </tr>\n",
       "    <tr>\n",
       "      <th>18</th>\n",
       "      <td>18</td>\n",
       "      <td>18</td>\n",
       "      <td>19</td>\n",
       "      <td>(1.521+0j)</td>\n",
       "      <td>0.0</td>\n",
       "      <td>1.000000</td>\n",
       "      <td>1.000000</td>\n",
       "    </tr>\n",
       "    <tr>\n",
       "      <th>19</th>\n",
       "      <td>19</td>\n",
       "      <td>19</td>\n",
       "      <td>20</td>\n",
       "      <td>(1.521+0j)</td>\n",
       "      <td>0.0</td>\n",
       "      <td>1.000000</td>\n",
       "      <td>1.000000</td>\n",
       "    </tr>\n",
       "    <tr>\n",
       "      <th>20</th>\n",
       "      <td>20</td>\n",
       "      <td>20</td>\n",
       "      <td>21</td>\n",
       "      <td>(1.521+0j)</td>\n",
       "      <td>0.0</td>\n",
       "      <td>1.000000</td>\n",
       "      <td>1.000000</td>\n",
       "    </tr>\n",
       "    <tr>\n",
       "      <th>21</th>\n",
       "      <td>21</td>\n",
       "      <td>21</td>\n",
       "      <td>22</td>\n",
       "      <td>(1.521+0j)</td>\n",
       "      <td>0.0</td>\n",
       "      <td>1.000000</td>\n",
       "      <td>1.000000</td>\n",
       "    </tr>\n",
       "    <tr>\n",
       "      <th>22</th>\n",
       "      <td>22</td>\n",
       "      <td>22</td>\n",
       "      <td>23</td>\n",
       "      <td>(1.521+0j)</td>\n",
       "      <td>0.0</td>\n",
       "      <td>1.000000</td>\n",
       "      <td>1.000000</td>\n",
       "    </tr>\n",
       "    <tr>\n",
       "      <th>23</th>\n",
       "      <td>23</td>\n",
       "      <td>23</td>\n",
       "      <td>-99</td>\n",
       "      <td>(1.521+0j)</td>\n",
       "      <td>0.0</td>\n",
       "      <td>1.000000</td>\n",
       "      <td>1.000000</td>\n",
       "    </tr>\n",
       "    <tr>\n",
       "      <th>24</th>\n",
       "      <td>0</td>\n",
       "      <td>0</td>\n",
       "      <td>1</td>\n",
       "      <td>(1.4792597247157389+0j)</td>\n",
       "      <td>35.0</td>\n",
       "      <td>1.087797</td>\n",
       "      <td>1.274965</td>\n",
       "    </tr>\n",
       "    <tr>\n",
       "      <th>25</th>\n",
       "      <td>1</td>\n",
       "      <td>1</td>\n",
       "      <td>2</td>\n",
       "      <td>(1.4792597247157389+0j)</td>\n",
       "      <td>35.0</td>\n",
       "      <td>1.152527</td>\n",
       "      <td>1.087797</td>\n",
       "    </tr>\n",
       "    <tr>\n",
       "      <th>26</th>\n",
       "      <td>2</td>\n",
       "      <td>2</td>\n",
       "      <td>3</td>\n",
       "      <td>(1.479259724715739+0j)</td>\n",
       "      <td>35.0</td>\n",
       "      <td>1.020034</td>\n",
       "      <td>1.152527</td>\n",
       "    </tr>\n",
       "    <tr>\n",
       "      <th>27</th>\n",
       "      <td>3</td>\n",
       "      <td>3</td>\n",
       "      <td>4</td>\n",
       "      <td>(1.479259724715739+0j)</td>\n",
       "      <td>35.0</td>\n",
       "      <td>1.020747</td>\n",
       "      <td>1.020034</td>\n",
       "    </tr>\n",
       "    <tr>\n",
       "      <th>28</th>\n",
       "      <td>4</td>\n",
       "      <td>4</td>\n",
       "      <td>5</td>\n",
       "      <td>(1.479259724715739+0j)</td>\n",
       "      <td>35.0</td>\n",
       "      <td>1.086050</td>\n",
       "      <td>1.020747</td>\n",
       "    </tr>\n",
       "    <tr>\n",
       "      <th>29</th>\n",
       "      <td>5</td>\n",
       "      <td>5</td>\n",
       "      <td>7</td>\n",
       "      <td>(1.4792597247157389+0j)</td>\n",
       "      <td>35.0</td>\n",
       "      <td>1.330624</td>\n",
       "      <td>1.086050</td>\n",
       "    </tr>\n",
       "    <tr>\n",
       "      <th>...</th>\n",
       "      <td>...</td>\n",
       "      <td>...</td>\n",
       "      <td>...</td>\n",
       "      <td>...</td>\n",
       "      <td>...</td>\n",
       "      <td>...</td>\n",
       "      <td>...</td>\n",
       "    </tr>\n",
       "    <tr>\n",
       "      <th>42</th>\n",
       "      <td>18</td>\n",
       "      <td>18</td>\n",
       "      <td>19</td>\n",
       "      <td>(1.479259724715739+0j)</td>\n",
       "      <td>35.0</td>\n",
       "      <td>1.084164</td>\n",
       "      <td>1.142502</td>\n",
       "    </tr>\n",
       "    <tr>\n",
       "      <th>43</th>\n",
       "      <td>19</td>\n",
       "      <td>19</td>\n",
       "      <td>20</td>\n",
       "      <td>(1.479259724715739+0j)</td>\n",
       "      <td>35.0</td>\n",
       "      <td>1.123483</td>\n",
       "      <td>1.084164</td>\n",
       "    </tr>\n",
       "    <tr>\n",
       "      <th>44</th>\n",
       "      <td>20</td>\n",
       "      <td>20</td>\n",
       "      <td>21</td>\n",
       "      <td>(1.479259724715739+0j)</td>\n",
       "      <td>35.0</td>\n",
       "      <td>1.104242</td>\n",
       "      <td>1.123483</td>\n",
       "    </tr>\n",
       "    <tr>\n",
       "      <th>45</th>\n",
       "      <td>21</td>\n",
       "      <td>21</td>\n",
       "      <td>22</td>\n",
       "      <td>(1.479259724715739+0j)</td>\n",
       "      <td>35.0</td>\n",
       "      <td>1.109915</td>\n",
       "      <td>1.104242</td>\n",
       "    </tr>\n",
       "    <tr>\n",
       "      <th>46</th>\n",
       "      <td>22</td>\n",
       "      <td>22</td>\n",
       "      <td>23</td>\n",
       "      <td>(1.479259724715739+0j)</td>\n",
       "      <td>35.0</td>\n",
       "      <td>1.117296</td>\n",
       "      <td>1.109915</td>\n",
       "    </tr>\n",
       "    <tr>\n",
       "      <th>47</th>\n",
       "      <td>23</td>\n",
       "      <td>23</td>\n",
       "      <td>-99</td>\n",
       "      <td>(1.479259724715739+0j)</td>\n",
       "      <td>35.0</td>\n",
       "      <td>1.122860</td>\n",
       "      <td>1.117296</td>\n",
       "    </tr>\n",
       "    <tr>\n",
       "      <th>48</th>\n",
       "      <td>0</td>\n",
       "      <td>2</td>\n",
       "      <td>3</td>\n",
       "      <td>(1.3499828364950315+0j)</td>\n",
       "      <td>95.0</td>\n",
       "      <td>3.015758</td>\n",
       "      <td>5.609730</td>\n",
       "    </tr>\n",
       "    <tr>\n",
       "      <th>49</th>\n",
       "      <td>1</td>\n",
       "      <td>3</td>\n",
       "      <td>5</td>\n",
       "      <td>(1.3499828364950315+0j)</td>\n",
       "      <td>95.0</td>\n",
       "      <td>2.550998</td>\n",
       "      <td>3.015758</td>\n",
       "    </tr>\n",
       "    <tr>\n",
       "      <th>50</th>\n",
       "      <td>2</td>\n",
       "      <td>5</td>\n",
       "      <td>7</td>\n",
       "      <td>(1.3499828364950315+0j)</td>\n",
       "      <td>95.0</td>\n",
       "      <td>2.634449</td>\n",
       "      <td>2.550998</td>\n",
       "    </tr>\n",
       "    <tr>\n",
       "      <th>51</th>\n",
       "      <td>3</td>\n",
       "      <td>7</td>\n",
       "      <td>8</td>\n",
       "      <td>(1.3499828364950315+0j)</td>\n",
       "      <td>95.0</td>\n",
       "      <td>3.255504</td>\n",
       "      <td>2.634449</td>\n",
       "    </tr>\n",
       "    <tr>\n",
       "      <th>52</th>\n",
       "      <td>4</td>\n",
       "      <td>8</td>\n",
       "      <td>8</td>\n",
       "      <td>(1.3499828364950315+0j)</td>\n",
       "      <td>95.0</td>\n",
       "      <td>3.235887</td>\n",
       "      <td>3.255504</td>\n",
       "    </tr>\n",
       "    <tr>\n",
       "      <th>53</th>\n",
       "      <td>5</td>\n",
       "      <td>8</td>\n",
       "      <td>10</td>\n",
       "      <td>(1.3499828364950315+0j)</td>\n",
       "      <td>95.0</td>\n",
       "      <td>3.534624</td>\n",
       "      <td>3.235887</td>\n",
       "    </tr>\n",
       "    <tr>\n",
       "      <th>54</th>\n",
       "      <td>6</td>\n",
       "      <td>10</td>\n",
       "      <td>10</td>\n",
       "      <td>(1.3499828364950315+0j)</td>\n",
       "      <td>95.0</td>\n",
       "      <td>2.486080</td>\n",
       "      <td>3.534624</td>\n",
       "    </tr>\n",
       "    <tr>\n",
       "      <th>55</th>\n",
       "      <td>7</td>\n",
       "      <td>10</td>\n",
       "      <td>10</td>\n",
       "      <td>(1.3499828364950315+0j)</td>\n",
       "      <td>95.0</td>\n",
       "      <td>3.373232</td>\n",
       "      <td>2.486080</td>\n",
       "    </tr>\n",
       "    <tr>\n",
       "      <th>56</th>\n",
       "      <td>8</td>\n",
       "      <td>10</td>\n",
       "      <td>12</td>\n",
       "      <td>(1.3499828364950315+0j)</td>\n",
       "      <td>95.0</td>\n",
       "      <td>3.214830</td>\n",
       "      <td>3.373232</td>\n",
       "    </tr>\n",
       "    <tr>\n",
       "      <th>57</th>\n",
       "      <td>9</td>\n",
       "      <td>12</td>\n",
       "      <td>13</td>\n",
       "      <td>(1.3499828364950315+0j)</td>\n",
       "      <td>95.0</td>\n",
       "      <td>4.293220</td>\n",
       "      <td>3.214830</td>\n",
       "    </tr>\n",
       "    <tr>\n",
       "      <th>58</th>\n",
       "      <td>10</td>\n",
       "      <td>13</td>\n",
       "      <td>14</td>\n",
       "      <td>(1.3499828364950315+0j)</td>\n",
       "      <td>95.0</td>\n",
       "      <td>3.279703</td>\n",
       "      <td>4.293220</td>\n",
       "    </tr>\n",
       "    <tr>\n",
       "      <th>59</th>\n",
       "      <td>11</td>\n",
       "      <td>14</td>\n",
       "      <td>15</td>\n",
       "      <td>(1.3499828364950315+0j)</td>\n",
       "      <td>95.0</td>\n",
       "      <td>3.481699</td>\n",
       "      <td>3.279703</td>\n",
       "    </tr>\n",
       "    <tr>\n",
       "      <th>60</th>\n",
       "      <td>12</td>\n",
       "      <td>15</td>\n",
       "      <td>16</td>\n",
       "      <td>(1.3499828364950315+0j)</td>\n",
       "      <td>95.0</td>\n",
       "      <td>3.487091</td>\n",
       "      <td>3.481699</td>\n",
       "    </tr>\n",
       "    <tr>\n",
       "      <th>61</th>\n",
       "      <td>13</td>\n",
       "      <td>16</td>\n",
       "      <td>17</td>\n",
       "      <td>(1.3499828364950315+0j)</td>\n",
       "      <td>95.0</td>\n",
       "      <td>3.762393</td>\n",
       "      <td>3.487091</td>\n",
       "    </tr>\n",
       "    <tr>\n",
       "      <th>62</th>\n",
       "      <td>14</td>\n",
       "      <td>17</td>\n",
       "      <td>18</td>\n",
       "      <td>(1.3499828364950315+0j)</td>\n",
       "      <td>95.0</td>\n",
       "      <td>3.598929</td>\n",
       "      <td>3.762393</td>\n",
       "    </tr>\n",
       "    <tr>\n",
       "      <th>63</th>\n",
       "      <td>15</td>\n",
       "      <td>18</td>\n",
       "      <td>19</td>\n",
       "      <td>(1.3499828364950315+0j)</td>\n",
       "      <td>95.0</td>\n",
       "      <td>3.584746</td>\n",
       "      <td>3.598929</td>\n",
       "    </tr>\n",
       "    <tr>\n",
       "      <th>64</th>\n",
       "      <td>16</td>\n",
       "      <td>19</td>\n",
       "      <td>20</td>\n",
       "      <td>(1.3499828364950315+0j)</td>\n",
       "      <td>95.0</td>\n",
       "      <td>3.597650</td>\n",
       "      <td>3.584746</td>\n",
       "    </tr>\n",
       "    <tr>\n",
       "      <th>65</th>\n",
       "      <td>17</td>\n",
       "      <td>20</td>\n",
       "      <td>21</td>\n",
       "      <td>(1.3499828364950315+0j)</td>\n",
       "      <td>95.0</td>\n",
       "      <td>3.675856</td>\n",
       "      <td>3.597650</td>\n",
       "    </tr>\n",
       "    <tr>\n",
       "      <th>66</th>\n",
       "      <td>18</td>\n",
       "      <td>21</td>\n",
       "      <td>22</td>\n",
       "      <td>(1.3499828364950315+0j)</td>\n",
       "      <td>95.0</td>\n",
       "      <td>3.411850</td>\n",
       "      <td>3.675856</td>\n",
       "    </tr>\n",
       "    <tr>\n",
       "      <th>67</th>\n",
       "      <td>19</td>\n",
       "      <td>22</td>\n",
       "      <td>23</td>\n",
       "      <td>(1.3499828364950317+0j)</td>\n",
       "      <td>95.0</td>\n",
       "      <td>3.523714</td>\n",
       "      <td>3.411850</td>\n",
       "    </tr>\n",
       "    <tr>\n",
       "      <th>68</th>\n",
       "      <td>20</td>\n",
       "      <td>23</td>\n",
       "      <td>-99</td>\n",
       "      <td>(1.3499828364950315+0j)</td>\n",
       "      <td>95.0</td>\n",
       "      <td>3.630816</td>\n",
       "      <td>3.523714</td>\n",
       "    </tr>\n",
       "    <tr>\n",
       "      <th>69</th>\n",
       "      <td>21</td>\n",
       "      <td>-99</td>\n",
       "      <td>-99</td>\n",
       "      <td>(1.3499828364950315+0j)</td>\n",
       "      <td>95.0</td>\n",
       "      <td>3.543855</td>\n",
       "      <td>3.630816</td>\n",
       "    </tr>\n",
       "    <tr>\n",
       "      <th>70</th>\n",
       "      <td>22</td>\n",
       "      <td>-99</td>\n",
       "      <td>-99</td>\n",
       "      <td>(1.3499828364950315+0j)</td>\n",
       "      <td>95.0</td>\n",
       "      <td>3.291393</td>\n",
       "      <td>3.543855</td>\n",
       "    </tr>\n",
       "    <tr>\n",
       "      <th>71</th>\n",
       "      <td>23</td>\n",
       "      <td>-99</td>\n",
       "      <td>-99</td>\n",
       "      <td>(1.3499828364950315+0j)</td>\n",
       "      <td>95.0</td>\n",
       "      <td>3.576379</td>\n",
       "      <td>3.291393</td>\n",
       "    </tr>\n",
       "  </tbody>\n",
       "</table>\n",
       "<p>72 rows × 7 columns</p>\n",
       "</div>"
      ],
      "text/plain": [
       "    bin_true  bin_lo  bin_hi                 refr_eff    rh  cscat_hi_ratio  \\\n",
       "0          0       0       1               (1.521+0j)   0.0        1.000000   \n",
       "1          1       1       2               (1.521+0j)   0.0        1.000000   \n",
       "2          2       2       3               (1.521+0j)   0.0        1.000000   \n",
       "3          3       3       4               (1.521+0j)   0.0        1.000000   \n",
       "4          4       4       5               (1.521+0j)   0.0        1.000000   \n",
       "5          5       5       6               (1.521+0j)   0.0        1.000000   \n",
       "6          6       6       8               (1.521+0j)   0.0        1.000000   \n",
       "7          7       8       8               (1.521+0j)   0.0        1.000000   \n",
       "8          8       8       9               (1.521+0j)   0.0        1.000000   \n",
       "9          9       9      10               (1.521+0j)   0.0        1.000000   \n",
       "10        10      10      11               (1.521+0j)   0.0        1.000000   \n",
       "11        11      11      12               (1.521+0j)   0.0        1.000000   \n",
       "12        12      12      13               (1.521+0j)   0.0        1.000000   \n",
       "13        13      13      14               (1.521+0j)   0.0        1.000000   \n",
       "14        14      14      15               (1.521+0j)   0.0        1.000000   \n",
       "15        15      15      16               (1.521+0j)   0.0        1.000000   \n",
       "16        16      16      17               (1.521+0j)   0.0        1.000000   \n",
       "17        17      17      18               (1.521+0j)   0.0        1.000000   \n",
       "18        18      18      19               (1.521+0j)   0.0        1.000000   \n",
       "19        19      19      20               (1.521+0j)   0.0        1.000000   \n",
       "20        20      20      21               (1.521+0j)   0.0        1.000000   \n",
       "21        21      21      22               (1.521+0j)   0.0        1.000000   \n",
       "22        22      22      23               (1.521+0j)   0.0        1.000000   \n",
       "23        23      23     -99               (1.521+0j)   0.0        1.000000   \n",
       "24         0       0       1  (1.4792597247157389+0j)  35.0        1.087797   \n",
       "25         1       1       2  (1.4792597247157389+0j)  35.0        1.152527   \n",
       "26         2       2       3   (1.479259724715739+0j)  35.0        1.020034   \n",
       "27         3       3       4   (1.479259724715739+0j)  35.0        1.020747   \n",
       "28         4       4       5   (1.479259724715739+0j)  35.0        1.086050   \n",
       "29         5       5       7  (1.4792597247157389+0j)  35.0        1.330624   \n",
       "..       ...     ...     ...                      ...   ...             ...   \n",
       "42        18      18      19   (1.479259724715739+0j)  35.0        1.084164   \n",
       "43        19      19      20   (1.479259724715739+0j)  35.0        1.123483   \n",
       "44        20      20      21   (1.479259724715739+0j)  35.0        1.104242   \n",
       "45        21      21      22   (1.479259724715739+0j)  35.0        1.109915   \n",
       "46        22      22      23   (1.479259724715739+0j)  35.0        1.117296   \n",
       "47        23      23     -99   (1.479259724715739+0j)  35.0        1.122860   \n",
       "48         0       2       3  (1.3499828364950315+0j)  95.0        3.015758   \n",
       "49         1       3       5  (1.3499828364950315+0j)  95.0        2.550998   \n",
       "50         2       5       7  (1.3499828364950315+0j)  95.0        2.634449   \n",
       "51         3       7       8  (1.3499828364950315+0j)  95.0        3.255504   \n",
       "52         4       8       8  (1.3499828364950315+0j)  95.0        3.235887   \n",
       "53         5       8      10  (1.3499828364950315+0j)  95.0        3.534624   \n",
       "54         6      10      10  (1.3499828364950315+0j)  95.0        2.486080   \n",
       "55         7      10      10  (1.3499828364950315+0j)  95.0        3.373232   \n",
       "56         8      10      12  (1.3499828364950315+0j)  95.0        3.214830   \n",
       "57         9      12      13  (1.3499828364950315+0j)  95.0        4.293220   \n",
       "58        10      13      14  (1.3499828364950315+0j)  95.0        3.279703   \n",
       "59        11      14      15  (1.3499828364950315+0j)  95.0        3.481699   \n",
       "60        12      15      16  (1.3499828364950315+0j)  95.0        3.487091   \n",
       "61        13      16      17  (1.3499828364950315+0j)  95.0        3.762393   \n",
       "62        14      17      18  (1.3499828364950315+0j)  95.0        3.598929   \n",
       "63        15      18      19  (1.3499828364950315+0j)  95.0        3.584746   \n",
       "64        16      19      20  (1.3499828364950315+0j)  95.0        3.597650   \n",
       "65        17      20      21  (1.3499828364950315+0j)  95.0        3.675856   \n",
       "66        18      21      22  (1.3499828364950315+0j)  95.0        3.411850   \n",
       "67        19      22      23  (1.3499828364950317+0j)  95.0        3.523714   \n",
       "68        20      23     -99  (1.3499828364950315+0j)  95.0        3.630816   \n",
       "69        21     -99     -99  (1.3499828364950315+0j)  95.0        3.543855   \n",
       "70        22     -99     -99  (1.3499828364950315+0j)  95.0        3.291393   \n",
       "71        23     -99     -99  (1.3499828364950315+0j)  95.0        3.576379   \n",
       "\n",
       "    cscat_lo_ratio  \n",
       "0         1.000000  \n",
       "1         1.000000  \n",
       "2         1.000000  \n",
       "3         1.000000  \n",
       "4         1.000000  \n",
       "5         1.000000  \n",
       "6         1.000000  \n",
       "7         1.000000  \n",
       "8         1.000000  \n",
       "9         1.000000  \n",
       "10        1.000000  \n",
       "11        1.000000  \n",
       "12        1.000000  \n",
       "13        1.000000  \n",
       "14        1.000000  \n",
       "15        1.000000  \n",
       "16        1.000000  \n",
       "17        1.000000  \n",
       "18        1.000000  \n",
       "19        1.000000  \n",
       "20        1.000000  \n",
       "21        1.000000  \n",
       "22        1.000000  \n",
       "23        1.000000  \n",
       "24        1.274965  \n",
       "25        1.087797  \n",
       "26        1.152527  \n",
       "27        1.020034  \n",
       "28        1.020747  \n",
       "29        1.086050  \n",
       "..             ...  \n",
       "42        1.142502  \n",
       "43        1.084164  \n",
       "44        1.123483  \n",
       "45        1.104242  \n",
       "46        1.109915  \n",
       "47        1.117296  \n",
       "48        5.609730  \n",
       "49        3.015758  \n",
       "50        2.550998  \n",
       "51        2.634449  \n",
       "52        3.255504  \n",
       "53        3.235887  \n",
       "54        3.534624  \n",
       "55        2.486080  \n",
       "56        3.373232  \n",
       "57        3.214830  \n",
       "58        4.293220  \n",
       "59        3.279703  \n",
       "60        3.481699  \n",
       "61        3.487091  \n",
       "62        3.762393  \n",
       "63        3.598929  \n",
       "64        3.584746  \n",
       "65        3.597650  \n",
       "66        3.675856  \n",
       "67        3.411850  \n",
       "68        3.523714  \n",
       "69        3.630816  \n",
       "70        3.543855  \n",
       "71        3.291393  \n",
       "\n",
       "[72 rows x 7 columns]"
      ]
     },
     "execution_count": 26,
     "metadata": {},
     "output_type": "execute_result"
    }
   ],
   "source": [
    "rv = opcsim.metrics.compute_bin_assessment(opc, refr=complex(1.521, 0), kappa=0.53)\n",
    "\n",
    "rv"
   ]
  },
  {
   "cell_type": "markdown",
   "metadata": {},
   "source": [
    "Above, we see that when RH is low and their is little growth or change in refractive index, we mostly do a great job of assigning particles to the correct bin. However, when the RH increases substantially and significant watre uptake occurs, the combination of massive growth in the actual particle size, along with the substantial change in refractive index, leads to massive oversizing which will have large effects when converting from number distribution to volume and/or mass distribution."
   ]
  },
  {
   "cell_type": "code",
   "execution_count": null,
   "metadata": {},
   "outputs": [],
   "source": []
  }
 ],
 "metadata": {
  "kernelspec": {
   "display_name": "Python 3",
   "language": "python",
   "name": "python3"
  },
  "language_info": {
   "codemirror_mode": {
    "name": "ipython",
    "version": 3
   },
   "file_extension": ".py",
   "mimetype": "text/x-python",
   "name": "python",
   "nbconvert_exporter": "python",
   "pygments_lexer": "ipython3",
   "version": "3.6.5"
  }
 },
 "nbformat": 4,
 "nbformat_minor": 2
}
