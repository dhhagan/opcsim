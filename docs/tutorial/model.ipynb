{
 "cells": [
  {
   "cell_type": "raw",
   "metadata": {},
   "source": [
    ".. _model_tutorial:\n"
   ]
  },
  {
   "cell_type": "markdown",
   "metadata": {},
   "source": [
    "# Using OPCSIM to Build and Model an Optical Particle Counter (OPC)\n",
    "\n",
    "The following tutorial will show you how a low-cost OPC is represented when using the opcsim software. You will learn how to build a model OPC, how to mimic a calibration for specific aerosols, and how to evaluate the OPC against a simulated aerosol distribution. Visualization tools will also be discussed.\n",
    "\n",
    "First, we import the python libraries we need and set the styles used for plotting throughout this tutorial."
   ]
  },
  {
   "cell_type": "code",
   "execution_count": 71,
   "metadata": {},
   "outputs": [
    {
     "name": "stdout",
     "output_type": "stream",
     "text": [
      "0.3.0+9.g024c67e\n"
     ]
    }
   ],
   "source": [
    "# Make imports\n",
    "import opcsim\n",
    "import numpy as np\n",
    "import matplotlib.pyplot as plt\n",
    "import matplotlib.ticker as mticks\n",
    "import seaborn as sns\n",
    "\n",
    "%matplotlib inline\n",
    "\n",
    "# turn off warnings temporarily\n",
    "import warnings\n",
    "warnings.simplefilter('ignore')\n",
    "\n",
    "# Let's set some default seaborn settings\n",
    "sns.set(context='notebook', style='ticks', palette='dark', font_scale=1.75, \n",
    "        rc={'figure.figsize': (12,6), **opcsim.plots.rc_log})\n",
    "\n",
    "print (opcsim.__version__)\n"
   ]
  },
  {
   "cell_type": "markdown",
   "metadata": {},
   "source": [
    "# The OPC Model\n",
    "\n",
    "The `opcsim.OPC` class provides a simple way to model most of the functionality of low-cost optical particle counters. This model is based on just a few instrument parameters which should be defined in the manufacturer's speficication sheet. \n",
    "\n",
    "An OPC is defined by just the laser wavelength (`wl`), the exact `bins` the OPC uses as its output, and the angles for which the scattered light is collected between (`theta`). Other work has considered much more detail that this, including the electrical properties and characteristics of the photodetector, etc. However, this typically requires knowledge or information that is not commonly available in the datasheet of a low-cost particle counter, and thus we try to provide a method that does not rely on this information. \n",
    "\n",
    "Within the software itself, there is flexibility in how exactly you define the bins. In the end, you will end up with a 3xn array of values, where n is the number of bins. Each bin is then defined by its left bin boundary, midpoint, and right bin boundary. \n",
    " \n",
    "To simulate an OPC using the `opcsim.OPC` class, we initiate as follows:"
   ]
  },
  {
   "cell_type": "code",
   "execution_count": 2,
   "metadata": {},
   "outputs": [
    {
     "data": {
      "text/plain": [
       "<class 'opcsim.models.OPC'>"
      ]
     },
     "execution_count": 2,
     "metadata": {},
     "output_type": "execute_result"
    }
   ],
   "source": [
    "opc = opcsim.OPC(wl=0.658, n_bins=5, theta=(32., 88.))\n",
    "\n",
    "opc"
   ]
  },
  {
   "cell_type": "markdown",
   "metadata": {},
   "source": [
    "When initiated with no arguments, the default arguments are used and can be looked up in the API documentation. This sets $dmin=0.5\\;\\mu m$, $dmax=2.5\\;\\mu m$, and $n_{bins}=5$. We can view the number of bins using the `OPC.n_bins` attribute."
   ]
  },
  {
   "cell_type": "code",
   "execution_count": 3,
   "metadata": {},
   "outputs": [
    {
     "data": {
      "text/plain": [
       "5"
      ]
     },
     "execution_count": 3,
     "metadata": {},
     "output_type": "execute_result"
    }
   ],
   "source": [
    "opc.n_bins"
   ]
  },
  {
   "cell_type": "markdown",
   "metadata": {},
   "source": [
    "We can also view the bin boundaries and midpoint diameters using the `OPC.bins` attribute. Here, we receieve a **3xn** array where the first entry is the left bin boundary, the middle is the midpoint diameter, and the last entry is the right bin boundary."
   ]
  },
  {
   "cell_type": "code",
   "execution_count": 4,
   "metadata": {},
   "outputs": [
    {
     "data": {
      "text/plain": [
       "array([[0.5       , 0.58730947, 0.68986483],\n",
       "       [0.68986483, 0.8103283 , 0.95182697],\n",
       "       [0.95182697, 1.11803399, 1.3132639 ],\n",
       "       [1.3132639 , 1.54258466, 1.81194916],\n",
       "       [1.81194916, 2.12834981, 2.5       ]])"
      ]
     },
     "execution_count": 4,
     "metadata": {},
     "output_type": "execute_result"
    }
   ],
   "source": [
    "opc.bins"
   ]
  },
  {
   "cell_type": "markdown",
   "metadata": {},
   "source": [
    "## Building more specific OPC's\n",
    "\n",
    "We can build more complex - or specified - models by increasing the number of bins in a couple of ways: (1) we can change the minimum or maximum cutoffs, or the total number of bins:"
   ]
  },
  {
   "cell_type": "code",
   "execution_count": 5,
   "metadata": {},
   "outputs": [
    {
     "data": {
      "text/plain": [
       "array([[ 0.38      ,  0.46019969,  0.55732566],\n",
       "       [ 0.55732566,  0.67495025,  0.81739972],\n",
       "       [ 0.81739972,  0.98991341,  1.19883643],\n",
       "       [ 1.19883643,  1.45185303,  1.75826924],\n",
       "       [ 1.75826924,  2.12935514,  2.57875939],\n",
       "       [ 2.57875939,  3.12301123,  3.78212839],\n",
       "       [ 3.78212839,  4.58035343,  5.54704531],\n",
       "       [ 5.54704531,  6.71775925,  8.13555449],\n",
       "       [ 8.13555449,  9.85257798, 11.93198238],\n",
       "       [11.93198238, 14.45024885, 17.5       ]])"
      ]
     },
     "execution_count": 5,
     "metadata": {},
     "output_type": "execute_result"
    }
   ],
   "source": [
    "opc_10bins = opcsim.OPC(wl=0.658, n_bins=10, dmin=0.38, dmax=17.5)\n",
    "\n",
    "opc_10bins.bins"
   ]
  },
  {
   "cell_type": "markdown",
   "metadata": {},
   "source": [
    "If we are trying to model a specific OPC that has pre-defined bins, we can also do that with the help of some utility methods. The bins argument in the OPC class requires a **3xn** array as seen above. Often, you may only have the bin boundary information and not the midpoints. We can define the bins as an array of the bin boundaries, where there are 1 more entries than total number of bins, as follows:"
   ]
  },
  {
   "cell_type": "code",
   "execution_count": 6,
   "metadata": {},
   "outputs": [
    {
     "data": {
      "text/plain": [
       "array([[0.38      , 0.45299007, 0.54      ],\n",
       "       [0.54      , 0.64899923, 0.78      ],\n",
       "       [0.78      , 0.90498619, 1.05      ],\n",
       "       [1.05      , 1.25499004, 1.5       ],\n",
       "       [1.5       , 1.93649167, 2.5       ]])"
      ]
     },
     "execution_count": 6,
     "metadata": {},
     "output_type": "execute_result"
    }
   ],
   "source": [
    "opc = opcsim.OPC(wl=0.658, bins=[0.38, 0.54, 0.78, 1.05, 1.5, 2.5])\n",
    "\n",
    "opc.bins"
   ]
  },
  {
   "cell_type": "markdown",
   "metadata": {},
   "source": [
    "This more or less covers how we can build various OPC's - if you are still unsure of what to do in a specific case, feel free to post questions on the GitHub repository under the 'Issues' tab."
   ]
  },
  {
   "cell_type": "markdown",
   "metadata": {},
   "source": [
    "# OPC Calibration\n",
    "\n",
    "Probably the most important part of our representation is how we calibrate our sensor. Unlike nephelometers of photometers, OPC's scatter the light off of, and count, each and every particle (unless there are too many and coincidence becomes an issue, but that's a whole different problem). The light scattered off a particle is proportional to the scattering cross-section of the particle in question. To represent this in our model, we perform Mie Theory calculations for each and every particle in the aerosol distribution, calculating the scattering cross-section ($C_{scat}$) assuming the particle is spherical and has some refractive index as defined when you built the distribution. \n",
    "\n",
    "To determine which particle size bin a certain $C_{scat}$ value belongs to, we must calibrate the sensor. There are many ways to do this, and they are documented throughout the literature, especially for expensive, nice OPC's. Our goal is to come up with a functional relationship that returns an OPC particle size bin for any given $C_{scat}$ value. We provide two simple methods as built-in options within the software, but users can elect to define their own.\n",
    "\n",
    "\n",
    "First, let's take a look at what a simple scattering pattern looks like for an OPC with a wavelength of 658 nm and a collection angle of 32-88 degrees, assuming we are using PSL's."
   ]
  },
  {
   "cell_type": "code",
   "execution_count": 7,
   "metadata": {},
   "outputs": [
    {
     "data": {
      "text/plain": [
       "<class 'opcsim.models.OPC'>"
      ]
     },
     "execution_count": 7,
     "metadata": {},
     "output_type": "execute_result"
    }
   ],
   "source": [
    "opc = opcsim.OPC(wl=0.658, theta=(32.0, 88.0), n_bins=10)\n",
    "\n",
    "opc"
   ]
  },
  {
   "cell_type": "code",
   "execution_count": 8,
   "metadata": {},
   "outputs": [
    {
     "data": {
      "image/png": "[encoded data removed]",
      "text/plain": [
       "<Figure size 432x432 with 1 Axes>"
      ]
     },
     "metadata": {},
     "output_type": "display_data"
    }
   ],
   "source": [
    "# generate an array of particle diameters\n",
    "dp = np.logspace(-1, 1.25, 250)\n",
    "vals = [opcsim.mie.cscat(x, wl=0.658, refr=complex(1.59, 0), theta1=32., theta2=88.) for x in dp]\n",
    "\n",
    "fig, ax = plt.subplots(1, figsize=(6, 6))\n",
    "\n",
    "ax.plot(dp, vals, lw=3)\n",
    "\n",
    "ax.semilogx()\n",
    "ax.semilogy()\n",
    "\n",
    "ax.set_title(\"Calibration Curve for PSLs\", y=1.02)\n",
    "ax.set_xlabel(\"$D_p\\;[\\mu m]$\")\n",
    "ax.set_ylabel(\"$C_{scat}$\")\n",
    "\n",
    "sns.despine(offset=5)"
   ]
  },
  {
   "cell_type": "markdown",
   "metadata": {},
   "source": [
    "As we can see in the figure above, there are $C_{scat}$ values that are not monotonically increasing as the particle diameter increases, which may make it difficult to assign that value to 1 bin specifically. This is a very well known and documented issue with OPC's and should play a role in choosing bin boundaries. Additionally, it only gets more complicated as the particle optical properties change!\n",
    "\n",
    "Now, we will examine the two simple approaches to modeling our ways out of this."
   ]
  },
  {
   "cell_type": "markdown",
   "metadata": {},
   "source": [
    "## Method 1: `smooth`\n",
    "\n",
    "If we were to plot the bin boundaries for a given OPC on the figure above, we would likely see periods where the $C_{scat}$ value decreases from one bin boundary to the next, which makes our life difficult. Thus, we can smooth it out by simply interpolating across any of these 'down' periods. Note that this can make it quite difficult for particles to get assigned to certain bins, especially if the $C_{scat}$ values plateau - this can be somewhat solved by combining these bins into one bin to reduce the uncertainty in bin assignment, though it will make the correct particle sizing in that bin less precise as well.\n",
    "\n",
    "We can examine how this works by showing a quick example. Let's grab the $C_{scat}$ values for the OPC above at each bin boundary:"
   ]
  },
  {
   "cell_type": "code",
   "execution_count": 9,
   "metadata": {},
   "outputs": [
    {
     "data": {
      "text/plain": [
       "array([0.5       , 0.58730947, 0.68986483, 0.8103283 , 0.95182697,\n",
       "       1.11803399, 1.3132639 , 1.54258466, 1.81194916, 2.12834981,\n",
       "       2.5       ])"
      ]
     },
     "execution_count": 9,
     "metadata": {},
     "output_type": "execute_result"
    }
   ],
   "source": [
    "opc.bin_boundaries"
   ]
  },
  {
   "cell_type": "code",
   "execution_count": 10,
   "metadata": {},
   "outputs": [
    {
     "data": {
      "text/plain": [
       "array([2.86492750e-09, 4.48206290e-09, 5.25272279e-09, 6.02393845e-09,\n",
       "       6.64256044e-09, 9.09772227e-09, 1.25785156e-08, 1.25676003e-08,\n",
       "       1.40492264e-08, 1.99683184e-08, 4.17442631e-08])"
      ]
     },
     "execution_count": 10,
     "metadata": {},
     "output_type": "execute_result"
    }
   ],
   "source": [
    "v = np.array([opcsim.mie.cscat(x, wl=0.658, theta1=32.,\n",
    "                                      theta2=88., refr=complex(1.59, 0)) for x in opc.bin_boundaries])\n",
    "\n",
    "# print out the cscat values for each bin boundary\n",
    "v"
   ]
  },
  {
   "cell_type": "markdown",
   "metadata": {},
   "source": [
    "Let's check to see if there are any points where the value actually decreases as the particle diameter increases."
   ]
  },
  {
   "cell_type": "code",
   "execution_count": 11,
   "metadata": {},
   "outputs": [
    {
     "data": {
      "text/plain": [
       "array([False, False, False, False, False, False,  True, False, False,\n",
       "       False])"
      ]
     },
     "execution_count": 11,
     "metadata": {},
     "output_type": "execute_result"
    }
   ],
   "source": [
    "np.diff(v) < 0"
   ]
  },
  {
   "cell_type": "markdown",
   "metadata": {},
   "source": [
    "Yup! We got one. So, let's apply the `opcsim.utils.squash_dips` function to remove them:"
   ]
  },
  {
   "cell_type": "code",
   "execution_count": 12,
   "metadata": {},
   "outputs": [
    {
     "data": {
      "text/plain": [
       "array([2.86492750e-09, 4.48206290e-09, 5.25272279e-09, 6.02393845e-09,\n",
       "       6.64256044e-09, 9.09772227e-09, 1.08326613e-08, 1.25676003e-08,\n",
       "       1.40492264e-08, 1.99683184e-08, 4.17442631e-08])"
      ]
     },
     "execution_count": 12,
     "metadata": {},
     "output_type": "execute_result"
    }
   ],
   "source": [
    "opcsim.utils.squash_dips(v)"
   ]
  },
  {
   "cell_type": "markdown",
   "metadata": {},
   "source": [
    "We can see above that the offending value has now been modified."
   ]
  },
  {
   "cell_type": "markdown",
   "metadata": {},
   "source": [
    "## Method 2: `linear`\n",
    "\n",
    "The second approach to generating our map of $C_{scat}$ to $D_p$ values is to fit a line to the data in log-log space. Here, we begin by plotting the bin boundaries on top of the PSL scattering line for an OPC that models the Alphasense OPC-N2."
   ]
  },
  {
   "cell_type": "code",
   "execution_count": 13,
   "metadata": {},
   "outputs": [
    {
     "data": {
      "image/png": "[encoded data removed]",
      "text/plain": [
       "<Figure size 576x576 with 1 Axes>"
      ]
     },
     "metadata": {},
     "output_type": "display_data"
    }
   ],
   "source": [
    "from scipy.interpolate import interp1d\n",
    "\n",
    "fig, ax = plt.subplots(1, figsize=(8, 8))\n",
    "\n",
    "ax.plot(dp, vals, lw=3)\n",
    "\n",
    "ax.set_xlabel(\"$D_p$, $\\mu m$\")\n",
    "ax.set_ylabel(\"$C_{scat}$, $cm^2$/particle\")\n",
    "\n",
    "# draw some bins\n",
    "f = interp1d(x=dp, y=vals)\n",
    "\n",
    "bb = np.array([0.38, 0.54, 0.78, 1.05, 1.34, 1.59, 2.07, 3., 4., \n",
    "               5., 6.5, 8., 10., 12., 14., 16., 17.5])\n",
    "\n",
    "ax.scatter(bb, f(bb), color='r', s=50, label=\"OPC-N2 Bin Boundaries\")\n",
    "ax.legend()\n",
    "\n",
    "ax.semilogx()\n",
    "ax.semilogy()\n",
    "\n",
    "sns.despine(offset=5)"
   ]
  },
  {
   "cell_type": "markdown",
   "metadata": {},
   "source": [
    "We can fit a line to these data points, which will generate an easy mapping between the two values - however, it will likely undersize particles in some regions and oversize them in others. You can easily create complicated polynomial or machine-learning approaches to matching these values; however, it will all get thrown into chaos when we begin to incorporate particles of various optical properties and morphologies."
   ]
  },
  {
   "cell_type": "markdown",
   "metadata": {},
   "source": [
    "## So, how do we calibrate our sensor?\n",
    "\n",
    "It is recommended you begin with one of the two approaches above, which are both built into the `OPC.calibrate` function. Once you get a hang of those, you can go ahead and get more sophisticated.\n",
    "\n",
    "To calibrate our sensor, we simply define the material we want to use to calibrate. We can define the material in one of two ways: \n",
    "\n",
    "  1. you can input a string with the material name\n",
    "  2. you can input the materials complex refractive index at the wavelength of your device\n",
    "  \n",
    "The material lookup table is quite limited and are mostly values taken as close to 658 nm as possible. If you would like to add to this table, please open an issue on GitHub.\n",
    "\n",
    "### Current Options\n",
    "\n",
    "| option | Material | Refractive Index |\n",
    "|:------:|:--------:|:----------------:|\n",
    "| `psl` | Polystyrene Latex Spheres | 1.592 + 0i |\n",
    "| `ammonium_sulfate` | Ammonium Sulfate | 1.521 + 0i |\n",
    "| `sodium_chloride` | Sodium Chloride | 1.5405 + 0i |\n",
    "| `sodium_nitrate` | Sodium Nitrate | 1.448 + 0i |\n",
    "| `black_carbon` | Black Carbon | 1.95 + 0.79i |\n",
    "| `sulfuric_acid` | Sulfuric Acid | 1.427 + 0i |\n",
    "| `soa` | Secondary Organic Aerosol | 1.4 + 0.002i |\n",
    "| `urban_high` | High estimate for Urban Aerosol | 1.6 + 0.034i |\n",
    "| `urban_low` | Low estimate for Urban Aerosol | 1.73 + 0.086i |\n",
    "\n",
    "\n",
    "To use the method, we simply state the material and the method. We can also get more complicated (check the API docs) if you want to send custom arguments to the fitting function, etc. A simple example would be:"
   ]
  },
  {
   "cell_type": "code",
   "execution_count": 14,
   "metadata": {},
   "outputs": [
    {
     "data": {
      "text/plain": [
       "functools.partial(<bound method OPC._digitize_opc_bins of <class 'opcsim.models.OPC'>>, cscat_boundaries=array([2.86492750e-09, 4.48206290e-09, 5.25272279e-09, 6.02393845e-09,\n",
       "       6.64256044e-09, 9.09772227e-09, 1.08326613e-08, 1.25676003e-08,\n",
       "       1.40492264e-08, 1.99683184e-08, 4.17442631e-08]))"
      ]
     },
     "execution_count": 14,
     "metadata": {},
     "output_type": "execute_result"
    }
   ],
   "source": [
    "opc.calibrate(\"psl\", method=\"smooth\")\n",
    "\n",
    "opc.calibration_function"
   ]
  },
  {
   "cell_type": "markdown",
   "metadata": {},
   "source": [
    "Alternatively, we could calibrate using the linear fit:"
   ]
  },
  {
   "cell_type": "code",
   "execution_count": 15,
   "metadata": {},
   "outputs": [
    {
     "data": {
      "text/plain": [
       "functools.partial(<bound method OPC._digitize_opc_bins of <class 'opcsim.models.OPC'>>, cscat_boundaries=array([3.12354813e-09, 3.85694293e-09, 4.76253547e-09, 5.88075700e-09,\n",
       "       7.26153183e-09, 8.96650627e-09, 1.10718009e-08, 1.36714091e-08,\n",
       "       1.68813933e-08, 2.08450672e-08, 2.57393936e-08]))"
      ]
     },
     "execution_count": 15,
     "metadata": {},
     "output_type": "execute_result"
    }
   ],
   "source": [
    "opc.calibrate(\"psl\", method=\"linear\")\n",
    "\n",
    "opc.calibration_function"
   ]
  },
  {
   "cell_type": "markdown",
   "metadata": {},
   "source": [
    "When the calibration is executed, it saves the calibration function, which is a digitizer which simply uses the $C_{scat}$ values we computed at each bin boundary during the calibration to return the OPC bin for any given $C_{scat}$ value. If a $C_{scat}$ value is either too high or too low (above or below the boundaries we computed), then it will not assign that particle to a bin.\""
   ]
  },
  {
   "cell_type": "markdown",
   "metadata": {},
   "source": [
    "# Evaluating an OPC for a given Aerosol Distribution\n",
    "\n",
    "The entire point of this software is to model how various OPC's and other particle sensors \"see\" aerosols in the real world. The Aerosol Distribution tutorial showed how we can model realistic aerosol distributions. This section will review how the OPC's we just built \"see\" these distributions. Generally speaking, the process works as follows:\n",
    "\n",
    "  1. For every particle in the aerosol distribution, we calculate the scattering cross-section\n",
    "  2. For each of the scattering cross-section's we just calculated, we assign them to a bin of the OPC based on the calibration curve we generated\n",
    "  3. We end up with a histogram in the form of the cumulative number of particles in each OPC bin, just as we would if we were using a commercially available OPC\n",
    "  \n",
    "  \n",
    "The base method we use to obtain these numbers is `OPC.evaluate`. This method returns the number of particles the OPC \"sees\" in each bin for a given aerosol distribution. One component that hasn't yet been discussed is how the OPC reacts as relative humidity changes. Each of these methods takes an argument for relative humidity (`rh`) which will automatically calculate the change in particle size due to hygroscopic growth per $\\kappa$-kohler theory; the refractive index and density will also change accordingly based on the amount of growth that takes place.\n",
    "\n",
    "To evaluate a distribution, we need to first define the AerosolDistribution and the OPC.\n",
    "\n",
    "  * Show examples for a few different scenarios, including growth due to RH\n",
    "  * show examples for different calibration approaches"
   ]
  },
  {
   "cell_type": "code",
   "execution_count": 16,
   "metadata": {},
   "outputs": [
    {
     "data": {
      "text/plain": [
       "AerosolDistribution: Amm. Sulfate"
      ]
     },
     "execution_count": 16,
     "metadata": {},
     "output_type": "execute_result"
    }
   ],
   "source": [
    "# build a single mode of ammonium sulfate\n",
    "d = opcsim.AerosolDistribution(\"Amm. Sulfate\")\n",
    "\n",
    "d.add_mode(n=1e3, gm=250e-3, gsd=1.65, kappa=0.53, rho=1.77, refr=complex(1.521, 0))\n",
    "\n",
    "d"
   ]
  },
  {
   "cell_type": "code",
   "execution_count": 128,
   "metadata": {},
   "outputs": [
    {
     "data": {
      "text/plain": [
       "<class 'opcsim.models.OPC'>"
      ]
     },
     "execution_count": 128,
     "metadata": {},
     "output_type": "execute_result"
    }
   ],
   "source": [
    "# build an OPC\n",
    "opc = opcsim.OPC(wl=0.658, n_bins=24, dmin=0.35, dmax=40.)\n",
    "\n",
    "opc"
   ]
  },
  {
   "cell_type": "markdown",
   "metadata": {},
   "source": [
    "Let's go ahead and calibrate the OPC using ammonium sulfate:"
   ]
  },
  {
   "cell_type": "code",
   "execution_count": 129,
   "metadata": {},
   "outputs": [],
   "source": [
    "opc.calibrate(\"ammonium_sulfate\", method=\"smooth\")\n",
    "\n",
    "# ax = opcsim.plots.calibration_plot(opc)"
   ]
  },
  {
   "cell_type": "markdown",
   "metadata": {},
   "source": [
    "Now, let's go ahead and evaluate the OPC for the previously defined distribution. This will return the number of particles in each bin:"
   ]
  },
  {
   "cell_type": "code",
   "execution_count": 130,
   "metadata": {},
   "outputs": [
    {
     "data": {
      "text/plain": [
       "array([111.,  71.,  34.,  22.,   7.,   4.,   0.,   0.,   0.,   0.,   0.,\n",
       "         0.,   0.,   0.,   0.,   0.,   0.,   0.,   0.,   0.,   0.,   0.,\n",
       "         0.,   0.])"
      ]
     },
     "execution_count": 130,
     "metadata": {},
     "output_type": "execute_result"
    }
   ],
   "source": [
    "scat, vals = opc.evaluate(d, rh=0.0)\n",
    "\n",
    "vals"
   ]
  },
  {
   "cell_type": "markdown",
   "metadata": {},
   "source": [
    "## Interating across the Particle Size Distribution\n",
    "\n",
    "Another important task for evaluation OPC's is comparing the integrated values across some pre-defined particle size range. We can accomplish this by using the `OPC.integrate` method to calculate either the total number of particles, total surface area, total volume, or total mass betweeen any two diameters.\n",
    "\n",
    "Example:"
   ]
  },
  {
   "cell_type": "code",
   "execution_count": 131,
   "metadata": {},
   "outputs": [
    {
     "data": {
      "text/plain": [
       "249.0"
      ]
     },
     "execution_count": 131,
     "metadata": {},
     "output_type": "execute_result"
    }
   ],
   "source": [
    "opc.integrate(d, dmin=0., dmax=2.5, weight='number', rh=0.)"
   ]
  },
  {
   "cell_type": "code",
   "execution_count": 132,
   "metadata": {},
   "outputs": [
    {
     "data": {
      "text/plain": [
       "562.0"
      ]
     },
     "execution_count": 132,
     "metadata": {},
     "output_type": "execute_result"
    }
   ],
   "source": [
    "opc.integrate(d, dmin=0., dmax=2.5, weight='number', rh=85.)"
   ]
  },
  {
   "cell_type": "markdown",
   "metadata": {},
   "source": [
    "## Visualizing the OPC Histogram\n",
    "\n",
    "Last, it is fairly useful and important for us to be able to easily visualize our results. There are functions built-in to compute the histogram to use with `opcsim.plots.histplot` to easily plot the particle size distribution.\n",
    "\n",
    "Let's go ahead and visualize our results from earlier:"
   ]
  },
  {
   "cell_type": "code",
   "execution_count": 133,
   "metadata": {},
   "outputs": [],
   "source": [
    "# compute the histogram\n",
    "lb, data1, ddp = opc.histogram(d, weight=\"number\", base=\"log10\", rh=0.0)\n",
    "lb, data2, ddp = opc.histogram(d, weight=\"number\", base=\"log10\", rh=95.0)"
   ]
  },
  {
   "cell_type": "code",
   "execution_count": 134,
   "metadata": {},
   "outputs": [
    {
     "data": {
      "image/png": "[encoded data removed]",
      "text/plain": [
       "<Figure size 576x432 with 1 Axes>"
      ]
     },
     "metadata": {},
     "output_type": "display_data"
    }
   ],
   "source": [
    "fig, ax = plt.subplots(1, figsize=(8, 6))\n",
    "\n",
    "ax = opcsim.plots.pdfplot(d, ax=ax, weight=\"number\")\n",
    "ax = opcsim.plots.pdfplot(d, ax=ax, weight=\"number\", rh=95.0)\n",
    "ax = opcsim.plots.histplot(data=data1, bins=opc.bins, ax=ax, label=\"RH=0%\", \n",
    "                           plot_kws=dict(linewidth=2, fill=True, alpha=.5))\n",
    "ax = opcsim.plots.histplot(data=data2, bins=opc.bins, ax=ax, label=\"RH=95%\", \n",
    "                           plot_kws=dict(linewidth=2))\n",
    "\n",
    "ax.set_ylim(0, None)\n",
    "ax.set_xlim(0.01, None)\n",
    "ax.legend(bbox_to_anchor=(.7, 1))\n",
    "\n",
    "sns.despine()"
   ]
  },
  {
   "cell_type": "markdown",
   "metadata": {},
   "source": [
    "### Questions to look into:\n",
    "\n",
    "  1. How much does the RI change at 95% RH?\n",
    "  2. How much does the diameter change at 95% RH?\n",
    "  3. How much does the light scattered change at 95% RH?"
   ]
  },
  {
   "cell_type": "code",
   "execution_count": 135,
   "metadata": {},
   "outputs": [
    {
     "data": {
      "text/plain": [
       "2.228687652433969"
      ]
     },
     "execution_count": 135,
     "metadata": {},
     "output_type": "execute_result"
    }
   ],
   "source": [
    "# compute the wet diameter\n",
    "d_wet = opcsim.utils.k_kohler(diam_dry=1., kappa=0.53, rh=95)\n",
    "\n",
    "d_wet\n"
   ]
  },
  {
   "cell_type": "code",
   "execution_count": 136,
   "metadata": {},
   "outputs": [
    {
     "data": {
      "text/plain": [
       "0.09033423667570016"
      ]
     },
     "execution_count": 136,
     "metadata": {},
     "output_type": "execute_result"
    }
   ],
   "source": [
    "pct_dry = (1**3)/(d_wet**3)\n",
    "pct_dry\n"
   ]
  },
  {
   "cell_type": "code",
   "execution_count": 137,
   "metadata": {},
   "outputs": [
    {
     "data": {
      "text/plain": [
       "(1.3458243579121791+0j)"
      ]
     },
     "execution_count": 137,
     "metadata": {},
     "output_type": "execute_result"
    }
   ],
   "source": [
    "ri = opcsim.utils.ri_eff(species=[complex(1.521, 0), complex(1.33, 0)], diams=[1.,  d_wet])\n",
    "ri\n"
   ]
  },
  {
   "cell_type": "code",
   "execution_count": 138,
   "metadata": {},
   "outputs": [
    {
     "data": {
      "text/plain": [
       "1.3499828364950315"
      ]
     },
     "execution_count": 138,
     "metadata": {},
     "output_type": "execute_result"
    }
   ],
   "source": [
    "pct_dry*1.521 + (1-pct_dry)*1.333\n"
   ]
  },
  {
   "cell_type": "markdown",
   "metadata": {},
   "source": [
    "Make a figure of the Cscat curve with these altered values to see by how much everything shifts"
   ]
  },
  {
   "cell_type": "code",
   "execution_count": 139,
   "metadata": {},
   "outputs": [
    {
     "data": {
      "text/plain": [
       "3.6442810726313466"
      ]
     },
     "execution_count": 139,
     "metadata": {},
     "output_type": "execute_result"
    }
   ],
   "source": [
    "# how much more light is scattered by the larger, wetter particle?\n",
    "opcsim.mie.cscat(d_wet, wl=0.658, refr=ri, theta1=32., theta2=88.) / opcsim.mie.cscat(1., wl=0.658, refr=1.521, theta1=32., theta2=88.)"
   ]
  },
  {
   "cell_type": "markdown",
   "metadata": {},
   "source": [
    "So, it looks like shit should be shifted right, but it's not - gotta look into this."
   ]
  },
  {
   "cell_type": "code",
   "execution_count": 140,
   "metadata": {},
   "outputs": [
    {
     "data": {
      "text/plain": [
       "((0.175, 10.0), 1000.0)"
      ]
     },
     "execution_count": 140,
     "metadata": {},
     "output_type": "execute_result"
    }
   ],
   "source": [
    "bounds0 = (opc.dmin/2, 10.)\n",
    "\n",
    "ntot = d.cdf(dmin=0, dmax=100., weight='number')\n",
    "bounds0, ntot"
   ]
  },
  {
   "cell_type": "code",
   "execution_count": 151,
   "metadata": {},
   "outputs": [],
   "source": [
    "bounds = np.logspace(start=np.log10(bounds0[0]), stop=np.log10(bounds0[1]), num=int(min(ntot/3, 250)))"
   ]
  },
  {
   "cell_type": "code",
   "execution_count": 152,
   "metadata": {},
   "outputs": [],
   "source": [
    "diams = np.mean([bounds[:-1], bounds[1:]], axis=0)\n",
    "\n",
    "rh = 0"
   ]
  },
  {
   "cell_type": "code",
   "execution_count": 153,
   "metadata": {},
   "outputs": [
    {
     "name": "stdout",
     "output_type": "stream",
     "text": [
      "{'label': 'Mode 0', 'N': 1000.0, 'GM': 0.25, 'GSD': 1.65, 'kappa': 0.53, 'rho': 1.77, 'refr': (1.521+0j)}\n"
     ]
    }
   ],
   "source": [
    "rv = np.zeros(opc.n_bins)\n",
    "\n",
    "rh = 95\n",
    "\n",
    "for m in d.modes:\n",
    "    print (m)\n",
    "    n = np.array([d.cdf(dmin=a, dmax=b, mode=m[\"label\"], rh=rh) for a, b in zip(bounds[:-1], bounds[1:])])\n",
    "    \n",
    "    pct_dry = 1 / opcsim.utils.k_kohler(diam_dry=1, kappa=m[\"kappa\"], rh=rh)**3\n",
    "    \n",
    "    refr = opcsim.utils.ri_eff([m[\"refr\"], complex(1.333, 0)], weights=[pct_dry, 1-pct_dry])\n",
    "    \n",
    "    for dp, dn in zip(diams, n):\n",
    "        v = opcsim.mie.cscat(dp, wl=opc.wl, refr=refr, theta1=32., theta2=88.)\n",
    "        \n",
    "        _bin = opc.calibration_function(values=[v])\n",
    "        \n",
    "        rv[_bin] += dn"
   ]
  },
  {
   "cell_type": "code",
   "execution_count": 144,
   "metadata": {},
   "outputs": [
    {
     "data": {
      "text/plain": [
       "<matplotlib.axes._subplots.AxesSubplot at 0x119b24cc0>"
      ]
     },
     "execution_count": 144,
     "metadata": {},
     "output_type": "execute_result"
    },
    {
     "data": {
      "image/png": "[encoded data removed]",
      "text/plain": [
       "<Figure size 864x432 with 1 Axes>"
      ]
     },
     "metadata": {},
     "output_type": "display_data"
    }
   ],
   "source": [
    "opcsim.plots.histplot(data=rv/opc.dlogdp, bins=opc.bins)"
   ]
  },
  {
   "cell_type": "code",
   "execution_count": 154,
   "metadata": {},
   "outputs": [
    {
     "data": {
      "text/plain": [
       "<matplotlib.axes._subplots.AxesSubplot at 0x11c323710>"
      ]
     },
     "execution_count": 154,
     "metadata": {},
     "output_type": "execute_result"
    },
    {
     "data": {
      "image/png": "[encoded data removed]",
      "text/plain": [
       "<Figure size 864x432 with 1 Axes>"
      ]
     },
     "metadata": {},
     "output_type": "display_data"
    }
   ],
   "source": [
    "opcsim.plots.histplot(data=rv/opc.dlogdp, bins=opc.bins)"
   ]
  },
  {
   "cell_type": "code",
   "execution_count": 164,
   "metadata": {},
   "outputs": [
    {
     "name": "stdout",
     "output_type": "stream",
     "text": [
      "0 [0.35       0.38631616 0.4264005 ] 0.8609780578527393 11.894049198921435 5.49302041073264e-09 [3]\n",
      "1 [0.4264005  0.47064402 0.51947826] 1.048918506695475 6.120663561653989 6.6427249720939415e-09 [4]\n",
      "2 [0.51947826 0.57337956 0.63287368] 1.2778839410056688 5.832701254661214 1.0847697576397035e-08 [6]\n",
      "3 [0.63287368 0.69854095 0.77102188] 1.5568295880532814 5.4758179004574 1.663742664940165e-08 [8]\n",
      "4 [0.77102188 0.85102346 0.93932605] 1.8966654861714065 4.771978522560053 1.9599915188569313e-08 [8]\n",
      "5 [0.93932605 1.03679095 1.14436886] 2.310683194897438 5.209108018507018 2.672530097270672e-08 [9]\n",
      "6 [1.14436886 1.2631091  1.39416988] 2.815075650456006 3.7603367718143184 3.22409371603445e-08 [10]\n",
      "7 [1.39416988 1.53882959 1.69849925] 3.429570499015142 2.9336356641348362 4.623112325623996e-08 [10]\n",
      "8 [1.69849925 1.87473632 2.06925982] 4.178201678455668 3.0865628298228382 6.07621349357239e-08 [11]\n",
      "9 [2.06925982 2.28396717 2.52095265] 5.090249426528173 3.1920329981326265 8.484557984594546e-08 [12]\n",
      "10 [2.52095265 2.78252786 3.07124423] 6.20138548071413 4.145965247739217 1.3345239895506648e-07 [13]\n",
      "11 [3.07124423 3.38991794 3.74165739] 7.555068260504067 3.541150576693618 1.6133098995616035e-07 [14]\n",
      "12 [3.74165739 4.12989348 4.55841312] 9.204242600042807 4.378766260377714 2.572717680378059e-07 [15]\n",
      "13 [4.55841312 5.03139617 5.55345615] 11.213410510574327 3.8214514216175943 3.471924107113632e-07 [16]\n",
      "14 [5.55345615 6.12968531 6.76570428] 13.661153963724727 3.7547022405192734 5.131759935330048e-07 [17]\n",
      "15 [6.76570428 7.46771686 8.2425706 ] 16.643208365965116 4.725656045291487 8.002251403828223e-07 [18]\n",
      "16 [ 8.2425706   9.09782352 10.04181787] 20.276206933064085 3.9842183395412647 1.0945745105196e-06 [19]\n",
      "17 [10.04181787 11.08376151 12.2338177 ] 24.702242413378304 4.615994354911829 1.6719709305481187e-06 [20]\n",
      "18 [12.2338177  13.50320425 14.90430293] 30.094424576731917 4.5420039146436695 2.435076869733342e-06 [21]\n",
      "19 [14.90430293 16.45078026 18.15772078] 36.663650831719984 4.208825601860559 3.4236504529352525e-06 [22]\n",
      "20 [18.15772078 20.04177424 22.12131795] 44.66685478178552 4.107625765966561 5.064435801877137e-06 [23]\n",
      "21 [22.12131795 24.41663608 26.95011746] 54.41705533511702 4.480855862412893 7.5143015856939245e-06 []\n",
      "22 [26.95011746 29.74647404 32.83298187] 66.29559940613342 4.4859955820983055 1.1202161874203458e-05 []\n",
      "23 [32.83298187 36.23974717 40.        ] 80.76707704141828 4.325248190127901 1.6129225180111737e-05 []\n"
     ]
    }
   ],
   "source": [
    "for i, all_bins in enumerate(opc.bins):\n",
    "    d_wet = opcsim.utils.k_kohler(diam_dry=all_bins[1], kappa=0.53, rh=95)\n",
    "    pct_dry = (all_bins[1]**3)/(d_wet**3)\n",
    "    ri95 = opcsim.utils.ri_eff(species=[complex(1.521, 0), complex(1.33, 0)], diams=[1.,  d_wet])\n",
    "    \n",
    "    # compute the scattering value at 0 and 95% RH\n",
    "    cscat1 = opcsim.mie.cscat(dp=all_bins[1], wl=opc.wl, refr=refr, theta1=32., theta2=88.)\n",
    "    cscat2 = opcsim.mie.cscat(dp=d_wet, wl=opc.wl, refr=ri95, theta1=32., theta2=88.)\n",
    "    \n",
    "    print (i, all_bins, d_wet, cscat2 / cscat1, cscat2, opc.calibration_function(values=[cscat2]))"
   ]
  },
  {
   "cell_type": "code",
   "execution_count": 207,
   "metadata": {},
   "outputs": [
    {
     "data": {
      "text/html": [
       "<div>\n",
       "<style scoped>\n",
       "    .dataframe tbody tr th:only-of-type {\n",
       "        vertical-align: middle;\n",
       "    }\n",
       "\n",
       "    .dataframe tbody tr th {\n",
       "        vertical-align: top;\n",
       "    }\n",
       "\n",
       "    .dataframe thead th {\n",
       "        text-align: right;\n",
       "    }\n",
       "</style>\n",
       "<table border=\"1\" class=\"dataframe\">\n",
       "  <thead>\n",
       "    <tr style=\"text-align: right;\">\n",
       "      <th></th>\n",
       "      <th>bin_hi</th>\n",
       "      <th>bin_lo</th>\n",
       "      <th>cscat_exp</th>\n",
       "      <th>cscat_hi</th>\n",
       "      <th>cscat_lo</th>\n",
       "      <th>d_dry_hi</th>\n",
       "      <th>d_dry_lo</th>\n",
       "      <th>d_wet_hi</th>\n",
       "      <th>d_wet_lb</th>\n",
       "      <th>pct_dry</th>\n",
       "      <th>refr_eff</th>\n",
       "      <th>rh</th>\n",
       "      <th>true_bin</th>\n",
       "    </tr>\n",
       "  </thead>\n",
       "  <tbody>\n",
       "    <tr>\n",
       "      <th>0</th>\n",
       "      <td>0</td>\n",
       "      <td>-99</td>\n",
       "      <td>1.244665e-09</td>\n",
       "      <td>1.226872</td>\n",
       "      <td>0.536808</td>\n",
       "      <td>0.426401</td>\n",
       "      <td>0.350000</td>\n",
       "      <td>0.463620</td>\n",
       "      <td>0.380551</td>\n",
       "      <td>0.777977</td>\n",
       "      <td>(1.4135745540222149+0j)</td>\n",
       "      <td>35.0</td>\n",
       "      <td>0</td>\n",
       "    </tr>\n",
       "    <tr>\n",
       "      <th>1</th>\n",
       "      <td>1</td>\n",
       "      <td>0</td>\n",
       "      <td>2.271221e-09</td>\n",
       "      <td>1.151220</td>\n",
       "      <td>0.672346</td>\n",
       "      <td>0.519478</td>\n",
       "      <td>0.426401</td>\n",
       "      <td>0.564822</td>\n",
       "      <td>0.463620</td>\n",
       "      <td>0.777977</td>\n",
       "      <td>(1.4135745540222149+0j)</td>\n",
       "      <td>35.0</td>\n",
       "      <td>1</td>\n",
       "    </tr>\n",
       "    <tr>\n",
       "      <th>2</th>\n",
       "      <td>2</td>\n",
       "      <td>1</td>\n",
       "      <td>4.076263e-09</td>\n",
       "      <td>1.045750</td>\n",
       "      <td>0.641439</td>\n",
       "      <td>0.632874</td>\n",
       "      <td>0.519478</td>\n",
       "      <td>0.688116</td>\n",
       "      <td>0.564822</td>\n",
       "      <td>0.777977</td>\n",
       "      <td>(1.4135745540222147+0j)</td>\n",
       "      <td>35.0</td>\n",
       "      <td>2</td>\n",
       "    </tr>\n",
       "    <tr>\n",
       "      <th>3</th>\n",
       "      <td>3</td>\n",
       "      <td>2</td>\n",
       "      <td>5.494311e-09</td>\n",
       "      <td>1.065620</td>\n",
       "      <td>0.775849</td>\n",
       "      <td>0.771022</td>\n",
       "      <td>0.632874</td>\n",
       "      <td>0.838322</td>\n",
       "      <td>0.688116</td>\n",
       "      <td>0.777977</td>\n",
       "      <td>(1.4135745540222149+0j)</td>\n",
       "      <td>35.0</td>\n",
       "      <td>3</td>\n",
       "    </tr>\n",
       "    <tr>\n",
       "      <th>4</th>\n",
       "      <td>4</td>\n",
       "      <td>3</td>\n",
       "      <td>6.977210e-09</td>\n",
       "      <td>1.015526</td>\n",
       "      <td>0.839139</td>\n",
       "      <td>0.939326</td>\n",
       "      <td>0.771022</td>\n",
       "      <td>1.021317</td>\n",
       "      <td>0.838322</td>\n",
       "      <td>0.777977</td>\n",
       "      <td>(1.4135745540222149+0j)</td>\n",
       "      <td>35.0</td>\n",
       "      <td>4</td>\n",
       "    </tr>\n",
       "    <tr>\n",
       "      <th>5</th>\n",
       "      <td>6</td>\n",
       "      <td>4</td>\n",
       "      <td>9.425896e-09</td>\n",
       "      <td>1.191214</td>\n",
       "      <td>0.751710</td>\n",
       "      <td>1.144369</td>\n",
       "      <td>0.939326</td>\n",
       "      <td>1.244258</td>\n",
       "      <td>1.021317</td>\n",
       "      <td>0.777977</td>\n",
       "      <td>(1.4135745540222147+0j)</td>\n",
       "      <td>35.0</td>\n",
       "      <td>5</td>\n",
       "    </tr>\n",
       "    <tr>\n",
       "      <th>6</th>\n",
       "      <td>8</td>\n",
       "      <td>6</td>\n",
       "      <td>1.387826e-08</td>\n",
       "      <td>1.332621</td>\n",
       "      <td>0.809054</td>\n",
       "      <td>1.394170</td>\n",
       "      <td>1.144369</td>\n",
       "      <td>1.515863</td>\n",
       "      <td>1.244258</td>\n",
       "      <td>0.777977</td>\n",
       "      <td>(1.4135745540222144+0j)</td>\n",
       "      <td>35.0</td>\n",
       "      <td>6</td>\n",
       "    </tr>\n",
       "    <tr>\n",
       "      <th>7</th>\n",
       "      <td>8</td>\n",
       "      <td>8</td>\n",
       "      <td>1.623022e-08</td>\n",
       "      <td>1.305464</td>\n",
       "      <td>1.139509</td>\n",
       "      <td>1.698499</td>\n",
       "      <td>1.394170</td>\n",
       "      <td>1.846757</td>\n",
       "      <td>1.515863</td>\n",
       "      <td>0.777977</td>\n",
       "      <td>(1.4135745540222149+0j)</td>\n",
       "      <td>35.0</td>\n",
       "      <td>7</td>\n",
       "    </tr>\n",
       "    <tr>\n",
       "      <th>8</th>\n",
       "      <td>9</td>\n",
       "      <td>8</td>\n",
       "      <td>1.657205e-08</td>\n",
       "      <td>1.569480</td>\n",
       "      <td>1.278536</td>\n",
       "      <td>2.069260</td>\n",
       "      <td>1.698499</td>\n",
       "      <td>2.249880</td>\n",
       "      <td>1.846757</td>\n",
       "      <td>0.777977</td>\n",
       "      <td>(1.4135745540222149+0j)</td>\n",
       "      <td>35.0</td>\n",
       "      <td>8</td>\n",
       "    </tr>\n",
       "    <tr>\n",
       "      <th>9</th>\n",
       "      <td>9</td>\n",
       "      <td>9</td>\n",
       "      <td>2.642166e-08</td>\n",
       "      <td>1.110324</td>\n",
       "      <td>0.984401</td>\n",
       "      <td>2.520953</td>\n",
       "      <td>2.069260</td>\n",
       "      <td>2.741000</td>\n",
       "      <td>2.249880</td>\n",
       "      <td>0.777977</td>\n",
       "      <td>(1.4135745540222149+0j)</td>\n",
       "      <td>35.0</td>\n",
       "      <td>9</td>\n",
       "    </tr>\n",
       "    <tr>\n",
       "      <th>10</th>\n",
       "      <td>10</td>\n",
       "      <td>9</td>\n",
       "      <td>4.272573e-08</td>\n",
       "      <td>1.229645</td>\n",
       "      <td>0.686626</td>\n",
       "      <td>3.071244</td>\n",
       "      <td>2.520953</td>\n",
       "      <td>3.339325</td>\n",
       "      <td>2.741000</td>\n",
       "      <td>0.777977</td>\n",
       "      <td>(1.4135745540222144+0j)</td>\n",
       "      <td>35.0</td>\n",
       "      <td>10</td>\n",
       "    </tr>\n",
       "    <tr>\n",
       "      <th>11</th>\n",
       "      <td>12</td>\n",
       "      <td>10</td>\n",
       "      <td>6.043751e-08</td>\n",
       "      <td>1.429033</td>\n",
       "      <td>0.869286</td>\n",
       "      <td>3.741657</td>\n",
       "      <td>3.071244</td>\n",
       "      <td>4.068257</td>\n",
       "      <td>3.339325</td>\n",
       "      <td>0.777977</td>\n",
       "      <td>(1.4135745540222144+0j)</td>\n",
       "      <td>35.0</td>\n",
       "      <td>11</td>\n",
       "    </tr>\n",
       "    <tr>\n",
       "      <th>12</th>\n",
       "      <td>13</td>\n",
       "      <td>12</td>\n",
       "      <td>7.679315e-08</td>\n",
       "      <td>1.461489</td>\n",
       "      <td>1.124673</td>\n",
       "      <td>4.558413</td>\n",
       "      <td>3.741657</td>\n",
       "      <td>4.956305</td>\n",
       "      <td>4.068257</td>\n",
       "      <td>0.777977</td>\n",
       "      <td>(1.4135745540222149+0j)</td>\n",
       "      <td>35.0</td>\n",
       "      <td>12</td>\n",
       "    </tr>\n",
       "    <tr>\n",
       "      <th>13</th>\n",
       "      <td>14</td>\n",
       "      <td>13</td>\n",
       "      <td>1.293867e-07</td>\n",
       "      <td>1.103549</td>\n",
       "      <td>0.867418</td>\n",
       "      <td>5.553456</td>\n",
       "      <td>4.558413</td>\n",
       "      <td>6.038203</td>\n",
       "      <td>4.956305</td>\n",
       "      <td>0.777977</td>\n",
       "      <td>(1.4135745540222149+0j)</td>\n",
       "      <td>35.0</td>\n",
       "      <td>13</td>\n",
       "    </tr>\n",
       "    <tr>\n",
       "      <th>14</th>\n",
       "      <td>15</td>\n",
       "      <td>14</td>\n",
       "      <td>1.700648e-07</td>\n",
       "      <td>1.427020</td>\n",
       "      <td>0.839589</td>\n",
       "      <td>6.765704</td>\n",
       "      <td>5.553456</td>\n",
       "      <td>7.356265</td>\n",
       "      <td>6.038203</td>\n",
       "      <td>0.777977</td>\n",
       "      <td>(1.4135745540222149+0j)</td>\n",
       "      <td>35.0</td>\n",
       "      <td>14</td>\n",
       "    </tr>\n",
       "    <tr>\n",
       "      <th>15</th>\n",
       "      <td>16</td>\n",
       "      <td>15</td>\n",
       "      <td>2.679363e-07</td>\n",
       "      <td>1.162565</td>\n",
       "      <td>0.905760</td>\n",
       "      <td>8.242571</td>\n",
       "      <td>6.765704</td>\n",
       "      <td>8.962043</td>\n",
       "      <td>7.356265</td>\n",
       "      <td>0.777977</td>\n",
       "      <td>(1.4135745540222147+0j)</td>\n",
       "      <td>35.0</td>\n",
       "      <td>15</td>\n",
       "    </tr>\n",
       "    <tr>\n",
       "      <th>16</th>\n",
       "      <td>17</td>\n",
       "      <td>16</td>\n",
       "      <td>3.783972e-07</td>\n",
       "      <td>1.188413</td>\n",
       "      <td>0.823191</td>\n",
       "      <td>10.041818</td>\n",
       "      <td>8.242571</td>\n",
       "      <td>10.918342</td>\n",
       "      <td>8.962043</td>\n",
       "      <td>0.777977</td>\n",
       "      <td>(1.4135745540222149+0j)</td>\n",
       "      <td>35.0</td>\n",
       "      <td>16</td>\n",
       "    </tr>\n",
       "    <tr>\n",
       "      <th>17</th>\n",
       "      <td>18</td>\n",
       "      <td>17</td>\n",
       "      <td>5.467255e-07</td>\n",
       "      <td>1.216566</td>\n",
       "      <td>0.822519</td>\n",
       "      <td>12.233818</td>\n",
       "      <td>10.041818</td>\n",
       "      <td>13.301676</td>\n",
       "      <td>10.918342</td>\n",
       "      <td>0.777977</td>\n",
       "      <td>(1.4135745540222149+0j)</td>\n",
       "      <td>35.0</td>\n",
       "      <td>17</td>\n",
       "    </tr>\n",
       "    <tr>\n",
       "      <th>18</th>\n",
       "      <td>18</td>\n",
       "      <td>18</td>\n",
       "      <td>7.854053e-07</td>\n",
       "      <td>1.218999</td>\n",
       "      <td>0.846859</td>\n",
       "      <td>14.904303</td>\n",
       "      <td>12.233818</td>\n",
       "      <td>16.205261</td>\n",
       "      <td>13.301676</td>\n",
       "      <td>0.777977</td>\n",
       "      <td>(1.4135745540222149+0j)</td>\n",
       "      <td>35.0</td>\n",
       "      <td>18</td>\n",
       "    </tr>\n",
       "    <tr>\n",
       "      <th>19</th>\n",
       "      <td>20</td>\n",
       "      <td>18</td>\n",
       "      <td>1.175156e-06</td>\n",
       "      <td>1.214543</td>\n",
       "      <td>0.814707</td>\n",
       "      <td>18.157721</td>\n",
       "      <td>14.904303</td>\n",
       "      <td>19.742662</td>\n",
       "      <td>16.205261</td>\n",
       "      <td>0.777977</td>\n",
       "      <td>(1.4135745540222147+0j)</td>\n",
       "      <td>35.0</td>\n",
       "      <td>19</td>\n",
       "    </tr>\n",
       "    <tr>\n",
       "      <th>20</th>\n",
       "      <td>20</td>\n",
       "      <td>20</td>\n",
       "      <td>1.683597e-06</td>\n",
       "      <td>1.209477</td>\n",
       "      <td>0.847755</td>\n",
       "      <td>22.121318</td>\n",
       "      <td>18.157721</td>\n",
       "      <td>24.052231</td>\n",
       "      <td>19.742662</td>\n",
       "      <td>0.777977</td>\n",
       "      <td>(1.4135745540222147+0j)</td>\n",
       "      <td>35.0</td>\n",
       "      <td>20</td>\n",
       "    </tr>\n",
       "    <tr>\n",
       "      <th>21</th>\n",
       "      <td>21</td>\n",
       "      <td>20</td>\n",
       "      <td>2.516020e-06</td>\n",
       "      <td>1.198734</td>\n",
       "      <td>0.809323</td>\n",
       "      <td>26.950117</td>\n",
       "      <td>22.121318</td>\n",
       "      <td>29.302524</td>\n",
       "      <td>24.052231</td>\n",
       "      <td>0.777977</td>\n",
       "      <td>(1.4135745540222149+0j)</td>\n",
       "      <td>35.0</td>\n",
       "      <td>21</td>\n",
       "    </tr>\n",
       "    <tr>\n",
       "      <th>22</th>\n",
       "      <td>23</td>\n",
       "      <td>21</td>\n",
       "      <td>3.745374e-06</td>\n",
       "      <td>1.204643</td>\n",
       "      <td>0.805270</td>\n",
       "      <td>32.832982</td>\n",
       "      <td>26.950117</td>\n",
       "      <td>35.698888</td>\n",
       "      <td>29.302524</td>\n",
       "      <td>0.777977</td>\n",
       "      <td>(1.4135745540222149+0j)</td>\n",
       "      <td>35.0</td>\n",
       "      <td>22</td>\n",
       "    </tr>\n",
       "    <tr>\n",
       "      <th>23</th>\n",
       "      <td>23</td>\n",
       "      <td>23</td>\n",
       "      <td>5.525584e-06</td>\n",
       "      <td>1.190211</td>\n",
       "      <td>0.816536</td>\n",
       "      <td>40.000000</td>\n",
       "      <td>32.832982</td>\n",
       "      <td>43.491497</td>\n",
       "      <td>35.698888</td>\n",
       "      <td>0.777977</td>\n",
       "      <td>(1.4135745540222149+0j)</td>\n",
       "      <td>35.0</td>\n",
       "      <td>23</td>\n",
       "    </tr>\n",
       "    <tr>\n",
       "      <th>24</th>\n",
       "      <td>3</td>\n",
       "      <td>2</td>\n",
       "      <td>1.244665e-09</td>\n",
       "      <td>4.283695</td>\n",
       "      <td>3.294619</td>\n",
       "      <td>0.426401</td>\n",
       "      <td>0.350000</td>\n",
       "      <td>0.950314</td>\n",
       "      <td>0.780041</td>\n",
       "      <td>0.090334</td>\n",
       "      <td>(1.345824357912179+0j)</td>\n",
       "      <td>95.0</td>\n",
       "      <td>0</td>\n",
       "    </tr>\n",
       "    <tr>\n",
       "      <th>25</th>\n",
       "      <td>4</td>\n",
       "      <td>3</td>\n",
       "      <td>2.271221e-09</td>\n",
       "      <td>3.222559</td>\n",
       "      <td>2.347534</td>\n",
       "      <td>0.519478</td>\n",
       "      <td>0.426401</td>\n",
       "      <td>1.157755</td>\n",
       "      <td>0.950314</td>\n",
       "      <td>0.090334</td>\n",
       "      <td>(1.345824357912179+0j)</td>\n",
       "      <td>95.0</td>\n",
       "      <td>1</td>\n",
       "    </tr>\n",
       "    <tr>\n",
       "      <th>26</th>\n",
       "      <td>6</td>\n",
       "      <td>4</td>\n",
       "      <td>4.076263e-09</td>\n",
       "      <td>3.099909</td>\n",
       "      <td>1.795552</td>\n",
       "      <td>0.632874</td>\n",
       "      <td>0.519478</td>\n",
       "      <td>1.410478</td>\n",
       "      <td>1.157755</td>\n",
       "      <td>0.090334</td>\n",
       "      <td>(1.345824357912179+0j)</td>\n",
       "      <td>95.0</td>\n",
       "      <td>2</td>\n",
       "    </tr>\n",
       "    <tr>\n",
       "      <th>27</th>\n",
       "      <td>8</td>\n",
       "      <td>6</td>\n",
       "      <td>5.494311e-09</td>\n",
       "      <td>3.796143</td>\n",
       "      <td>2.299842</td>\n",
       "      <td>0.771022</td>\n",
       "      <td>0.632874</td>\n",
       "      <td>1.718367</td>\n",
       "      <td>1.410478</td>\n",
       "      <td>0.090334</td>\n",
       "      <td>(1.3458243579121791+0j)</td>\n",
       "      <td>95.0</td>\n",
       "      <td>3</td>\n",
       "    </tr>\n",
       "    <tr>\n",
       "      <th>28</th>\n",
       "      <td>8</td>\n",
       "      <td>8</td>\n",
       "      <td>6.977210e-09</td>\n",
       "      <td>3.432673</td>\n",
       "      <td>2.989331</td>\n",
       "      <td>0.939326</td>\n",
       "      <td>0.771022</td>\n",
       "      <td>2.093464</td>\n",
       "      <td>1.718367</td>\n",
       "      <td>0.090334</td>\n",
       "      <td>(1.345824357912179+0j)</td>\n",
       "      <td>95.0</td>\n",
       "      <td>4</td>\n",
       "    </tr>\n",
       "    <tr>\n",
       "      <th>29</th>\n",
       "      <td>10</td>\n",
       "      <td>8</td>\n",
       "      <td>9.425896e-09</td>\n",
       "      <td>3.848518</td>\n",
       "      <td>2.540924</td>\n",
       "      <td>1.144369</td>\n",
       "      <td>0.939326</td>\n",
       "      <td>2.550441</td>\n",
       "      <td>2.093464</td>\n",
       "      <td>0.090334</td>\n",
       "      <td>(1.3458243579121791+0j)</td>\n",
       "      <td>95.0</td>\n",
       "      <td>5</td>\n",
       "    </tr>\n",
       "    <tr>\n",
       "      <th>30</th>\n",
       "      <td>10</td>\n",
       "      <td>10</td>\n",
       "      <td>1.387826e-08</td>\n",
       "      <td>2.872694</td>\n",
       "      <td>2.613852</td>\n",
       "      <td>1.394170</td>\n",
       "      <td>1.144369</td>\n",
       "      <td>3.107169</td>\n",
       "      <td>2.550441</td>\n",
       "      <td>0.090334</td>\n",
       "      <td>(1.3458243579121791+0j)</td>\n",
       "      <td>95.0</td>\n",
       "      <td>6</td>\n",
       "    </tr>\n",
       "    <tr>\n",
       "      <th>31</th>\n",
       "      <td>10</td>\n",
       "      <td>10</td>\n",
       "      <td>1.623022e-08</td>\n",
       "      <td>3.033017</td>\n",
       "      <td>2.456407</td>\n",
       "      <td>1.698499</td>\n",
       "      <td>1.394170</td>\n",
       "      <td>3.785424</td>\n",
       "      <td>3.107169</td>\n",
       "      <td>0.090334</td>\n",
       "      <td>(1.3458243579121791+0j)</td>\n",
       "      <td>95.0</td>\n",
       "      <td>7</td>\n",
       "    </tr>\n",
       "    <tr>\n",
       "      <th>32</th>\n",
       "      <td>12</td>\n",
       "      <td>10</td>\n",
       "      <td>1.657205e-08</td>\n",
       "      <td>4.757453</td>\n",
       "      <td>2.970454</td>\n",
       "      <td>2.069260</td>\n",
       "      <td>1.698499</td>\n",
       "      <td>4.611734</td>\n",
       "      <td>3.785424</td>\n",
       "      <td>0.090334</td>\n",
       "      <td>(1.3458243579121791+0j)</td>\n",
       "      <td>95.0</td>\n",
       "      <td>8</td>\n",
       "    </tr>\n",
       "    <tr>\n",
       "      <th>33</th>\n",
       "      <td>13</td>\n",
       "      <td>12</td>\n",
       "      <td>2.642166e-08</td>\n",
       "      <td>4.722307</td>\n",
       "      <td>2.983944</td>\n",
       "      <td>2.520953</td>\n",
       "      <td>2.069260</td>\n",
       "      <td>5.618416</td>\n",
       "      <td>4.611734</td>\n",
       "      <td>0.090334</td>\n",
       "      <td>(1.3458243579121791+0j)</td>\n",
       "      <td>95.0</td>\n",
       "      <td>9</td>\n",
       "    </tr>\n",
       "    <tr>\n",
       "      <th>34</th>\n",
       "      <td>14</td>\n",
       "      <td>13</td>\n",
       "      <td>4.272573e-08</td>\n",
       "      <td>4.030235</td>\n",
       "      <td>2.920282</td>\n",
       "      <td>3.071244</td>\n",
       "      <td>2.520953</td>\n",
       "      <td>6.844844</td>\n",
       "      <td>5.618416</td>\n",
       "      <td>0.090334</td>\n",
       "      <td>(1.345824357912179+0j)</td>\n",
       "      <td>95.0</td>\n",
       "      <td>10</td>\n",
       "    </tr>\n",
       "    <tr>\n",
       "      <th>35</th>\n",
       "      <td>15</td>\n",
       "      <td>14</td>\n",
       "      <td>6.043751e-08</td>\n",
       "      <td>3.868158</td>\n",
       "      <td>2.849137</td>\n",
       "      <td>3.741657</td>\n",
       "      <td>3.071244</td>\n",
       "      <td>8.338986</td>\n",
       "      <td>6.844844</td>\n",
       "      <td>0.090334</td>\n",
       "      <td>(1.345824357912179+0j)</td>\n",
       "      <td>95.0</td>\n",
       "      <td>11</td>\n",
       "    </tr>\n",
       "    <tr>\n",
       "      <th>36</th>\n",
       "      <td>16</td>\n",
       "      <td>15</td>\n",
       "      <td>7.679315e-08</td>\n",
       "      <td>4.594374</td>\n",
       "      <td>3.044306</td>\n",
       "      <td>4.558413</td>\n",
       "      <td>3.741657</td>\n",
       "      <td>10.159279</td>\n",
       "      <td>8.338986</td>\n",
       "      <td>0.090334</td>\n",
       "      <td>(1.345824357912179+0j)</td>\n",
       "      <td>95.0</td>\n",
       "      <td>12</td>\n",
       "    </tr>\n",
       "    <tr>\n",
       "      <th>37</th>\n",
       "      <td>17</td>\n",
       "      <td>16</td>\n",
       "      <td>1.293867e-07</td>\n",
       "      <td>4.069403</td>\n",
       "      <td>2.726837</td>\n",
       "      <td>5.553456</td>\n",
       "      <td>4.558413</td>\n",
       "      <td>12.376919</td>\n",
       "      <td>10.159279</td>\n",
       "      <td>0.090334</td>\n",
       "      <td>(1.3458243579121791+0j)</td>\n",
       "      <td>95.0</td>\n",
       "      <td>13</td>\n",
       "    </tr>\n",
       "    <tr>\n",
       "      <th>38</th>\n",
       "      <td>18</td>\n",
       "      <td>17</td>\n",
       "      <td>1.700648e-07</td>\n",
       "      <td>4.213092</td>\n",
       "      <td>3.096035</td>\n",
       "      <td>6.765704</td>\n",
       "      <td>5.553456</td>\n",
       "      <td>15.078642</td>\n",
       "      <td>12.376919</td>\n",
       "      <td>0.090334</td>\n",
       "      <td>(1.3458243579121791+0j)</td>\n",
       "      <td>95.0</td>\n",
       "      <td>14</td>\n",
       "    </tr>\n",
       "    <tr>\n",
       "      <th>39</th>\n",
       "      <td>19</td>\n",
       "      <td>18</td>\n",
       "      <td>2.679363e-07</td>\n",
       "      <td>3.975250</td>\n",
       "      <td>2.674139</td>\n",
       "      <td>8.242571</td>\n",
       "      <td>6.765704</td>\n",
       "      <td>18.370115</td>\n",
       "      <td>15.078642</td>\n",
       "      <td>0.090334</td>\n",
       "      <td>(1.345824357912179+0j)</td>\n",
       "      <td>95.0</td>\n",
       "      <td>15</td>\n",
       "    </tr>\n",
       "    <tr>\n",
       "      <th>40</th>\n",
       "      <td>20</td>\n",
       "      <td>19</td>\n",
       "      <td>3.783972e-07</td>\n",
       "      <td>4.331237</td>\n",
       "      <td>2.814803</td>\n",
       "      <td>10.041818</td>\n",
       "      <td>8.242571</td>\n",
       "      <td>22.380075</td>\n",
       "      <td>18.370115</td>\n",
       "      <td>0.090334</td>\n",
       "      <td>(1.3458243579121791+0j)</td>\n",
       "      <td>95.0</td>\n",
       "      <td>16</td>\n",
       "    </tr>\n",
       "    <tr>\n",
       "      <th>41</th>\n",
       "      <td>21</td>\n",
       "      <td>20</td>\n",
       "      <td>5.467255e-07</td>\n",
       "      <td>4.161806</td>\n",
       "      <td>2.997716</td>\n",
       "      <td>12.233818</td>\n",
       "      <td>10.041818</td>\n",
       "      <td>27.265358</td>\n",
       "      <td>22.380075</td>\n",
       "      <td>0.090334</td>\n",
       "      <td>(1.345824357912179+0j)</td>\n",
       "      <td>95.0</td>\n",
       "      <td>17</td>\n",
       "    </tr>\n",
       "    <tr>\n",
       "      <th>42</th>\n",
       "      <td>22</td>\n",
       "      <td>21</td>\n",
       "      <td>7.854053e-07</td>\n",
       "      <td>4.322600</td>\n",
       "      <td>2.897059</td>\n",
       "      <td>14.904303</td>\n",
       "      <td>12.233818</td>\n",
       "      <td>33.217036</td>\n",
       "      <td>27.265358</td>\n",
       "      <td>0.090334</td>\n",
       "      <td>(1.345824357912179+0j)</td>\n",
       "      <td>95.0</td>\n",
       "      <td>18</td>\n",
       "    </tr>\n",
       "    <tr>\n",
       "      <th>43</th>\n",
       "      <td>23</td>\n",
       "      <td>22</td>\n",
       "      <td>1.175156e-06</td>\n",
       "      <td>4.291983</td>\n",
       "      <td>2.888972</td>\n",
       "      <td>18.157721</td>\n",
       "      <td>14.904303</td>\n",
       "      <td>40.467888</td>\n",
       "      <td>33.217036</td>\n",
       "      <td>0.090334</td>\n",
       "      <td>(1.345824357912179+0j)</td>\n",
       "      <td>95.0</td>\n",
       "      <td>19</td>\n",
       "    </tr>\n",
       "    <tr>\n",
       "      <th>44</th>\n",
       "      <td>-99</td>\n",
       "      <td>23</td>\n",
       "      <td>1.683597e-06</td>\n",
       "      <td>4.403539</td>\n",
       "      <td>2.995817</td>\n",
       "      <td>22.121318</td>\n",
       "      <td>18.157721</td>\n",
       "      <td>49.301508</td>\n",
       "      <td>40.467888</td>\n",
       "      <td>0.090334</td>\n",
       "      <td>(1.345824357912179+0j)</td>\n",
       "      <td>95.0</td>\n",
       "      <td>20</td>\n",
       "    </tr>\n",
       "    <tr>\n",
       "      <th>45</th>\n",
       "      <td>-99</td>\n",
       "      <td>-99</td>\n",
       "      <td>2.516020e-06</td>\n",
       "      <td>4.215713</td>\n",
       "      <td>2.946632</td>\n",
       "      <td>26.950117</td>\n",
       "      <td>22.121318</td>\n",
       "      <td>60.063394</td>\n",
       "      <td>49.301508</td>\n",
       "      <td>0.090334</td>\n",
       "      <td>(1.3458243579121791+0j)</td>\n",
       "      <td>95.0</td>\n",
       "      <td>21</td>\n",
       "    </tr>\n",
       "    <tr>\n",
       "      <th>46</th>\n",
       "      <td>-99</td>\n",
       "      <td>-99</td>\n",
       "      <td>3.745374e-06</td>\n",
       "      <td>4.392071</td>\n",
       "      <td>2.831978</td>\n",
       "      <td>32.832982</td>\n",
       "      <td>26.950117</td>\n",
       "      <td>73.174461</td>\n",
       "      <td>60.063394</td>\n",
       "      <td>0.090334</td>\n",
       "      <td>(1.345824357912179+0j)</td>\n",
       "      <td>95.0</td>\n",
       "      <td>22</td>\n",
       "    </tr>\n",
       "    <tr>\n",
       "      <th>47</th>\n",
       "      <td>-99</td>\n",
       "      <td>-99</td>\n",
       "      <td>5.525584e-06</td>\n",
       "      <td>4.231691</td>\n",
       "      <td>2.977051</td>\n",
       "      <td>40.000000</td>\n",
       "      <td>32.832982</td>\n",
       "      <td>89.147506</td>\n",
       "      <td>73.174461</td>\n",
       "      <td>0.090334</td>\n",
       "      <td>(1.3458243579121791+0j)</td>\n",
       "      <td>95.0</td>\n",
       "      <td>23</td>\n",
       "    </tr>\n",
       "  </tbody>\n",
       "</table>\n",
       "</div>"
      ],
      "text/plain": [
       "    bin_hi  bin_lo     cscat_exp  cscat_hi  cscat_lo   d_dry_hi   d_dry_lo  \\\n",
       "0        0     -99  1.244665e-09  1.226872  0.536808   0.426401   0.350000   \n",
       "1        1       0  2.271221e-09  1.151220  0.672346   0.519478   0.426401   \n",
       "2        2       1  4.076263e-09  1.045750  0.641439   0.632874   0.519478   \n",
       "3        3       2  5.494311e-09  1.065620  0.775849   0.771022   0.632874   \n",
       "4        4       3  6.977210e-09  1.015526  0.839139   0.939326   0.771022   \n",
       "5        6       4  9.425896e-09  1.191214  0.751710   1.144369   0.939326   \n",
       "6        8       6  1.387826e-08  1.332621  0.809054   1.394170   1.144369   \n",
       "7        8       8  1.623022e-08  1.305464  1.139509   1.698499   1.394170   \n",
       "8        9       8  1.657205e-08  1.569480  1.278536   2.069260   1.698499   \n",
       "9        9       9  2.642166e-08  1.110324  0.984401   2.520953   2.069260   \n",
       "10      10       9  4.272573e-08  1.229645  0.686626   3.071244   2.520953   \n",
       "11      12      10  6.043751e-08  1.429033  0.869286   3.741657   3.071244   \n",
       "12      13      12  7.679315e-08  1.461489  1.124673   4.558413   3.741657   \n",
       "13      14      13  1.293867e-07  1.103549  0.867418   5.553456   4.558413   \n",
       "14      15      14  1.700648e-07  1.427020  0.839589   6.765704   5.553456   \n",
       "15      16      15  2.679363e-07  1.162565  0.905760   8.242571   6.765704   \n",
       "16      17      16  3.783972e-07  1.188413  0.823191  10.041818   8.242571   \n",
       "17      18      17  5.467255e-07  1.216566  0.822519  12.233818  10.041818   \n",
       "18      18      18  7.854053e-07  1.218999  0.846859  14.904303  12.233818   \n",
       "19      20      18  1.175156e-06  1.214543  0.814707  18.157721  14.904303   \n",
       "20      20      20  1.683597e-06  1.209477  0.847755  22.121318  18.157721   \n",
       "21      21      20  2.516020e-06  1.198734  0.809323  26.950117  22.121318   \n",
       "22      23      21  3.745374e-06  1.204643  0.805270  32.832982  26.950117   \n",
       "23      23      23  5.525584e-06  1.190211  0.816536  40.000000  32.832982   \n",
       "24       3       2  1.244665e-09  4.283695  3.294619   0.426401   0.350000   \n",
       "25       4       3  2.271221e-09  3.222559  2.347534   0.519478   0.426401   \n",
       "26       6       4  4.076263e-09  3.099909  1.795552   0.632874   0.519478   \n",
       "27       8       6  5.494311e-09  3.796143  2.299842   0.771022   0.632874   \n",
       "28       8       8  6.977210e-09  3.432673  2.989331   0.939326   0.771022   \n",
       "29      10       8  9.425896e-09  3.848518  2.540924   1.144369   0.939326   \n",
       "30      10      10  1.387826e-08  2.872694  2.613852   1.394170   1.144369   \n",
       "31      10      10  1.623022e-08  3.033017  2.456407   1.698499   1.394170   \n",
       "32      12      10  1.657205e-08  4.757453  2.970454   2.069260   1.698499   \n",
       "33      13      12  2.642166e-08  4.722307  2.983944   2.520953   2.069260   \n",
       "34      14      13  4.272573e-08  4.030235  2.920282   3.071244   2.520953   \n",
       "35      15      14  6.043751e-08  3.868158  2.849137   3.741657   3.071244   \n",
       "36      16      15  7.679315e-08  4.594374  3.044306   4.558413   3.741657   \n",
       "37      17      16  1.293867e-07  4.069403  2.726837   5.553456   4.558413   \n",
       "38      18      17  1.700648e-07  4.213092  3.096035   6.765704   5.553456   \n",
       "39      19      18  2.679363e-07  3.975250  2.674139   8.242571   6.765704   \n",
       "40      20      19  3.783972e-07  4.331237  2.814803  10.041818   8.242571   \n",
       "41      21      20  5.467255e-07  4.161806  2.997716  12.233818  10.041818   \n",
       "42      22      21  7.854053e-07  4.322600  2.897059  14.904303  12.233818   \n",
       "43      23      22  1.175156e-06  4.291983  2.888972  18.157721  14.904303   \n",
       "44     -99      23  1.683597e-06  4.403539  2.995817  22.121318  18.157721   \n",
       "45     -99     -99  2.516020e-06  4.215713  2.946632  26.950117  22.121318   \n",
       "46     -99     -99  3.745374e-06  4.392071  2.831978  32.832982  26.950117   \n",
       "47     -99     -99  5.525584e-06  4.231691  2.977051  40.000000  32.832982   \n",
       "\n",
       "     d_wet_hi   d_wet_lb   pct_dry                 refr_eff    rh  true_bin  \n",
       "0    0.463620   0.380551  0.777977  (1.4135745540222149+0j)  35.0         0  \n",
       "1    0.564822   0.463620  0.777977  (1.4135745540222149+0j)  35.0         1  \n",
       "2    0.688116   0.564822  0.777977  (1.4135745540222147+0j)  35.0         2  \n",
       "3    0.838322   0.688116  0.777977  (1.4135745540222149+0j)  35.0         3  \n",
       "4    1.021317   0.838322  0.777977  (1.4135745540222149+0j)  35.0         4  \n",
       "5    1.244258   1.021317  0.777977  (1.4135745540222147+0j)  35.0         5  \n",
       "6    1.515863   1.244258  0.777977  (1.4135745540222144+0j)  35.0         6  \n",
       "7    1.846757   1.515863  0.777977  (1.4135745540222149+0j)  35.0         7  \n",
       "8    2.249880   1.846757  0.777977  (1.4135745540222149+0j)  35.0         8  \n",
       "9    2.741000   2.249880  0.777977  (1.4135745540222149+0j)  35.0         9  \n",
       "10   3.339325   2.741000  0.777977  (1.4135745540222144+0j)  35.0        10  \n",
       "11   4.068257   3.339325  0.777977  (1.4135745540222144+0j)  35.0        11  \n",
       "12   4.956305   4.068257  0.777977  (1.4135745540222149+0j)  35.0        12  \n",
       "13   6.038203   4.956305  0.777977  (1.4135745540222149+0j)  35.0        13  \n",
       "14   7.356265   6.038203  0.777977  (1.4135745540222149+0j)  35.0        14  \n",
       "15   8.962043   7.356265  0.777977  (1.4135745540222147+0j)  35.0        15  \n",
       "16  10.918342   8.962043  0.777977  (1.4135745540222149+0j)  35.0        16  \n",
       "17  13.301676  10.918342  0.777977  (1.4135745540222149+0j)  35.0        17  \n",
       "18  16.205261  13.301676  0.777977  (1.4135745540222149+0j)  35.0        18  \n",
       "19  19.742662  16.205261  0.777977  (1.4135745540222147+0j)  35.0        19  \n",
       "20  24.052231  19.742662  0.777977  (1.4135745540222147+0j)  35.0        20  \n",
       "21  29.302524  24.052231  0.777977  (1.4135745540222149+0j)  35.0        21  \n",
       "22  35.698888  29.302524  0.777977  (1.4135745540222149+0j)  35.0        22  \n",
       "23  43.491497  35.698888  0.777977  (1.4135745540222149+0j)  35.0        23  \n",
       "24   0.950314   0.780041  0.090334   (1.345824357912179+0j)  95.0         0  \n",
       "25   1.157755   0.950314  0.090334   (1.345824357912179+0j)  95.0         1  \n",
       "26   1.410478   1.157755  0.090334   (1.345824357912179+0j)  95.0         2  \n",
       "27   1.718367   1.410478  0.090334  (1.3458243579121791+0j)  95.0         3  \n",
       "28   2.093464   1.718367  0.090334   (1.345824357912179+0j)  95.0         4  \n",
       "29   2.550441   2.093464  0.090334  (1.3458243579121791+0j)  95.0         5  \n",
       "30   3.107169   2.550441  0.090334  (1.3458243579121791+0j)  95.0         6  \n",
       "31   3.785424   3.107169  0.090334  (1.3458243579121791+0j)  95.0         7  \n",
       "32   4.611734   3.785424  0.090334  (1.3458243579121791+0j)  95.0         8  \n",
       "33   5.618416   4.611734  0.090334  (1.3458243579121791+0j)  95.0         9  \n",
       "34   6.844844   5.618416  0.090334   (1.345824357912179+0j)  95.0        10  \n",
       "35   8.338986   6.844844  0.090334   (1.345824357912179+0j)  95.0        11  \n",
       "36  10.159279   8.338986  0.090334   (1.345824357912179+0j)  95.0        12  \n",
       "37  12.376919  10.159279  0.090334  (1.3458243579121791+0j)  95.0        13  \n",
       "38  15.078642  12.376919  0.090334  (1.3458243579121791+0j)  95.0        14  \n",
       "39  18.370115  15.078642  0.090334   (1.345824357912179+0j)  95.0        15  \n",
       "40  22.380075  18.370115  0.090334  (1.3458243579121791+0j)  95.0        16  \n",
       "41  27.265358  22.380075  0.090334   (1.345824357912179+0j)  95.0        17  \n",
       "42  33.217036  27.265358  0.090334   (1.345824357912179+0j)  95.0        18  \n",
       "43  40.467888  33.217036  0.090334   (1.345824357912179+0j)  95.0        19  \n",
       "44  49.301508  40.467888  0.090334   (1.345824357912179+0j)  95.0        20  \n",
       "45  60.063394  49.301508  0.090334  (1.3458243579121791+0j)  95.0        21  \n",
       "46  73.174461  60.063394  0.090334   (1.345824357912179+0j)  95.0        22  \n",
       "47  89.147506  73.174461  0.090334  (1.3458243579121791+0j)  95.0        23  "
      ]
     },
     "execution_count": 207,
     "metadata": {},
     "output_type": "execute_result"
    }
   ],
   "source": [
    "import pandas as pd\n",
    "\n",
    "\n",
    "\n",
    "def compute_bin_bounds(opc, refr, kappa, rhs=[50., 95.]):\n",
    "    res = pd.DataFrame()\n",
    "    for each in rhs:\n",
    "        for i, _bins in enumerate(opc.bins):\n",
    "            # compute the wet diameter of the left, center, and right bounds\n",
    "            d_wet_lo = opcsim.utils.k_kohler(diam_dry=_bins[0], kappa=kappa, rh=each)\n",
    "            d_wet_hi = opcsim.utils.k_kohler(diam_dry=_bins[-1], kappa=kappa, rh=each)\n",
    "            \n",
    "            # compute the pct_dry\n",
    "            pct_dry = (_bins[-1]**3)/(d_wet_hi**3)\n",
    "            \n",
    "            # compute the effective RI\n",
    "            ri = opcsim.utils.ri_eff(species=[refr, complex(1.33, 0)], diams=[_bins[0],  d_wet_lo])\n",
    "            \n",
    "            # compute the scattering \n",
    "            cscat_norm = opcsim.mie.cscat(dp=_bins[1], wl=opc.wl, refr=refr, theta1=opc.theta[0], theta2=opc.theta[1])\n",
    "            cscat_lo = opcsim.mie.cscat(dp=d_wet_lo, wl=opc.wl, refr=ri, theta1=opc.theta[0], theta2=opc.theta[1])\n",
    "            cscat_hi = opcsim.mie.cscat(dp=d_wet_hi, wl=opc.wl, refr=ri, theta1=opc.theta[0], theta2=opc.theta[1])\n",
    "            \n",
    "            # assign bins\n",
    "            bin_assign_lo = opc.calibration_function(values=[cscat_lo])\n",
    "            bin_assign_hi = opc.calibration_function(values=[cscat_hi])\n",
    "\n",
    "            res = res.append({\n",
    "                \"true_bin\": i,\n",
    "                \"refr_eff\": ri,\n",
    "                \"d_dry_lo\": _bins[0],\n",
    "                \"d_dry_hi\": _bins[-1],\n",
    "                \"d_wet_lb\": d_wet_lo,\n",
    "                \"d_wet_hi\": d_wet_hi,\n",
    "                \"pct_dry\": pct_dry,\n",
    "                \"cscat_exp\": cscat_norm,\n",
    "                \"cscat_lo\": cscat_lo / cscat_norm,\n",
    "                \"cscat_hi\": cscat_hi / cscat_norm,\n",
    "                \"bin_lo\": bin_assign_lo[0] if len(bin_assign_lo) > 0 else -99,\n",
    "                \"bin_hi\": bin_assign_hi[0] if len(bin_assign_hi) > 0 else -99,\n",
    "                \"rh\": each,\n",
    "            }, ignore_index=True)\n",
    "    \n",
    "    for c in res.columns[res.columns != \"refr_eff\"]:\n",
    "        res[c] = res[c].astype(float)\n",
    "    \n",
    "    res[\"true_bin\"] = res[\"true_bin\"].astype(int)\n",
    "    res[\"bin_lo\"] = res[\"bin_lo\"].astype(int)\n",
    "    res[\"bin_hi\"] = res[\"bin_hi\"].astype(int)\n",
    "    \n",
    "    return res\n",
    "    \n",
    "    \n",
    "r = compute_bin_bounds(opc, refr=complex(1.521, 0), kappa=0.53, rhs=[35., 95.])\n",
    "\n",
    "r"
   ]
  },
  {
   "cell_type": "code",
   "execution_count": null,
   "metadata": {},
   "outputs": [],
   "source": []
  },
  {
   "cell_type": "code",
   "execution_count": null,
   "metadata": {},
   "outputs": [],
   "source": []
  },
  {
   "cell_type": "code",
   "execution_count": null,
   "metadata": {},
   "outputs": [],
   "source": []
  },
  {
   "cell_type": "code",
   "execution_count": null,
   "metadata": {},
   "outputs": [],
   "source": []
  },
  {
   "cell_type": "markdown",
   "metadata": {},
   "source": [
    "### Effects of Aerosol Optical Properties\n",
    "\n",
    "One of the key (and cool) features of OPCSIM is it allows us to explore how an OPC would react to aerosols of different optical properties, namely changes in the refractive index.\n",
    "\n",
    "Here, we calibrate our OPC to PSL's (commonly done in the lab) and then try to evaluate our OPC on an Urban distribution.\n",
    "\n",
    "\n",
    "#### First, lets build our OPC and calibrate it with PSL's"
   ]
  },
  {
   "cell_type": "code",
   "execution_count": 25,
   "metadata": {},
   "outputs": [
    {
     "data": {
      "text/plain": [
       "functools.partial(<bound method OPC._digitize_opc_bins of <class 'opcsim.models.OPC'>>, cscat_boundaries=array([7.04540782e-10, 9.37793973e-10, 1.20142177e-09, 1.49484062e-09,\n",
       "       1.81754550e-09, 2.16909214e-09, 2.54908461e-09, 3.39301322e-09,\n",
       "       4.34683957e-09, 5.40845233e-09, 6.57602426e-09, 9.94839916e-09,\n",
       "       1.39525042e-08, 2.37925791e-08, 3.59940998e-08, 1.30229517e-07,\n",
       "       2.76311007e-07, 4.71180757e-07]))"
      ]
     },
     "execution_count": 25,
     "metadata": {},
     "output_type": "execute_result"
    }
   ],
   "source": [
    "opc = opcsim.OPC(\n",
    "    wl=658e-3, \n",
    "    bins=[0.3, 0.35, 0.4, 0.45, 0.5, 0.55, 0.6, 0.7, 0.8, 0.9, 1.0, 1.25, 1.5, 2.0, 2.5, 5., 7.5, 10.], \n",
    "    theta=(32., 88.))\n",
    "\n",
    "opc.calibrate(material=\"psl\", method=\"linear\")\n",
    "\n",
    "opc.calibration_function"
   ]
  },
  {
   "cell_type": "markdown",
   "metadata": {},
   "source": [
    "#### Next, let's build our Distribution of Urban Aerosols using RI values from [Ebert, et al (2004)][1]\n",
    "\n",
    "[1]: https://www.sciencedirect.com/science/article/pii/S1352231004008027"
   ]
  },
  {
   "cell_type": "code",
   "execution_count": 26,
   "metadata": {},
   "outputs": [],
   "source": [
    "d1 = opcsim.AerosolDistribution(\"PSL\")\n",
    "d2 = opcsim.AerosolDistribution(\"Urban Upper Bound Estimate\")\n",
    "\n",
    "d1.add_mode(n=1e3, gm=250e-3, gsd=1.65, kappa=0., refr=complex(1.591, 0))\n",
    "# d1.add_mode(n=1e3, gm=250e-3, gsd=1.65, kappa=0.2, refr=complex(1.6, 0.034))\n",
    "d2.add_mode(n=1e3, gm=250e-3, gsd=1.65, kappa=0.2, refr=complex(1.73, 0.086))"
   ]
  },
  {
   "cell_type": "markdown",
   "metadata": {},
   "source": [
    "#### Now, let's compute the histogram for a few different scenarios"
   ]
  },
  {
   "cell_type": "code",
   "execution_count": 27,
   "metadata": {},
   "outputs": [],
   "source": [
    "lb, data1, ddp = opc.histogram(d1, weight=\"number\", base=\"log10\", rh=0.0)\n",
    "lb, data2, ddp = opc.histogram(d2, weight=\"number\", base=\"log10\", rh=.0)"
   ]
  },
  {
   "cell_type": "markdown",
   "metadata": {},
   "source": [
    "#### Finally, let's plot the results"
   ]
  },
  {
   "cell_type": "code",
   "execution_count": 28,
   "metadata": {},
   "outputs": [
    {
     "data": {
      "image/png": "[encoded data removed]",
      "text/plain": [
       "<Figure size 576x432 with 1 Axes>"
      ]
     },
     "metadata": {},
     "output_type": "display_data"
    }
   ],
   "source": [
    "fig, ax = plt.subplots(1, figsize=(8, 6))\n",
    "\n",
    "ax = opcsim.plots.pdfplot(d1, ax=ax, weight=\"number\", label=\"Actual Distribution\")\n",
    "\n",
    "# ax.plot(opc.midpoints, data1)\n",
    "ax = opcsim.plots.histplot(data=data1, bins=opc.bins, ax=ax, label=\"PSL\", plot_kws=dict(linewidth=0, fill=True, alpha=.35))\n",
    "ax = opcsim.plots.histplot(data=data2, bins=opc.bins, ax=ax, label=\"Urban Aerosol\", plot_kws=dict(linewidth=3))\n",
    "\n",
    "ax.set_ylim(0, None)\n",
    "ax.set_xlim(0.01, None)\n",
    "ax.legend(bbox_to_anchor=(.85, 1))\n",
    "\n",
    "sns.despine()"
   ]
  },
  {
   "cell_type": "code",
   "execution_count": 31,
   "metadata": {},
   "outputs": [],
   "source": [
    "scat, vals = opc.evaluate(d2, rh=0)"
   ]
  },
  {
   "cell_type": "code",
   "execution_count": 41,
   "metadata": {},
   "outputs": [
    {
     "data": {
      "image/png": "[encoded data removed]",
      "text/plain": [
       "<Figure size 432x288 with 1 Axes>"
      ]
     },
     "metadata": {},
     "output_type": "display_data"
    }
   ],
   "source": [
    "sns.distplot(scat)\n",
    "\n",
    "\n",
    "sns.despine()"
   ]
  },
  {
   "cell_type": "code",
   "execution_count": 34,
   "metadata": {},
   "outputs": [
    {
     "data": {
      "text/plain": [
       "3.0257638964846967e-09"
      ]
     },
     "execution_count": 34,
     "metadata": {},
     "output_type": "execute_result"
    }
   ],
   "source": [
    "scat.max()"
   ]
  },
  {
   "cell_type": "code",
   "execution_count": 38,
   "metadata": {},
   "outputs": [
    {
     "data": {
      "text/plain": [
       "array([6])"
      ]
     },
     "execution_count": 38,
     "metadata": {},
     "output_type": "execute_result"
    }
   ],
   "source": [
    "opc.calibration_function(values=[scat.max()])"
   ]
  },
  {
   "cell_type": "code",
   "execution_count": null,
   "metadata": {},
   "outputs": [],
   "source": []
  }
 ],
 "metadata": {
  "kernelspec": {
   "display_name": "Python 3",
   "language": "python",
   "name": "python3"
  },
  "language_info": {
   "codemirror_mode": {
    "name": "ipython",
    "version": 3
   },
   "file_extension": ".py",
   "mimetype": "text/x-python",
   "name": "python",
   "nbconvert_exporter": "python",
   "pygments_lexer": "ipython3",
   "version": "3.6.5"
  }
 },
 "nbformat": 4,
 "nbformat_minor": 2
}
