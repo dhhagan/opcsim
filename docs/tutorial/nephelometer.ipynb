{
 "cells": [
  {
   "cell_type": "raw",
   "metadata": {},
   "source": [
    ".. _nephelometer_tutorial:\n"
   ]
  },
  {
   "cell_type": "markdown",
   "metadata": {},
   "source": [
    "# Using OPCSIM to Simulate a Nephelometer\n",
    "\n",
    "This section of the tutorial will walk you through how we model Nephelometers, how you can build/model a Nephelometer, and how we can evaluate Nephelometers across a wide range of conditions using this tool."
   ]
  },
  {
   "cell_type": "code",
   "execution_count": null,
   "metadata": {
    "execution": {
     "iopub.execute_input": "2024-10-04T01:15:57.641899Z",
     "iopub.status.busy": "2024-10-04T01:15:57.641664Z",
     "iopub.status.idle": "2024-10-04T01:15:58.388335Z",
     "shell.execute_reply": "2024-10-04T01:15:58.388022Z"
    }
   },
   "outputs": [],
   "source": [
    "# Make imports\n",
    "import opcsim\n",
    "import numpy as np\n",
    "import matplotlib.pyplot as plt\n",
    "import matplotlib.ticker as mticks\n",
    "import seaborn as sns\n",
    "\n",
    "%matplotlib inline\n",
    "\n",
    "# turn off warnings temporarily\n",
    "import warnings\n",
    "warnings.simplefilter('ignore')\n",
    "\n",
    "# Let's set some default seaborn settings\n",
    "sns.set(context='notebook', style='ticks', palette='dark', font_scale=1.75, \n",
    "        rc={'figure.figsize': (12,6), **opcsim.plots.rc_log})"
   ]
  },
  {
   "cell_type": "markdown",
   "metadata": {},
   "source": [
    "## Nephelometer Representation\n",
    "\n",
    "In OPCSIM, we define a Nephelometer using two parameters: the wavelength of light used in the device and its viewing angle. Unlike photometers and some optical particle counters, most low-cost commercial nephelometers gather light across as wide a range of angles as possible. This minimizes some of the uncertainty associated with the Mie resonance and allows manufacturers to use cheap photo-detectors while still gathering enough signal to distinguish from noise.\n",
    "\n",
    "To build a Nephelometer, simply initialize using the `opcsim.Nephelometer` class:"
   ]
  },
  {
   "cell_type": "code",
   "execution_count": null,
   "metadata": {
    "execution": {
     "iopub.execute_input": "2024-10-04T01:15:58.390546Z",
     "iopub.status.busy": "2024-10-04T01:15:58.390374Z",
     "iopub.status.idle": "2024-10-04T01:15:58.393269Z",
     "shell.execute_reply": "2024-10-04T01:15:58.393014Z"
    }
   },
   "outputs": [],
   "source": [
    "# init a nephelometer with a 658 nm laser, gathering light from between 7-173 degrees\n",
    "neph = opcsim.Nephelometer(wl=0.658, theta=(7., 173))\n",
    "\n",
    "neph"
   ]
  },
  {
   "cell_type": "markdown",
   "metadata": {},
   "source": [
    "## Calibration\n",
    "\n",
    "Nephelometers gather the total scattered light from many anglees across an entire aerosol distribution. Typically, users of low-cost nephelometers co-locate their device with a reference device of higher (or known) quality and simply compare the output signal from the nephelometer to the integrated mass value (i.e. $PM_1$, $PM_{2.5}$, or $PM_{10}$) from the reference device. To keep things as simple and realistic as possible, we follow this approach. \n",
    "\n",
    "To calibrate a nephelometer in OPCSIM, you provide an aerosol distribution to the `calibrate` method - the actual mass values for $PM_1$, $PM_{2.5}$, and $PM_{10}$ are calculated exactly and the total scattered light is computed as well. The ratio between the total scattered light and each of the mass loadings are stored as calibration factors and are used again when evaluating previously unseen distributions.\n",
    "\n",
    "To calibrate our nephelometer above to a synthetic distribution of Ammonium Sulfate:"
   ]
  },
  {
   "cell_type": "code",
   "execution_count": null,
   "metadata": {
    "execution": {
     "iopub.execute_input": "2024-10-04T01:15:58.413036Z",
     "iopub.status.busy": "2024-10-04T01:15:58.412908Z",
     "iopub.status.idle": "2024-10-04T01:15:58.904528Z",
     "shell.execute_reply": "2024-10-04T01:15:58.904191Z"
    }
   },
   "outputs": [],
   "source": [
    "d1 = opcsim.AerosolDistribution(\"AmmSulf\")\n",
    "\n",
    "d1.add_mode(n=1e4, gm=125e-3, gsd=1.5, refr=complex(1.521, 0), kappa=0.53, rho=1.77)\n",
    "\n",
    "# calibrate the nephelometer at 0% RH\n",
    "neph.calibrate(d1, rh=0.)"
   ]
  },
  {
   "cell_type": "markdown",
   "metadata": {},
   "source": [
    "We can explore the calibration factors that were just determined - the units are a bit arbitrary, since we don't consider the intensity/power of the laser as we assume it is constant. Thus, these units are something like $cm^2/(\\mu g/ m^3)$"
   ]
  },
  {
   "cell_type": "code",
   "execution_count": null,
   "metadata": {
    "execution": {
     "iopub.execute_input": "2024-10-04T01:15:58.906273Z",
     "iopub.status.busy": "2024-10-04T01:15:58.906189Z",
     "iopub.status.idle": "2024-10-04T01:15:58.908520Z",
     "shell.execute_reply": "2024-10-04T01:15:58.908261Z"
    }
   },
   "outputs": [],
   "source": [
    "neph.pm1_ratio"
   ]
  },
  {
   "cell_type": "markdown",
   "metadata": {},
   "source": [
    "Similarly, we get ratio's for $PM_{2.5}$ and $PM_{10}$:"
   ]
  },
  {
   "cell_type": "code",
   "execution_count": null,
   "metadata": {
    "execution": {
     "iopub.execute_input": "2024-10-04T01:15:58.910068Z",
     "iopub.status.busy": "2024-10-04T01:15:58.909971Z",
     "iopub.status.idle": "2024-10-04T01:15:58.912094Z",
     "shell.execute_reply": "2024-10-04T01:15:58.911811Z"
    }
   },
   "outputs": [],
   "source": [
    "neph.pm25_ratio"
   ]
  },
  {
   "cell_type": "code",
   "execution_count": null,
   "metadata": {
    "execution": {
     "iopub.execute_input": "2024-10-04T01:15:58.913483Z",
     "iopub.status.busy": "2024-10-04T01:15:58.913387Z",
     "iopub.status.idle": "2024-10-04T01:15:58.915444Z",
     "shell.execute_reply": "2024-10-04T01:15:58.915178Z"
    }
   },
   "outputs": [],
   "source": [
    "neph.pm10_ratio"
   ]
  },
  {
   "cell_type": "markdown",
   "metadata": {},
   "source": [
    "## Evaluating a Nephelometer for New Aerosol Distributions\n",
    "\n",
    "The entire point of this tool is to be able to simulate what would happen under different circumstances. To do so, we use the `evaluate` method, which takes an AerosolDistribution as an argument (as well as an optional relative humidity) and returns the total scattered light, $PM_1$, $PM_{2.5}$, and $PM_{10}$."
   ]
  },
  {
   "cell_type": "code",
   "execution_count": null,
   "metadata": {
    "execution": {
     "iopub.execute_input": "2024-10-04T01:15:58.916979Z",
     "iopub.status.busy": "2024-10-04T01:15:58.916882Z",
     "iopub.status.idle": "2024-10-04T01:15:59.512907Z",
     "shell.execute_reply": "2024-10-04T01:15:59.512608Z"
    }
   },
   "outputs": [],
   "source": [
    "# evaluate the same distribution we used to calibrate\n",
    "neph.evaluate(d1, rh=0.)"
   ]
  },
  {
   "cell_type": "code",
   "execution_count": null,
   "metadata": {
    "execution": {
     "iopub.execute_input": "2024-10-04T01:15:59.514520Z",
     "iopub.status.busy": "2024-10-04T01:15:59.514403Z",
     "iopub.status.idle": "2024-10-04T01:16:00.070104Z",
     "shell.execute_reply": "2024-10-04T01:16:00.069815Z"
    }
   },
   "outputs": [],
   "source": [
    "# evaluate the same distribution we used to calibrate, but at a higher RH\n",
    "neph.evaluate(d1, rh=85.0)"
   ]
  },
  {
   "cell_type": "markdown",
   "metadata": {},
   "source": [
    "What if we went ahead and tried to evaluate on a totally unseen distribution? Let's go ahead and evaluate on an **urban** distribution:"
   ]
  },
  {
   "cell_type": "code",
   "execution_count": null,
   "metadata": {
    "execution": {
     "iopub.execute_input": "2024-10-04T01:16:00.071778Z",
     "iopub.status.busy": "2024-10-04T01:16:00.071674Z",
     "iopub.status.idle": "2024-10-04T01:16:00.073936Z",
     "shell.execute_reply": "2024-10-04T01:16:00.073638Z"
    }
   },
   "outputs": [],
   "source": [
    "d2 = opcsim.load_distribution(\"urban\")\n",
    "\n",
    "d2"
   ]
  },
  {
   "cell_type": "markdown",
   "metadata": {},
   "source": [
    "First, let's determine the actual $PM_1$, $PM_{2.5}$, and $PM_{10}$ loadings for this distribution:"
   ]
  },
  {
   "cell_type": "code",
   "execution_count": null,
   "metadata": {
    "execution": {
     "iopub.execute_input": "2024-10-04T01:16:00.075483Z",
     "iopub.status.busy": "2024-10-04T01:16:00.075384Z",
     "iopub.status.idle": "2024-10-04T01:16:00.077853Z",
     "shell.execute_reply": "2024-10-04T01:16:00.077554Z"
    }
   },
   "outputs": [],
   "source": [
    "print (\"PM1 = {:.2f} ug/m3\".format(d2.cdf(dmin=0., dmax=1., weight='mass', rho=1.65)))\n",
    "print (\"PM2.5 = {:.2f} ug/m3\".format(d2.cdf(dmin=0., dmax=2.5, weight='mass', rho=1.65)))\n",
    "print (\"PM10 = {:.2f} ug/m3\".format(d2.cdf(dmin=0., dmax=10., weight='mass', rho=1.65)))"
   ]
  },
  {
   "cell_type": "markdown",
   "metadata": {},
   "source": [
    "Next, let's evaluate the Nephelometer:"
   ]
  },
  {
   "cell_type": "code",
   "execution_count": null,
   "metadata": {
    "execution": {
     "iopub.execute_input": "2024-10-04T01:16:00.079411Z",
     "iopub.status.busy": "2024-10-04T01:16:00.079315Z",
     "iopub.status.idle": "2024-10-04T01:16:01.501202Z",
     "shell.execute_reply": "2024-10-04T01:16:01.500883Z"
    }
   },
   "outputs": [],
   "source": [
    "neph.evaluate(d2, rh=0.)"
   ]
  },
  {
   "cell_type": "markdown",
   "metadata": {},
   "source": [
    "So, we're off by about a factor of 2, in part due to differences in assumed density and in part due to the fact the urban distribution scatters less light per unit mass than our calibration aerosol."
   ]
  },
  {
   "cell_type": "code",
   "execution_count": null,
   "metadata": {},
   "outputs": [],
   "source": []
  }
 ],
 "metadata": {
  "kernelspec": {
   "display_name": "Python 3",
   "language": "python",
   "name": "python3"
  },
  "language_info": {
   "codemirror_mode": {
    "name": "ipython",
    "version": 3
   },
   "file_extension": ".py",
   "mimetype": "text/x-python",
   "name": "python",
   "nbconvert_exporter": "python",
   "pygments_lexer": "ipython3",
   "version": "3.10.6"
  }
 },
 "nbformat": 4,
 "nbformat_minor": 4
}
