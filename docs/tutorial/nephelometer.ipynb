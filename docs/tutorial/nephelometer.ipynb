{
 "cells": [
  {
   "cell_type": "raw",
   "metadata": {},
   "source": [
    ".. _nephelometer_tutorial:\n"
   ]
  },
  {
   "cell_type": "markdown",
   "metadata": {},
   "source": [
    "# Using OPCSIM to Simulate a Nephelometer\n",
    "\n"
   ]
  },
  {
   "cell_type": "code",
   "execution_count": null,
   "metadata": {},
   "outputs": [],
   "source": [
    "# Make imports\n",
    "import opcsim\n",
    "import numpy as np\n",
    "import matplotlib.pyplot as plt\n",
    "import matplotlib.ticker as mticks\n",
    "import seaborn as sns\n",
    "\n",
    "%matplotlib inline\n",
    "\n",
    "# turn off warnings temporarily\n",
    "import warnings\n",
    "warnings.simplefilter('ignore')\n",
    "\n",
    "# Let's set some default seaborn settings\n",
    "sns.set(context='notebook', style='ticks', palette='dark', font_scale=1.75, \n",
    "        rc={'figure.figsize': (12,6), **opcsim.plots.rc_log})"
   ]
  },
  {
   "cell_type": "code",
   "execution_count": null,
   "metadata": {},
   "outputs": [],
   "source": [
    "class Nephelometer(object):\n",
    "    def __init__(self, wl, theta=(7., 173.), **kwargs):\n",
    "        self.wl = wl\n",
    "        self.theta = theta\n",
    "        self.calibration_function = None\n",
    "        self.pm1_ratio = None\n",
    "        self.pm25_ratio = None\n",
    "        self.pm10_ratio = None\n",
    "    \n",
    "    def calibrate(self, distribution, **kwargs):\n",
    "        \"\"\"Set the calibration function that relates the total scattered light\n",
    "        to mass.\n",
    "        \"\"\"\n",
    "        n_bins = kwargs.pop(\"n_bins\", 100)\n",
    "        \n",
    "        # compute PM1, PM25, and PM10 for the distribution\n",
    "        pm1 = distribution.cdf(dmin=0., dmax=1., weight=\"mass\")\n",
    "        pm25 = distribution.cdf(dmin=0., dmax=2.5, weight=\"mass\")\n",
    "        pm10 = distribution.cdf(dmin=0., dmax=10., weight=\"mass\")\n",
    "        \n",
    "        print (pm1, pm25, pm10)\n",
    "        \n",
    "        # compute the total scattered light the Nephelometer \"see's\"\n",
    "        total_cscat = self._sum_across_distribution(distribution, n_bins=n_bins, rh=0.)\n",
    "            \n",
    "        # set the ratios\n",
    "        self.pm1_ratio = total_cscat / pm1\n",
    "        self.pm25_ratio = total_cscat / pm25\n",
    "        self.pm10_ratio = total_cscat / pm10\n",
    "        \n",
    "        return\n",
    "    \n",
    "    def _sum_across_distribution(self, distribution, n_bins=100, rh=0., **kwargs):\n",
    "        \"\"\"Return the total Cscat value when summed across an entire distribution.\n",
    "        \"\"\"\n",
    "        total_cscat = 0.\n",
    "        for m in distribution.modes:\n",
    "            gm = m[\"GM\"]\n",
    "            gsd = m[\"GSD\"]\n",
    "            refr = m[\"refr\"]\n",
    "            \n",
    "            # alter GM and RI per RH conditions\n",
    "            gm = opcsim.utils.k_kohler(diam_dry=gm, kappa=m[\"kappa\"], rh=rh)\n",
    "            \n",
    "            pct_dry = m[\"GM\"]**3 / gm**3\n",
    "            \n",
    "            refr = opcsim.utils.ri_eff(species=[refr, complex(1.333, 0)], weights=[pct_dry, 1-pct_dry])\n",
    "\n",
    "            # compute the range over which to make calculations - we use Dpg/sigma^4 to Dpg*sigma^4\n",
    "            bounds = np.logspace(start=np.log10(gm/(gsd**4)), stop=np.log10(gm*(gsd**4)), num=n_bins)\n",
    "            \n",
    "            # compute the midpoints for each bin\n",
    "            midpoints = np.mean([bounds[:-1], bounds[1:]], axis=0)\n",
    "            \n",
    "            # compute the number of particles in each bin\n",
    "            n = np.array([distribution.cdf(dmin=a, dmax=b, mode=m[\"label\"], rh=rh) for a, b in zip(bounds[:-1], bounds[1:])])\n",
    "            \n",
    "            # compute the mean Cscat value for each bin\n",
    "            cscat = [opcsim.mie.cscat(dp, wl=self.wl, refr=refr, theta1=self.theta[0], theta2=self.theta[1]) for dp in midpoints]\n",
    "            \n",
    "            # take the product of the two - results in total cm2\n",
    "            signal = (n*cscat).sum()\n",
    "            \n",
    "            # add to the running total\n",
    "            total_cscat += signal\n",
    "            \n",
    "        return total_cscat\n",
    "    \n",
    "    def evaluate(self, distribution, rh=0., **kwargs):\n",
    "        \"\"\"\n",
    "        \"\"\"\n",
    "        total_cscat = self._sum_across_distribution(distribution, rh=rh, **kwargs)\n",
    "        \n",
    "        pm1 = total_cscat / self.pm1_ratio\n",
    "        pm25 = total_cscat / self.pm25_ratio\n",
    "        pm10 = total_cscat / self.pm10_ratio\n",
    "        \n",
    "        return total_cscat, pm1, pm25, pm10\n",
    "    \n",
    "d = opcsim.AerosolDistribution(\"Cal1\")\n",
    "d.add_mode(n=1e3, gm=250e-3, gsd=1.65, kappa=0.53, refr=complex(1.521, 0), rho=1.77)\n",
    "\n",
    "tmp = Nephelometer(wl=0.658)\n",
    "\n",
    "tmp.calibrate(d)"
   ]
  },
  {
   "cell_type": "code",
   "execution_count": null,
   "metadata": {},
   "outputs": [],
   "source": [
    "tmp.evaluate(d)"
   ]
  },
  {
   "cell_type": "code",
   "execution_count": null,
   "metadata": {},
   "outputs": [],
   "source": [
    "d2 = opcsim.AerosolDistribution(\"Cal2\")\n",
    "d2.add_mode(n=1e3, gm=250e-3, gsd=1.65, kappa=0, refr=complex(1.592, 0), rho=1.)\n",
    "\n",
    "tmp.evaluate(d2)"
   ]
  },
  {
   "cell_type": "code",
   "execution_count": null,
   "metadata": {},
   "outputs": [],
   "source": [
    "d.cdf(dmin=0., dmax=1., weight=\"mass\")"
   ]
  },
  {
   "cell_type": "code",
   "execution_count": null,
   "metadata": {},
   "outputs": [],
   "source": []
  }
 ],
 "metadata": {
  "kernelspec": {
   "display_name": "Python 3",
   "language": "python",
   "name": "python3"
  },
  "language_info": {
   "codemirror_mode": {
    "name": "ipython",
    "version": 3
   },
   "file_extension": ".py",
   "mimetype": "text/x-python",
   "name": "python",
   "nbconvert_exporter": "python",
   "pygments_lexer": "ipython3",
   "version": "3.6.5"
  }
 },
 "nbformat": 4,
 "nbformat_minor": 2
}
