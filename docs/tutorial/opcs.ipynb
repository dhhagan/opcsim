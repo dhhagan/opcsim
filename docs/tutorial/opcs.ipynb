{
 "cells": [
  {
   "cell_type": "raw",
   "metadata": {},
   "source": [
    ".. _model_tutorial:\n"
   ]
  },
  {
   "cell_type": "markdown",
   "metadata": {},
   "source": [
    "# Using OPCSIM to Build and Model an Optical Particle Counter (OPC)\n",
    "\n",
    "The following tutorial will show you how a low-cost OPC is represented when using the opcsim software. You will learn how to build a model OPC, how to mimic a calibration for specific aerosols, and how to evaluate the OPC against a simulated aerosol distribution. Visualization tools will also be discussed.\n",
    "\n",
    "First, we import the python libraries we need and set the styles used for plotting throughout this tutorial."
   ]
  },
  {
   "cell_type": "code",
   "execution_count": 1,
   "metadata": {},
   "outputs": [
    {
     "name": "stdout",
     "output_type": "stream",
     "text": [
      "0.3.0+19.g110e7e5\n"
     ]
    }
   ],
   "source": [
    "# Make imports\n",
    "import opcsim\n",
    "import numpy as np\n",
    "import matplotlib.pyplot as plt\n",
    "import matplotlib.ticker as mticks\n",
    "import seaborn as sns\n",
    "\n",
    "%matplotlib inline\n",
    "\n",
    "# turn off warnings temporarily\n",
    "import warnings\n",
    "warnings.simplefilter('ignore')\n",
    "\n",
    "# Let's set some default seaborn settings\n",
    "sns.set(context='notebook', style='ticks', palette='dark', font_scale=1.75, \n",
    "        rc={'figure.figsize': (12,6), **opcsim.plots.rc_log})\n",
    "\n",
    "print (opcsim.__version__)"
   ]
  },
  {
   "cell_type": "markdown",
   "metadata": {},
   "source": [
    "# The OPC Model\n",
    "\n",
    "The `opcsim.OPC` class provides a simple way to model most of the functionality of low-cost optical particle counters. This model is based on just a few instrument parameters which should be defined in the manufacturer's speficication sheet. \n",
    "\n",
    "An OPC is defined by just the laser wavelength (`wl`), the exact `bins` the OPC uses as its output, and the angles for which the scattered light is collected between (`theta`). Other work has considered much more detail that this, including the electrical properties and characteristics of the photodetector, etc. However, this typically requires knowledge or information that is not commonly available in the datasheet of a low-cost particle counter, and thus we try to provide a method that does not rely on this information. \n",
    "\n",
    "Within the software itself, there is flexibility in how exactly you define the bins. In the end, you will end up with a 3xn array of values, where n is the number of bins. Each bin is then defined by its left bin boundary, midpoint, and right bin boundary. \n",
    " \n",
    "To simulate an OPC using the `opcsim.OPC` class, we initiate as follows:"
   ]
  },
  {
   "cell_type": "code",
   "execution_count": 2,
   "metadata": {},
   "outputs": [
    {
     "data": {
      "text/plain": [
       "<class 'opcsim.models.OPC'>"
      ]
     },
     "execution_count": 2,
     "metadata": {},
     "output_type": "execute_result"
    }
   ],
   "source": [
    "opc = opcsim.OPC(wl=0.658, n_bins=5, theta=(32., 88.))\n",
    "\n",
    "opc"
   ]
  },
  {
   "cell_type": "markdown",
   "metadata": {},
   "source": [
    "When initiated with no arguments, the default arguments are used and can be looked up in the API documentation. This sets $dmin=0.5\\;\\mu m$, $dmax=2.5\\;\\mu m$, and $n_{bins}=5$. We can view the number of bins using the `OPC.n_bins` attribute."
   ]
  },
  {
   "cell_type": "code",
   "execution_count": 3,
   "metadata": {},
   "outputs": [
    {
     "data": {
      "text/plain": [
       "5"
      ]
     },
     "execution_count": 3,
     "metadata": {},
     "output_type": "execute_result"
    }
   ],
   "source": [
    "opc.n_bins"
   ]
  },
  {
   "cell_type": "markdown",
   "metadata": {},
   "source": [
    "We can also view the bin boundaries and midpoint diameters using the `OPC.bins` attribute. Here, we receieve a **3xn** array where the first entry is the left bin boundary, the middle is the midpoint diameter as defined by its geometric mean, and the last entry is the right bin boundary."
   ]
  },
  {
   "cell_type": "code",
   "execution_count": 4,
   "metadata": {},
   "outputs": [
    {
     "data": {
      "text/plain": [
       "array([[0.5       , 0.58730947, 0.68986483],\n",
       "       [0.68986483, 0.8103283 , 0.95182697],\n",
       "       [0.95182697, 1.11803399, 1.3132639 ],\n",
       "       [1.3132639 , 1.54258466, 1.81194916],\n",
       "       [1.81194916, 2.12834981, 2.5       ]])"
      ]
     },
     "execution_count": 4,
     "metadata": {},
     "output_type": "execute_result"
    }
   ],
   "source": [
    "opc.bins"
   ]
  },
  {
   "cell_type": "markdown",
   "metadata": {},
   "source": [
    "## Building more specific OPC's\n",
    "\n",
    "We can build more complex - or specified - models by increasing the number of bins in a couple of ways: (1) we can change the minimum or maximum cutoffs, or the total number of bins:"
   ]
  },
  {
   "cell_type": "code",
   "execution_count": 5,
   "metadata": {},
   "outputs": [
    {
     "data": {
      "text/plain": [
       "array([[ 0.38      ,  0.46019969,  0.55732566],\n",
       "       [ 0.55732566,  0.67495025,  0.81739972],\n",
       "       [ 0.81739972,  0.98991341,  1.19883643],\n",
       "       [ 1.19883643,  1.45185303,  1.75826924],\n",
       "       [ 1.75826924,  2.12935514,  2.57875939],\n",
       "       [ 2.57875939,  3.12301123,  3.78212839],\n",
       "       [ 3.78212839,  4.58035343,  5.54704531],\n",
       "       [ 5.54704531,  6.71775925,  8.13555449],\n",
       "       [ 8.13555449,  9.85257798, 11.93198238],\n",
       "       [11.93198238, 14.45024885, 17.5       ]])"
      ]
     },
     "execution_count": 5,
     "metadata": {},
     "output_type": "execute_result"
    }
   ],
   "source": [
    "opc_10bins = opcsim.OPC(wl=0.658, n_bins=10, dmin=0.38, dmax=17.5)\n",
    "\n",
    "opc_10bins.bins"
   ]
  },
  {
   "cell_type": "markdown",
   "metadata": {},
   "source": [
    "If we are trying to model a specific OPC that has pre-defined bins, we can also do that with the help of some utility methods. The bins argument in the OPC class requires a **3xn** array as seen above. Often, you may only have the bin boundary information and not the midpoints. We can define the bins as an array of the bin boundaries, where there are 1 more entries than total number of bins, as follows:"
   ]
  },
  {
   "cell_type": "code",
   "execution_count": 6,
   "metadata": {},
   "outputs": [
    {
     "data": {
      "text/plain": [
       "array([[0.38      , 0.45299007, 0.54      ],\n",
       "       [0.54      , 0.64899923, 0.78      ],\n",
       "       [0.78      , 0.90498619, 1.05      ],\n",
       "       [1.05      , 1.25499004, 1.5       ],\n",
       "       [1.5       , 1.93649167, 2.5       ]])"
      ]
     },
     "execution_count": 6,
     "metadata": {},
     "output_type": "execute_result"
    }
   ],
   "source": [
    "opc = opcsim.OPC(wl=0.658, bins=[0.38, 0.54, 0.78, 1.05, 1.5, 2.5])\n",
    "\n",
    "opc.bins"
   ]
  },
  {
   "cell_type": "markdown",
   "metadata": {},
   "source": [
    "This more or less covers how we can build various OPC's - if you are still unsure of what to do in a specific case, feel free to post questions on the GitHub repository under the 'Issues' tab."
   ]
  },
  {
   "cell_type": "markdown",
   "metadata": {},
   "source": [
    "# Calibration\n",
    "\n",
    "OPC's count and size each particle individualy - the size of a particle is determined by the signal amplitude measured by the photo-detector, which is proportional to the product of the intensity of incoming light and the particle's scattering cross-section. This model assumes light intensity is constant, thus every particle experiences the same light intensity. Assuming this is valid, we can state the size of a particle is proportional ot the scattering cross-section of that particle. \n",
    "\n",
    "The output we receieve from an OPC is a histogram with the total number of particles in a specified size bin. So how do we know which bin a given particle belongs to? We must calibrate our OPC and tell it, based on the $C_{scat}$ value, which bin a particle belongs to. While the literature dives deep into complicated, and possibly more accurate ways to do this, we offer three easy methods that can often be found in today's low-cost devices:\n",
    "\n",
    "  1. `spline` - a simple mapping between $C_{scat}$ and $D_p$\n",
    "  2. `linear` - fit a power law (linear in log-log space) to the $C_{scat}$ values at every bin boundary\n",
    "  3. `piecewise` - the same as `linear` except we split into two different curves\n",
    "\n",
    "\n",
    "### Assumptions we make\n",
    "\n",
    "  * all particles are spheres\n",
    "  * light intensity is constant\n",
    "  * all particles fall squarely within the laser\n",
    "\n",
    "We will walk through how to calibrate using each approach, but first, let's take a look at a typical scattering pattern for an OPC with a 658 nm laser and a collection angle of 32-88 degrees."
   ]
  },
  {
   "cell_type": "code",
   "execution_count": 7,
   "metadata": {},
   "outputs": [
    {
     "data": {
      "text/plain": [
       "<class 'opcsim.models.OPC'>"
      ]
     },
     "execution_count": 7,
     "metadata": {},
     "output_type": "execute_result"
    }
   ],
   "source": [
    "# build a generic OPC with 10-bins\n",
    "opc = opcsim.OPC(wl=0.658, theta=(32.0, 88.0), n_bins=10)\n",
    "\n",
    "opc"
   ]
  },
  {
   "cell_type": "code",
   "execution_count": 9,
   "metadata": {},
   "outputs": [
    {
     "data": {
      "image/png": "[encoded data removed]",
      "text/plain": [
       "<Figure size 432x432 with 1 Axes>"
      ]
     },
     "metadata": {},
     "output_type": "display_data"
    }
   ],
   "source": [
    "# generate an array of particle diameters\n",
    "dp = np.logspace(-1, 1.25, 250)\n",
    "vals = [opcsim.mie.cscat(x, wl=0.658, refr=complex(1.59, 0), theta1=32., theta2=88.) for x in dp]\n",
    "\n",
    "fig, ax = plt.subplots(1, figsize=(6, 6))\n",
    "\n",
    "ax.plot(dp, vals, lw=3)\n",
    "\n",
    "ax.semilogx()\n",
    "ax.semilogy()\n",
    "\n",
    "ax.set_title(\"Calibration Curve for PSLs\", y=1.02)\n",
    "ax.set_xlabel(\"$D_p\\;[\\mu m]$\")\n",
    "ax.set_ylabel(\"$C_{scat}$\")\n",
    "\n",
    "sns.despine(offset=5)"
   ]
  },
  {
   "cell_type": "markdown",
   "metadata": {},
   "source": [
    "As we can see in the figure above, there are $C_{scat}$ values that are not monotonically increasing as the particle diameter increases, which may make it difficult to assign that value to 1 bin specifically. This is a very well known and documented issue with OPC's and should play a role in choosing bin boundaries. Additionally, it only gets more complicated as the particle optical properties change!\n",
    "\n",
    "Now, we will examine the two simple approaches to modeling our ways out of this."
   ]
  },
  {
   "cell_type": "markdown",
   "metadata": {},
   "source": [
    "## Calibration Method 1: `spline`\n",
    "\n",
    "One of the most common ways to associate a $C_{scat}$ value with a corresponding particle size is to use spline interpolation. Essentially, this entails evaluating the $C_{scat}$ curve at every bin boundary and grouping all $C_{scat}$ values within range of those two boundaries as belonging to that bin. This work fairly well when the bins are chosen intelligently for a given aerosol type. However, this is not only the case and there are non-monotonically increasing bins from time-to-time. To remove issues associated with this \"dips\", we implement a solution where we interpolate across any \"dips\". This is far from perfect, but gives us reasonable results. \n",
    "\n",
    "Note that this can make it quite difficult for particles to get assigned to certain bins, especially if the $C_{scat}$ values plateau - this can be somewhat solved by combining these bins into one bin to reduce the uncertainty in bin assignment, though it will make the correct particle sizing in that bin less precise as well.\n",
    "\n",
    "Note that it is also possible to write your own calibration function, so do not fret!"
   ]
  },
  {
   "cell_type": "code",
   "execution_count": 10,
   "metadata": {},
   "outputs": [
    {
     "data": {
      "text/plain": [
       "functools.partial(<bound method OPC._digitize_opc_bins of <class 'opcsim.models.OPC'>>, cscat_boundaries=array([2.86492750e-09, 4.48206290e-09, 5.25272279e-09, 6.02393845e-09,\n",
       "       6.64256044e-09, 9.09772227e-09, 1.08326613e-08, 1.25676003e-08,\n",
       "       1.40492264e-08, 1.99683184e-08, 4.17442631e-08]))"
      ]
     },
     "execution_count": 10,
     "metadata": {},
     "output_type": "execute_result"
    }
   ],
   "source": [
    "# calibrate using spline\n",
    "opc.calibrate(\"psl\", method=\"spline\")\n",
    "\n",
    "# show the Cscat values corresponding to each bin boundary\n",
    "opc.calibration_function"
   ]
  },
  {
   "cell_type": "markdown",
   "metadata": {},
   "source": [
    "Let's take a look at the calibration:"
   ]
  },
  {
   "cell_type": "code",
   "execution_count": 11,
   "metadata": {},
   "outputs": [
    {
     "data": {
      "image/png": "[encoded data removed]",
      "text/plain": [
       "<Figure size 720x576 with 1 Axes>"
      ]
     },
     "metadata": {},
     "output_type": "display_data"
    }
   ],
   "source": [
    "fig, ax = plt.subplots(1, figsize=(10, 8))\n",
    "\n",
    "ax = opcsim.plots.calplot(opc, ax=ax, dp=np.logspace(-1, 1, 250), plot_kws=dict(alpha=.5))\n",
    "\n",
    "ax.set_xlim(0.1, 10)\n",
    "ax.set_ylim(1e-10, 1e-6)\n",
    "\n",
    "sns.despine()"
   ]
  },
  {
   "cell_type": "markdown",
   "metadata": {},
   "source": [
    "## Calibration Method 2: `linear`\n",
    "\n",
    "The second approach to generating our map of $C_{scat}$ to $D_p$ values is to fit a line to the data in log-log space. While this method is simple, and is often used because you only need to calibrate to a few different sizes of particles, it can lead to drastic oversizing in some regions and undersizing in others."
   ]
  },
  {
   "cell_type": "code",
   "execution_count": 12,
   "metadata": {},
   "outputs": [
    {
     "data": {
      "text/plain": [
       "functools.partial(<bound method OPC._digitize_opc_bins of <class 'opcsim.models.OPC'>>, cscat_boundaries=array([3.12354813e-09, 3.85694293e-09, 4.76253547e-09, 5.88075700e-09,\n",
       "       7.26153183e-09, 8.96650627e-09, 1.10718009e-08, 1.36714091e-08,\n",
       "       1.68813933e-08, 2.08450672e-08, 2.57393936e-08]))"
      ]
     },
     "execution_count": 12,
     "metadata": {},
     "output_type": "execute_result"
    }
   ],
   "source": [
    "opc.calibrate(\"psl\", method=\"linear\")\n",
    "\n",
    "opc.calibration_function"
   ]
  },
  {
   "cell_type": "code",
   "execution_count": 13,
   "metadata": {},
   "outputs": [
    {
     "data": {
      "image/png": "[encoded data removed]",
      "text/plain": [
       "<Figure size 720x576 with 1 Axes>"
      ]
     },
     "metadata": {},
     "output_type": "display_data"
    }
   ],
   "source": [
    "fig, ax = plt.subplots(1, figsize=(10, 8))\n",
    "\n",
    "ax = opcsim.plots.calplot(opc, ax=ax, dp=np.logspace(-1, 1, 250), plot_kws=dict(alpha=.5))\n",
    "\n",
    "ax.set_xlim(0.1, 10)\n",
    "ax.set_ylim(1e-10, 1e-6)\n",
    "\n",
    "sns.despine()"
   ]
  },
  {
   "cell_type": "markdown",
   "metadata": {},
   "source": [
    "## calibration Method 3: `piecewise`\n",
    "\n",
    "Similarly, we can fit a `piecewise` linear fit, where there are two linear fits, separated based on the $C_{scat}$ value at a pre-determined breakpoint as defined by the user."
   ]
  },
  {
   "cell_type": "code",
   "execution_count": 14,
   "metadata": {},
   "outputs": [
    {
     "data": {
      "text/plain": [
       "functools.partial(<bound method OPC._digitize_opc_bins of <class 'opcsim.models.OPC'>>, cscat_boundaries=array([3.19752250e-09, 3.91392940e-09, 4.79084770e-09, 5.86424010e-09,\n",
       "       7.17812672e-09, 8.46293429e-09, 1.06857637e-08, 1.34924297e-08,\n",
       "       1.70362796e-08, 2.15109384e-08, 2.71608873e-08]))"
      ]
     },
     "execution_count": 14,
     "metadata": {},
     "output_type": "execute_result"
    }
   ],
   "source": [
    "opc.calibrate(\"psl\", method=\"piecewise\")\n",
    "\n",
    "opc.calibration_function"
   ]
  },
  {
   "cell_type": "code",
   "execution_count": 15,
   "metadata": {},
   "outputs": [
    {
     "data": {
      "image/png": "[encoded data removed]",
      "text/plain": [
       "<Figure size 720x576 with 1 Axes>"
      ]
     },
     "metadata": {},
     "output_type": "display_data"
    }
   ],
   "source": [
    "fig, ax = plt.subplots(1, figsize=(10, 8))\n",
    "\n",
    "ax = opcsim.plots.calplot(opc, ax=ax, dp=np.logspace(-1, 1, 250), plot_kws=dict(alpha=.5))\n",
    "\n",
    "ax.set_xlim(0.1, 10)\n",
    "ax.set_ylim(1e-10, 1e-6)\n",
    "\n",
    "sns.despine()"
   ]
  },
  {
   "cell_type": "markdown",
   "metadata": {},
   "source": [
    "### Calibration Materials\n",
    "\n",
    "Above, we covered the methods used to calibrate, but you may have noticed the first argument to those calls was the material used to calibrate. The calibration material can be defined in one of two ways - you can either choose from a material in the table below or you can specify any complex refractive index. Note that the table below uses approximate literature values which were determined at close to 658 nm. Thus, if you are looking for the best results, you may want to specificy the refractive index of your material at the wavelength of light you are using.\n",
    "  \n",
    "The material lookup table is quite limited - if you would like to add to this table, please open an issue on GitHub.\n",
    "\n",
    "### Current Options\n",
    "\n",
    "| option | Material | Refractive Index |\n",
    "|:------:|:--------:|:----------------:|\n",
    "| `psl` | Polystyrene Latex Spheres | 1.592 + 0i |\n",
    "| `ammonium_sulfate` | Ammonium Sulfate | 1.521 + 0i |\n",
    "| `sodium_chloride` | Sodium Chloride | 1.5405 + 0i |\n",
    "| `sodium_nitrate` | Sodium Nitrate | 1.448 + 0i |\n",
    "| `black_carbon` | Black Carbon | 1.95 + 0.79i |\n",
    "| `sulfuric_acid` | Sulfuric Acid | 1.427 + 0i |\n",
    "| `soa` | Secondary Organic Aerosol | 1.4 + 0.002i |\n",
    "| `urban_high` | High estimate for Urban Aerosol | 1.6 + 0.034i |\n",
    "| `urban_low` | Low estimate for Urban Aerosol | 1.73 + 0.086i |"
   ]
  },
  {
   "cell_type": "markdown",
   "metadata": {},
   "source": [
    "# Evaluating an OPC for a given Aerosol Distribution\n",
    "\n",
    "The entire point of this software is to model how various OPC's and other particle sensors \"see\" aerosols in the real world. The Aerosol Distribution tutorial showed how we can model realistic aerosol distributions. This section will review how the OPC's we just built \"see\" these distributions. Generally speaking, the process works as follows:\n",
    "\n",
    "  1. For every particle in the aerosol distribution, we calculate the scattering cross-section\n",
    "  2. For each of the scattering cross-section's we just calculated, we assign them to a bin of the OPC based on the calibration curve we generated\n",
    "  3. We end up with a histogram in the form of the cumulative number of particles in each OPC bin, just as we would if we were using a commercially available OPC\n",
    "  \n",
    "  \n",
    "The base method we use to obtain these numbers is `OPC.evaluate`. This method returns the number of particles the OPC \"sees\" in each bin for a given aerosol distribution. One component that hasn't yet been discussed is how the OPC reacts as relative humidity changes. Each of these methods takes an argument for relative humidity (`rh`) which will automatically calculate the change in particle size due to hygroscopic growth per $\\kappa$-kohler theory; the refractive index and density will also change accordingly based on the amount of growth that takes place.\n",
    "\n",
    "To evaluate a distribution, we need to first define the AerosolDistribution and the OPC.\n",
    "\n",
    "  * Show examples for a few different scenarios, including growth due to RH\n",
    "  * show examples for different calibration approaches"
   ]
  },
  {
   "cell_type": "code",
   "execution_count": 16,
   "metadata": {},
   "outputs": [
    {
     "data": {
      "text/plain": [
       "AerosolDistribution: Amm. Sulfate"
      ]
     },
     "execution_count": 16,
     "metadata": {},
     "output_type": "execute_result"
    }
   ],
   "source": [
    "# build a single mode of ammonium sulfate\n",
    "d = opcsim.AerosolDistribution(\"Amm. Sulfate\")\n",
    "\n",
    "d.add_mode(n=1e3, gm=250e-3, gsd=1.65, kappa=0.53, rho=1.77, refr=complex(1.521, 0))\n",
    "\n",
    "d"
   ]
  },
  {
   "cell_type": "code",
   "execution_count": 17,
   "metadata": {},
   "outputs": [
    {
     "data": {
      "text/plain": [
       "<class 'opcsim.models.OPC'>"
      ]
     },
     "execution_count": 17,
     "metadata": {},
     "output_type": "execute_result"
    }
   ],
   "source": [
    "# build an OPC\n",
    "opc = opcsim.OPC(wl=0.658, n_bins=24, dmin=0.25, dmax=40.)\n",
    "\n",
    "opc"
   ]
  },
  {
   "cell_type": "markdown",
   "metadata": {},
   "source": [
    "Let's go ahead and calibrate the OPC using ammonium sulfate:"
   ]
  },
  {
   "cell_type": "code",
   "execution_count": 18,
   "metadata": {},
   "outputs": [],
   "source": [
    "opc.calibrate(\"ammonium_sulfate\", method=\"spline\")"
   ]
  },
  {
   "cell_type": "markdown",
   "metadata": {},
   "source": [
    "Now, let's go ahead and evaluate the OPC for the previously defined distribution. This will return the number of particles in each bin:"
   ]
  },
  {
   "cell_type": "code",
   "execution_count": 19,
   "metadata": {},
   "outputs": [
    {
     "data": {
      "text/plain": [
       "array([1.63828722e+02, 1.38275380e+02, 9.79487110e+01, 5.82297216e+01,\n",
       "       2.90517641e+01, 1.21637799e+01, 4.41451983e+00, 1.20624354e+00,\n",
       "       2.21934242e-01, 7.11360375e-02, 7.77406249e-03, 1.70456694e-03,\n",
       "       1.16797839e-04, 4.77037132e-05, 1.81163887e-06, 1.08749418e-07,\n",
       "       6.16523721e-09, 2.34763320e-10, 0.00000000e+00, 0.00000000e+00,\n",
       "       0.00000000e+00, 0.00000000e+00, 0.00000000e+00, 0.00000000e+00])"
      ]
     },
     "execution_count": 19,
     "metadata": {},
     "output_type": "execute_result"
    }
   ],
   "source": [
    "vals = opc.evaluate(d, rh=0.0)\n",
    "\n",
    "vals"
   ]
  },
  {
   "cell_type": "markdown",
   "metadata": {},
   "source": [
    "## Iterating across the Particle Size Distribution\n",
    "\n",
    "Another important task for evaluation OPC's is comparing the integrated values across some pre-defined particle size range. We can accomplish this by using the `OPC.integrate` method to calculate either the total number of particles, total surface area, total volume, or total mass betweeen any two diameters.\n",
    "\n",
    "Example:"
   ]
  },
  {
   "cell_type": "code",
   "execution_count": 20,
   "metadata": {},
   "outputs": [
    {
     "data": {
      "text/plain": [
       "505.41153723883406"
      ]
     },
     "execution_count": 20,
     "metadata": {},
     "output_type": "execute_result"
    }
   ],
   "source": [
    "opc.integrate(d, dmin=0., dmax=2.5, weight='number', rh=0.)"
   ]
  },
  {
   "cell_type": "code",
   "execution_count": 21,
   "metadata": {},
   "outputs": [
    {
     "data": {
      "text/plain": [
       "754.771941379744"
      ]
     },
     "execution_count": 21,
     "metadata": {},
     "output_type": "execute_result"
    }
   ],
   "source": [
    "opc.integrate(d, dmin=0., dmax=2.5, weight='number', rh=85.)"
   ]
  },
  {
   "cell_type": "markdown",
   "metadata": {},
   "source": [
    "## Visualizing the OPC Histogram\n",
    "\n",
    "Last, it is fairly useful and important for us to be able to easily visualize our results. There are functions built-in to compute the histogram to use with `opcsim.plots.histplot` to easily plot the particle size distribution.\n",
    "\n",
    "Let's go ahead and visualize our results from earlier:"
   ]
  },
  {
   "cell_type": "code",
   "execution_count": 22,
   "metadata": {},
   "outputs": [],
   "source": [
    "# compute the histogram\n",
    "lb, data1, ddp = opc.histogram(d, weight=\"number\", base=\"log10\", rh=0.0)\n",
    "lb, data2, ddp = opc.histogram(d, weight=\"number\", base=\"log10\", rh=95.0)"
   ]
  },
  {
   "cell_type": "code",
   "execution_count": 23,
   "metadata": {},
   "outputs": [
    {
     "data": {
      "image/png": "[encoded data removed]",
      "text/plain": [
       "<Figure size 576x432 with 1 Axes>"
      ]
     },
     "metadata": {},
     "output_type": "display_data"
    }
   ],
   "source": [
    "fig, ax = plt.subplots(1, figsize=(8, 6))\n",
    "\n",
    "ax = opcsim.plots.pdfplot(d, ax=ax, weight=\"number\")\n",
    "ax = opcsim.plots.pdfplot(d, ax=ax, weight=\"number\", rh=95.0)\n",
    "ax = opcsim.plots.histplot(data=data1, bins=opc.bins, ax=ax, label=\"RH=0%\", \n",
    "                           plot_kws=dict(linewidth=2, fill=True, alpha=.35, color='blue'))\n",
    "ax = opcsim.plots.histplot(data=data2, bins=opc.bins, ax=ax, label=\"RH=95%\", \n",
    "                           plot_kws=dict(linewidth=2))\n",
    "\n",
    "ax.set_ylim(0, None)\n",
    "ax.set_xlim(0.01, None)\n",
    "ax.legend(bbox_to_anchor=(.7, 1))\n",
    "\n",
    "sns.despine()"
   ]
  },
  {
   "cell_type": "markdown",
   "metadata": {},
   "source": [
    "On the left, we have the PDF of the particle size distribution at 0% RH in dark blue with the histogram, as seen by the OPC, in light blue. In dark red, we have the PDF of the particle size distribution at 95% RH - as you can see, it has shifted right substantially. There is also the histogram, shown as red boxes, of how the OPC \"see's\" the size distribution at 95% RH. Interestingly, you see the lower part of the distribution (below around 600 nm) simply moves right; however, above that point, the bin assignments start to get screwy. This is due to the Mie Resonance taking hold and making it hard to assign the $C_{scat}$ value to the correct bin."
   ]
  },
  {
   "cell_type": "markdown",
   "metadata": {},
   "source": [
    "## Classifying Bin Misassignment\n",
    "\n",
    "One way to gain an underestanding of how reliable/accurate the OPC is is to estimate the range of bins particles of a specific size could be assigned to. For example, if we calibrated our OPC with Ammonium Sulfate at 0% RH, and then only evaluated Ammonium Sulfate at that same RH, we would be fairly confident in our ability to resolve the correct bin. However, if we suddenly were in a more humid environment, how would we do? \n",
    "\n",
    "There are a fwe `metrics` methods available by default to help understand the expected range of bin assignments - each is detailed below.\n",
    "\n",
    "### `compute_bin_assessment`\n",
    "\n",
    "The objective of this method is to assess the ability of an OPC to assign particles to the correct bin. It uses a calibrated OPC to evaluate a material of some refractive index and kappa value at various relative humidities. The method returns a dataframe containing data including: the correct bin assignment, the lower estimate for bin assignment, the upper estimate for bin assignment, the effective refractive index, the relative humidity, and the lower and upper limit's of scattered light to expected scattered light.\n",
    "\n",
    "Our primary focus here is estimating the effects of changes in relative humidity, which (1) causes the aerosols to grow as they uptake water and (2) causes the refractive index to change."
   ]
  },
  {
   "cell_type": "code",
   "execution_count": 24,
   "metadata": {},
   "outputs": [
    {
     "data": {
      "text/html": [
       "<div>\n",
       "<style scoped>\n",
       "    .dataframe tbody tr th:only-of-type {\n",
       "        vertical-align: middle;\n",
       "    }\n",
       "\n",
       "    .dataframe tbody tr th {\n",
       "        vertical-align: top;\n",
       "    }\n",
       "\n",
       "    .dataframe thead th {\n",
       "        text-align: right;\n",
       "    }\n",
       "</style>\n",
       "<table border=\"1\" class=\"dataframe\">\n",
       "  <thead>\n",
       "    <tr style=\"text-align: right;\">\n",
       "      <th></th>\n",
       "      <th>bin_hi</th>\n",
       "      <th>bin_lo</th>\n",
       "      <th>bin_true</th>\n",
       "      <th>cscat_hi_ratio</th>\n",
       "      <th>cscat_lo_ratio</th>\n",
       "      <th>refr_eff</th>\n",
       "      <th>rh</th>\n",
       "    </tr>\n",
       "  </thead>\n",
       "  <tbody>\n",
       "    <tr>\n",
       "      <th>0</th>\n",
       "      <td>1</td>\n",
       "      <td>0</td>\n",
       "      <td>0</td>\n",
       "      <td>1.000000</td>\n",
       "      <td>1.000000</td>\n",
       "      <td>(1.521+0j)</td>\n",
       "      <td>0.0</td>\n",
       "    </tr>\n",
       "    <tr>\n",
       "      <th>1</th>\n",
       "      <td>2</td>\n",
       "      <td>1</td>\n",
       "      <td>1</td>\n",
       "      <td>1.000000</td>\n",
       "      <td>1.000000</td>\n",
       "      <td>(1.521+0j)</td>\n",
       "      <td>0.0</td>\n",
       "    </tr>\n",
       "    <tr>\n",
       "      <th>2</th>\n",
       "      <td>3</td>\n",
       "      <td>2</td>\n",
       "      <td>2</td>\n",
       "      <td>1.000000</td>\n",
       "      <td>1.000000</td>\n",
       "      <td>(1.521+0j)</td>\n",
       "      <td>0.0</td>\n",
       "    </tr>\n",
       "    <tr>\n",
       "      <th>3</th>\n",
       "      <td>4</td>\n",
       "      <td>3</td>\n",
       "      <td>3</td>\n",
       "      <td>1.000000</td>\n",
       "      <td>1.000000</td>\n",
       "      <td>(1.521+0j)</td>\n",
       "      <td>0.0</td>\n",
       "    </tr>\n",
       "    <tr>\n",
       "      <th>4</th>\n",
       "      <td>5</td>\n",
       "      <td>4</td>\n",
       "      <td>4</td>\n",
       "      <td>1.000000</td>\n",
       "      <td>1.000000</td>\n",
       "      <td>(1.521+0j)</td>\n",
       "      <td>0.0</td>\n",
       "    </tr>\n",
       "    <tr>\n",
       "      <th>5</th>\n",
       "      <td>6</td>\n",
       "      <td>5</td>\n",
       "      <td>5</td>\n",
       "      <td>1.000000</td>\n",
       "      <td>1.000000</td>\n",
       "      <td>(1.521+0j)</td>\n",
       "      <td>0.0</td>\n",
       "    </tr>\n",
       "    <tr>\n",
       "      <th>6</th>\n",
       "      <td>7</td>\n",
       "      <td>6</td>\n",
       "      <td>6</td>\n",
       "      <td>1.000000</td>\n",
       "      <td>1.000000</td>\n",
       "      <td>(1.521+0j)</td>\n",
       "      <td>0.0</td>\n",
       "    </tr>\n",
       "    <tr>\n",
       "      <th>7</th>\n",
       "      <td>8</td>\n",
       "      <td>7</td>\n",
       "      <td>7</td>\n",
       "      <td>1.000000</td>\n",
       "      <td>1.000000</td>\n",
       "      <td>(1.521+0j)</td>\n",
       "      <td>0.0</td>\n",
       "    </tr>\n",
       "    <tr>\n",
       "      <th>8</th>\n",
       "      <td>9</td>\n",
       "      <td>8</td>\n",
       "      <td>8</td>\n",
       "      <td>1.000000</td>\n",
       "      <td>1.000000</td>\n",
       "      <td>(1.521+0j)</td>\n",
       "      <td>0.0</td>\n",
       "    </tr>\n",
       "    <tr>\n",
       "      <th>9</th>\n",
       "      <td>10</td>\n",
       "      <td>9</td>\n",
       "      <td>9</td>\n",
       "      <td>1.000000</td>\n",
       "      <td>1.000000</td>\n",
       "      <td>(1.521+0j)</td>\n",
       "      <td>0.0</td>\n",
       "    </tr>\n",
       "    <tr>\n",
       "      <th>10</th>\n",
       "      <td>11</td>\n",
       "      <td>10</td>\n",
       "      <td>10</td>\n",
       "      <td>1.000000</td>\n",
       "      <td>1.000000</td>\n",
       "      <td>(1.521+0j)</td>\n",
       "      <td>0.0</td>\n",
       "    </tr>\n",
       "    <tr>\n",
       "      <th>11</th>\n",
       "      <td>12</td>\n",
       "      <td>11</td>\n",
       "      <td>11</td>\n",
       "      <td>1.000000</td>\n",
       "      <td>1.000000</td>\n",
       "      <td>(1.521+0j)</td>\n",
       "      <td>0.0</td>\n",
       "    </tr>\n",
       "    <tr>\n",
       "      <th>12</th>\n",
       "      <td>13</td>\n",
       "      <td>12</td>\n",
       "      <td>12</td>\n",
       "      <td>1.000000</td>\n",
       "      <td>1.000000</td>\n",
       "      <td>(1.521+0j)</td>\n",
       "      <td>0.0</td>\n",
       "    </tr>\n",
       "    <tr>\n",
       "      <th>13</th>\n",
       "      <td>14</td>\n",
       "      <td>13</td>\n",
       "      <td>13</td>\n",
       "      <td>1.000000</td>\n",
       "      <td>1.000000</td>\n",
       "      <td>(1.521+0j)</td>\n",
       "      <td>0.0</td>\n",
       "    </tr>\n",
       "    <tr>\n",
       "      <th>14</th>\n",
       "      <td>15</td>\n",
       "      <td>14</td>\n",
       "      <td>14</td>\n",
       "      <td>1.000000</td>\n",
       "      <td>1.000000</td>\n",
       "      <td>(1.521+0j)</td>\n",
       "      <td>0.0</td>\n",
       "    </tr>\n",
       "    <tr>\n",
       "      <th>15</th>\n",
       "      <td>16</td>\n",
       "      <td>15</td>\n",
       "      <td>15</td>\n",
       "      <td>1.000000</td>\n",
       "      <td>1.000000</td>\n",
       "      <td>(1.521+0j)</td>\n",
       "      <td>0.0</td>\n",
       "    </tr>\n",
       "    <tr>\n",
       "      <th>16</th>\n",
       "      <td>17</td>\n",
       "      <td>16</td>\n",
       "      <td>16</td>\n",
       "      <td>1.000000</td>\n",
       "      <td>1.000000</td>\n",
       "      <td>(1.521+0j)</td>\n",
       "      <td>0.0</td>\n",
       "    </tr>\n",
       "    <tr>\n",
       "      <th>17</th>\n",
       "      <td>18</td>\n",
       "      <td>17</td>\n",
       "      <td>17</td>\n",
       "      <td>1.000000</td>\n",
       "      <td>1.000000</td>\n",
       "      <td>(1.521+0j)</td>\n",
       "      <td>0.0</td>\n",
       "    </tr>\n",
       "    <tr>\n",
       "      <th>18</th>\n",
       "      <td>19</td>\n",
       "      <td>18</td>\n",
       "      <td>18</td>\n",
       "      <td>1.000000</td>\n",
       "      <td>1.000000</td>\n",
       "      <td>(1.521+0j)</td>\n",
       "      <td>0.0</td>\n",
       "    </tr>\n",
       "    <tr>\n",
       "      <th>19</th>\n",
       "      <td>20</td>\n",
       "      <td>19</td>\n",
       "      <td>19</td>\n",
       "      <td>1.000000</td>\n",
       "      <td>1.000000</td>\n",
       "      <td>(1.521+0j)</td>\n",
       "      <td>0.0</td>\n",
       "    </tr>\n",
       "    <tr>\n",
       "      <th>20</th>\n",
       "      <td>21</td>\n",
       "      <td>20</td>\n",
       "      <td>20</td>\n",
       "      <td>1.000000</td>\n",
       "      <td>1.000000</td>\n",
       "      <td>(1.521+0j)</td>\n",
       "      <td>0.0</td>\n",
       "    </tr>\n",
       "    <tr>\n",
       "      <th>21</th>\n",
       "      <td>22</td>\n",
       "      <td>21</td>\n",
       "      <td>21</td>\n",
       "      <td>1.000000</td>\n",
       "      <td>1.000000</td>\n",
       "      <td>(1.521+0j)</td>\n",
       "      <td>0.0</td>\n",
       "    </tr>\n",
       "    <tr>\n",
       "      <th>22</th>\n",
       "      <td>23</td>\n",
       "      <td>22</td>\n",
       "      <td>22</td>\n",
       "      <td>1.000000</td>\n",
       "      <td>1.000000</td>\n",
       "      <td>(1.521+0j)</td>\n",
       "      <td>0.0</td>\n",
       "    </tr>\n",
       "    <tr>\n",
       "      <th>23</th>\n",
       "      <td>-99</td>\n",
       "      <td>23</td>\n",
       "      <td>23</td>\n",
       "      <td>1.000000</td>\n",
       "      <td>1.000000</td>\n",
       "      <td>(1.521+0j)</td>\n",
       "      <td>0.0</td>\n",
       "    </tr>\n",
       "    <tr>\n",
       "      <th>24</th>\n",
       "      <td>1</td>\n",
       "      <td>0</td>\n",
       "      <td>0</td>\n",
       "      <td>1.312445</td>\n",
       "      <td>1.341463</td>\n",
       "      <td>(1.4792597247157389+0j)</td>\n",
       "      <td>35.0</td>\n",
       "    </tr>\n",
       "    <tr>\n",
       "      <th>25</th>\n",
       "      <td>2</td>\n",
       "      <td>1</td>\n",
       "      <td>1</td>\n",
       "      <td>1.190388</td>\n",
       "      <td>1.312445</td>\n",
       "      <td>(1.4792597247157389+0j)</td>\n",
       "      <td>35.0</td>\n",
       "    </tr>\n",
       "    <tr>\n",
       "      <th>26</th>\n",
       "      <td>3</td>\n",
       "      <td>2</td>\n",
       "      <td>2</td>\n",
       "      <td>1.092271</td>\n",
       "      <td>1.190388</td>\n",
       "      <td>(1.479259724715739+0j)</td>\n",
       "      <td>35.0</td>\n",
       "    </tr>\n",
       "    <tr>\n",
       "      <th>27</th>\n",
       "      <td>4</td>\n",
       "      <td>3</td>\n",
       "      <td>3</td>\n",
       "      <td>1.059064</td>\n",
       "      <td>1.092271</td>\n",
       "      <td>(1.479259724715739+0j)</td>\n",
       "      <td>35.0</td>\n",
       "    </tr>\n",
       "    <tr>\n",
       "      <th>28</th>\n",
       "      <td>5</td>\n",
       "      <td>4</td>\n",
       "      <td>4</td>\n",
       "      <td>1.061993</td>\n",
       "      <td>1.059064</td>\n",
       "      <td>(1.4792597247157389+0j)</td>\n",
       "      <td>35.0</td>\n",
       "    </tr>\n",
       "    <tr>\n",
       "      <th>29</th>\n",
       "      <td>6</td>\n",
       "      <td>5</td>\n",
       "      <td>5</td>\n",
       "      <td>1.006953</td>\n",
       "      <td>1.061993</td>\n",
       "      <td>(1.479259724715739+0j)</td>\n",
       "      <td>35.0</td>\n",
       "    </tr>\n",
       "    <tr>\n",
       "      <th>...</th>\n",
       "      <td>...</td>\n",
       "      <td>...</td>\n",
       "      <td>...</td>\n",
       "      <td>...</td>\n",
       "      <td>...</td>\n",
       "      <td>...</td>\n",
       "      <td>...</td>\n",
       "    </tr>\n",
       "    <tr>\n",
       "      <th>42</th>\n",
       "      <td>19</td>\n",
       "      <td>18</td>\n",
       "      <td>18</td>\n",
       "      <td>1.140724</td>\n",
       "      <td>1.142485</td>\n",
       "      <td>(1.4792597247157389+0j)</td>\n",
       "      <td>35.0</td>\n",
       "    </tr>\n",
       "    <tr>\n",
       "      <th>43</th>\n",
       "      <td>20</td>\n",
       "      <td>19</td>\n",
       "      <td>19</td>\n",
       "      <td>1.134138</td>\n",
       "      <td>1.140724</td>\n",
       "      <td>(1.479259724715739+0j)</td>\n",
       "      <td>35.0</td>\n",
       "    </tr>\n",
       "    <tr>\n",
       "      <th>44</th>\n",
       "      <td>21</td>\n",
       "      <td>20</td>\n",
       "      <td>20</td>\n",
       "      <td>1.106745</td>\n",
       "      <td>1.134138</td>\n",
       "      <td>(1.479259724715739+0j)</td>\n",
       "      <td>35.0</td>\n",
       "    </tr>\n",
       "    <tr>\n",
       "      <th>45</th>\n",
       "      <td>22</td>\n",
       "      <td>21</td>\n",
       "      <td>21</td>\n",
       "      <td>1.114665</td>\n",
       "      <td>1.106745</td>\n",
       "      <td>(1.479259724715739+0j)</td>\n",
       "      <td>35.0</td>\n",
       "    </tr>\n",
       "    <tr>\n",
       "      <th>46</th>\n",
       "      <td>23</td>\n",
       "      <td>22</td>\n",
       "      <td>22</td>\n",
       "      <td>1.100155</td>\n",
       "      <td>1.114665</td>\n",
       "      <td>(1.4792597247157389+0j)</td>\n",
       "      <td>35.0</td>\n",
       "    </tr>\n",
       "    <tr>\n",
       "      <th>47</th>\n",
       "      <td>-99</td>\n",
       "      <td>23</td>\n",
       "      <td>23</td>\n",
       "      <td>1.122860</td>\n",
       "      <td>1.100155</td>\n",
       "      <td>(1.479259724715739+0j)</td>\n",
       "      <td>35.0</td>\n",
       "    </tr>\n",
       "    <tr>\n",
       "      <th>48</th>\n",
       "      <td>3</td>\n",
       "      <td>2</td>\n",
       "      <td>0</td>\n",
       "      <td>9.154365</td>\n",
       "      <td>16.614693</td>\n",
       "      <td>(1.3499828364950315+0j)</td>\n",
       "      <td>95.0</td>\n",
       "    </tr>\n",
       "    <tr>\n",
       "      <th>49</th>\n",
       "      <td>4</td>\n",
       "      <td>3</td>\n",
       "      <td>1</td>\n",
       "      <td>4.143139</td>\n",
       "      <td>9.154365</td>\n",
       "      <td>(1.3499828364950315+0j)</td>\n",
       "      <td>95.0</td>\n",
       "    </tr>\n",
       "    <tr>\n",
       "      <th>50</th>\n",
       "      <td>5</td>\n",
       "      <td>4</td>\n",
       "      <td>2</td>\n",
       "      <td>2.678093</td>\n",
       "      <td>4.143139</td>\n",
       "      <td>(1.3499828364950315+0j)</td>\n",
       "      <td>95.0</td>\n",
       "    </tr>\n",
       "    <tr>\n",
       "      <th>51</th>\n",
       "      <td>7</td>\n",
       "      <td>5</td>\n",
       "      <td>3</td>\n",
       "      <td>2.376691</td>\n",
       "      <td>2.678093</td>\n",
       "      <td>(1.3499828364950315+0j)</td>\n",
       "      <td>95.0</td>\n",
       "    </tr>\n",
       "    <tr>\n",
       "      <th>52</th>\n",
       "      <td>9</td>\n",
       "      <td>7</td>\n",
       "      <td>4</td>\n",
       "      <td>3.120545</td>\n",
       "      <td>2.376691</td>\n",
       "      <td>(1.3499828364950315+0j)</td>\n",
       "      <td>95.0</td>\n",
       "    </tr>\n",
       "    <tr>\n",
       "      <th>53</th>\n",
       "      <td>9</td>\n",
       "      <td>9</td>\n",
       "      <td>5</td>\n",
       "      <td>3.206905</td>\n",
       "      <td>3.120545</td>\n",
       "      <td>(1.3499828364950315+0j)</td>\n",
       "      <td>95.0</td>\n",
       "    </tr>\n",
       "    <tr>\n",
       "      <th>54</th>\n",
       "      <td>10</td>\n",
       "      <td>9</td>\n",
       "      <td>6</td>\n",
       "      <td>3.207352</td>\n",
       "      <td>3.206905</td>\n",
       "      <td>(1.3499828364950315+0j)</td>\n",
       "      <td>95.0</td>\n",
       "    </tr>\n",
       "    <tr>\n",
       "      <th>55</th>\n",
       "      <td>11</td>\n",
       "      <td>10</td>\n",
       "      <td>7</td>\n",
       "      <td>2.351012</td>\n",
       "      <td>3.207352</td>\n",
       "      <td>(1.3499828364950315+0j)</td>\n",
       "      <td>95.0</td>\n",
       "    </tr>\n",
       "    <tr>\n",
       "      <th>56</th>\n",
       "      <td>11</td>\n",
       "      <td>11</td>\n",
       "      <td>8</td>\n",
       "      <td>3.357221</td>\n",
       "      <td>2.351012</td>\n",
       "      <td>(1.3499828364950315+0j)</td>\n",
       "      <td>95.0</td>\n",
       "    </tr>\n",
       "    <tr>\n",
       "      <th>57</th>\n",
       "      <td>13</td>\n",
       "      <td>11</td>\n",
       "      <td>9</td>\n",
       "      <td>3.205498</td>\n",
       "      <td>3.357221</td>\n",
       "      <td>(1.3499828364950315+0j)</td>\n",
       "      <td>95.0</td>\n",
       "    </tr>\n",
       "    <tr>\n",
       "      <th>58</th>\n",
       "      <td>14</td>\n",
       "      <td>13</td>\n",
       "      <td>10</td>\n",
       "      <td>3.704630</td>\n",
       "      <td>3.205498</td>\n",
       "      <td>(1.3499828364950315+0j)</td>\n",
       "      <td>95.0</td>\n",
       "    </tr>\n",
       "    <tr>\n",
       "      <th>59</th>\n",
       "      <td>15</td>\n",
       "      <td>14</td>\n",
       "      <td>11</td>\n",
       "      <td>3.258512</td>\n",
       "      <td>3.704630</td>\n",
       "      <td>(1.3499828364950315+0j)</td>\n",
       "      <td>95.0</td>\n",
       "    </tr>\n",
       "    <tr>\n",
       "      <th>60</th>\n",
       "      <td>16</td>\n",
       "      <td>15</td>\n",
       "      <td>12</td>\n",
       "      <td>4.030928</td>\n",
       "      <td>3.258512</td>\n",
       "      <td>(1.3499828364950315+0j)</td>\n",
       "      <td>95.0</td>\n",
       "    </tr>\n",
       "    <tr>\n",
       "      <th>61</th>\n",
       "      <td>17</td>\n",
       "      <td>16</td>\n",
       "      <td>13</td>\n",
       "      <td>3.421655</td>\n",
       "      <td>4.030928</td>\n",
       "      <td>(1.3499828364950315+0j)</td>\n",
       "      <td>95.0</td>\n",
       "    </tr>\n",
       "    <tr>\n",
       "      <th>62</th>\n",
       "      <td>18</td>\n",
       "      <td>17</td>\n",
       "      <td>14</td>\n",
       "      <td>3.419012</td>\n",
       "      <td>3.421655</td>\n",
       "      <td>(1.3499828364950315+0j)</td>\n",
       "      <td>95.0</td>\n",
       "    </tr>\n",
       "    <tr>\n",
       "      <th>63</th>\n",
       "      <td>19</td>\n",
       "      <td>18</td>\n",
       "      <td>15</td>\n",
       "      <td>3.590696</td>\n",
       "      <td>3.419012</td>\n",
       "      <td>(1.3499828364950315+0j)</td>\n",
       "      <td>95.0</td>\n",
       "    </tr>\n",
       "    <tr>\n",
       "      <th>64</th>\n",
       "      <td>20</td>\n",
       "      <td>19</td>\n",
       "      <td>16</td>\n",
       "      <td>3.472605</td>\n",
       "      <td>3.590696</td>\n",
       "      <td>(1.3499828364950315+0j)</td>\n",
       "      <td>95.0</td>\n",
       "    </tr>\n",
       "    <tr>\n",
       "      <th>65</th>\n",
       "      <td>21</td>\n",
       "      <td>20</td>\n",
       "      <td>17</td>\n",
       "      <td>3.674600</td>\n",
       "      <td>3.472605</td>\n",
       "      <td>(1.3499828364950315+0j)</td>\n",
       "      <td>95.0</td>\n",
       "    </tr>\n",
       "    <tr>\n",
       "      <th>66</th>\n",
       "      <td>22</td>\n",
       "      <td>21</td>\n",
       "      <td>18</td>\n",
       "      <td>3.587729</td>\n",
       "      <td>3.674600</td>\n",
       "      <td>(1.3499828364950315+0j)</td>\n",
       "      <td>95.0</td>\n",
       "    </tr>\n",
       "    <tr>\n",
       "      <th>67</th>\n",
       "      <td>23</td>\n",
       "      <td>22</td>\n",
       "      <td>19</td>\n",
       "      <td>3.542784</td>\n",
       "      <td>3.587729</td>\n",
       "      <td>(1.3499828364950315+0j)</td>\n",
       "      <td>95.0</td>\n",
       "    </tr>\n",
       "    <tr>\n",
       "      <th>68</th>\n",
       "      <td>-99</td>\n",
       "      <td>23</td>\n",
       "      <td>20</td>\n",
       "      <td>3.574876</td>\n",
       "      <td>3.542784</td>\n",
       "      <td>(1.3499828364950315+0j)</td>\n",
       "      <td>95.0</td>\n",
       "    </tr>\n",
       "    <tr>\n",
       "      <th>69</th>\n",
       "      <td>-99</td>\n",
       "      <td>-99</td>\n",
       "      <td>21</td>\n",
       "      <td>3.540213</td>\n",
       "      <td>3.574876</td>\n",
       "      <td>(1.3499828364950315+0j)</td>\n",
       "      <td>95.0</td>\n",
       "    </tr>\n",
       "    <tr>\n",
       "      <th>70</th>\n",
       "      <td>-99</td>\n",
       "      <td>-99</td>\n",
       "      <td>22</td>\n",
       "      <td>3.352330</td>\n",
       "      <td>3.540213</td>\n",
       "      <td>(1.3499828364950315+0j)</td>\n",
       "      <td>95.0</td>\n",
       "    </tr>\n",
       "    <tr>\n",
       "      <th>71</th>\n",
       "      <td>-99</td>\n",
       "      <td>-99</td>\n",
       "      <td>23</td>\n",
       "      <td>3.576379</td>\n",
       "      <td>3.352330</td>\n",
       "      <td>(1.3499828364950315+0j)</td>\n",
       "      <td>95.0</td>\n",
       "    </tr>\n",
       "  </tbody>\n",
       "</table>\n",
       "<p>72 rows × 7 columns</p>\n",
       "</div>"
      ],
      "text/plain": [
       "    bin_hi  bin_lo  bin_true  cscat_hi_ratio  cscat_lo_ratio  \\\n",
       "0        1       0         0        1.000000        1.000000   \n",
       "1        2       1         1        1.000000        1.000000   \n",
       "2        3       2         2        1.000000        1.000000   \n",
       "3        4       3         3        1.000000        1.000000   \n",
       "4        5       4         4        1.000000        1.000000   \n",
       "5        6       5         5        1.000000        1.000000   \n",
       "6        7       6         6        1.000000        1.000000   \n",
       "7        8       7         7        1.000000        1.000000   \n",
       "8        9       8         8        1.000000        1.000000   \n",
       "9       10       9         9        1.000000        1.000000   \n",
       "10      11      10        10        1.000000        1.000000   \n",
       "11      12      11        11        1.000000        1.000000   \n",
       "12      13      12        12        1.000000        1.000000   \n",
       "13      14      13        13        1.000000        1.000000   \n",
       "14      15      14        14        1.000000        1.000000   \n",
       "15      16      15        15        1.000000        1.000000   \n",
       "16      17      16        16        1.000000        1.000000   \n",
       "17      18      17        17        1.000000        1.000000   \n",
       "18      19      18        18        1.000000        1.000000   \n",
       "19      20      19        19        1.000000        1.000000   \n",
       "20      21      20        20        1.000000        1.000000   \n",
       "21      22      21        21        1.000000        1.000000   \n",
       "22      23      22        22        1.000000        1.000000   \n",
       "23     -99      23        23        1.000000        1.000000   \n",
       "24       1       0         0        1.312445        1.341463   \n",
       "25       2       1         1        1.190388        1.312445   \n",
       "26       3       2         2        1.092271        1.190388   \n",
       "27       4       3         3        1.059064        1.092271   \n",
       "28       5       4         4        1.061993        1.059064   \n",
       "29       6       5         5        1.006953        1.061993   \n",
       "..     ...     ...       ...             ...             ...   \n",
       "42      19      18        18        1.140724        1.142485   \n",
       "43      20      19        19        1.134138        1.140724   \n",
       "44      21      20        20        1.106745        1.134138   \n",
       "45      22      21        21        1.114665        1.106745   \n",
       "46      23      22        22        1.100155        1.114665   \n",
       "47     -99      23        23        1.122860        1.100155   \n",
       "48       3       2         0        9.154365       16.614693   \n",
       "49       4       3         1        4.143139        9.154365   \n",
       "50       5       4         2        2.678093        4.143139   \n",
       "51       7       5         3        2.376691        2.678093   \n",
       "52       9       7         4        3.120545        2.376691   \n",
       "53       9       9         5        3.206905        3.120545   \n",
       "54      10       9         6        3.207352        3.206905   \n",
       "55      11      10         7        2.351012        3.207352   \n",
       "56      11      11         8        3.357221        2.351012   \n",
       "57      13      11         9        3.205498        3.357221   \n",
       "58      14      13        10        3.704630        3.205498   \n",
       "59      15      14        11        3.258512        3.704630   \n",
       "60      16      15        12        4.030928        3.258512   \n",
       "61      17      16        13        3.421655        4.030928   \n",
       "62      18      17        14        3.419012        3.421655   \n",
       "63      19      18        15        3.590696        3.419012   \n",
       "64      20      19        16        3.472605        3.590696   \n",
       "65      21      20        17        3.674600        3.472605   \n",
       "66      22      21        18        3.587729        3.674600   \n",
       "67      23      22        19        3.542784        3.587729   \n",
       "68     -99      23        20        3.574876        3.542784   \n",
       "69     -99     -99        21        3.540213        3.574876   \n",
       "70     -99     -99        22        3.352330        3.540213   \n",
       "71     -99     -99        23        3.576379        3.352330   \n",
       "\n",
       "                   refr_eff    rh  \n",
       "0                (1.521+0j)   0.0  \n",
       "1                (1.521+0j)   0.0  \n",
       "2                (1.521+0j)   0.0  \n",
       "3                (1.521+0j)   0.0  \n",
       "4                (1.521+0j)   0.0  \n",
       "5                (1.521+0j)   0.0  \n",
       "6                (1.521+0j)   0.0  \n",
       "7                (1.521+0j)   0.0  \n",
       "8                (1.521+0j)   0.0  \n",
       "9                (1.521+0j)   0.0  \n",
       "10               (1.521+0j)   0.0  \n",
       "11               (1.521+0j)   0.0  \n",
       "12               (1.521+0j)   0.0  \n",
       "13               (1.521+0j)   0.0  \n",
       "14               (1.521+0j)   0.0  \n",
       "15               (1.521+0j)   0.0  \n",
       "16               (1.521+0j)   0.0  \n",
       "17               (1.521+0j)   0.0  \n",
       "18               (1.521+0j)   0.0  \n",
       "19               (1.521+0j)   0.0  \n",
       "20               (1.521+0j)   0.0  \n",
       "21               (1.521+0j)   0.0  \n",
       "22               (1.521+0j)   0.0  \n",
       "23               (1.521+0j)   0.0  \n",
       "24  (1.4792597247157389+0j)  35.0  \n",
       "25  (1.4792597247157389+0j)  35.0  \n",
       "26   (1.479259724715739+0j)  35.0  \n",
       "27   (1.479259724715739+0j)  35.0  \n",
       "28  (1.4792597247157389+0j)  35.0  \n",
       "29   (1.479259724715739+0j)  35.0  \n",
       "..                      ...   ...  \n",
       "42  (1.4792597247157389+0j)  35.0  \n",
       "43   (1.479259724715739+0j)  35.0  \n",
       "44   (1.479259724715739+0j)  35.0  \n",
       "45   (1.479259724715739+0j)  35.0  \n",
       "46  (1.4792597247157389+0j)  35.0  \n",
       "47   (1.479259724715739+0j)  35.0  \n",
       "48  (1.3499828364950315+0j)  95.0  \n",
       "49  (1.3499828364950315+0j)  95.0  \n",
       "50  (1.3499828364950315+0j)  95.0  \n",
       "51  (1.3499828364950315+0j)  95.0  \n",
       "52  (1.3499828364950315+0j)  95.0  \n",
       "53  (1.3499828364950315+0j)  95.0  \n",
       "54  (1.3499828364950315+0j)  95.0  \n",
       "55  (1.3499828364950315+0j)  95.0  \n",
       "56  (1.3499828364950315+0j)  95.0  \n",
       "57  (1.3499828364950315+0j)  95.0  \n",
       "58  (1.3499828364950315+0j)  95.0  \n",
       "59  (1.3499828364950315+0j)  95.0  \n",
       "60  (1.3499828364950315+0j)  95.0  \n",
       "61  (1.3499828364950315+0j)  95.0  \n",
       "62  (1.3499828364950315+0j)  95.0  \n",
       "63  (1.3499828364950315+0j)  95.0  \n",
       "64  (1.3499828364950315+0j)  95.0  \n",
       "65  (1.3499828364950315+0j)  95.0  \n",
       "66  (1.3499828364950315+0j)  95.0  \n",
       "67  (1.3499828364950315+0j)  95.0  \n",
       "68  (1.3499828364950315+0j)  95.0  \n",
       "69  (1.3499828364950315+0j)  95.0  \n",
       "70  (1.3499828364950315+0j)  95.0  \n",
       "71  (1.3499828364950315+0j)  95.0  \n",
       "\n",
       "[72 rows x 7 columns]"
      ]
     },
     "execution_count": 24,
     "metadata": {},
     "output_type": "execute_result"
    }
   ],
   "source": [
    "rv = opcsim.metrics.compute_bin_assessment(opc, refr=complex(1.521, 0), kappa=0.53)\n",
    "\n",
    "rv"
   ]
  },
  {
   "cell_type": "markdown",
   "metadata": {},
   "source": [
    "Above, we see that when RH is low and their is little growth or change in refractive index, we mostly do a great job of assigning particles to the correct bin. However, when the RH increases substantially and significant watre uptake occurs, the combination of massive growth in the actual particle size, along with the substantial change in refractive index, leads to massive oversizing which will have large effects when converting from number distribution to volume and/or mass distribution."
   ]
  },
  {
   "cell_type": "code",
   "execution_count": null,
   "metadata": {},
   "outputs": [],
   "source": []
  }
 ],
 "metadata": {
  "kernelspec": {
   "display_name": "Python 3",
   "language": "python",
   "name": "python3"
  },
  "language_info": {
   "codemirror_mode": {
    "name": "ipython",
    "version": 3
   },
   "file_extension": ".py",
   "mimetype": "text/x-python",
   "name": "python",
   "nbconvert_exporter": "python",
   "pygments_lexer": "ipython3",
   "version": "3.6.5"
  }
 },
 "nbformat": 4,
 "nbformat_minor": 2
}
