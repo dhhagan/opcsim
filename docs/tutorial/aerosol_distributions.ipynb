{
 "cells": [
  {
   "cell_type": "raw",
   "metadata": {},
   "source": [
    ".. _distribution_tutorial:\n"
   ]
  },
  {
   "cell_type": "markdown",
   "metadata": {},
   "source": [
    "# The Aerosol Distribution Tutorial\n",
    "\n",
    "The following tutorial will show you how an aerosol distribution is represented in the opcsim model. You will learn how to use the sample datasets and how to create your own distribution from scratch. Additional visualization tools are also discussed.\n",
    "\n",
    "First, we import the python libraries we need and set the styles used for plotting throughout this tutorial."
   ]
  },
  {
   "cell_type": "code",
   "execution_count": null,
   "metadata": {},
   "outputs": [],
   "source": [
    "# Make imports\n",
    "import opcsim\n",
    "import numpy as np\n",
    "import matplotlib.pyplot as plt\n",
    "import seaborn as sns\n",
    "\n",
    "%matplotlib inline\n",
    "\n",
    "# Set mathtext to display equations without italics\n",
    "plt.rcParams.update({'mathtext.default': 'regular'})\n",
    "\n",
    "# turn off warnings temporarily\n",
    "import warnings\n",
    "warnings.simplefilter('ignore')\n",
    "\n",
    "# Let's set some default seaborn settings\n",
    "sns.set(context='notebook', style='ticks', palette='dark',\n",
    "        font_scale=1.75, rc={'figure.figsize': (10, 5)})"
   ]
  },
  {
   "cell_type": "markdown",
   "metadata": {},
   "source": [
    "# The Aerosol Distribution\n",
    "\n",
    "For the purpose of evaluating the performance of low-cost optical particle counters, we are going to assume that every aerosol distribution can be described as the sum of $n$ lognormal distributions (S+P 8.54). Thus, it follows that:\n",
    "\n",
    "$$n_N^o(logD_p)=\\sum_{i=1}^n \\frac{N_i}{\\sqrt{2\\pi} * log\\sigma_i}exp\\Big(-\\frac{(logD_p - logD_{pi})^2}{2log^2\\sigma_i}\\Big)$$\n",
    "\n",
    "where $N_i$ is the number concentration, $D_{pi}$ is the median particle diameter (Geometric Mean), and $\\sigma_i$ is the standard deviation. Thus, we need $3n$ parameters to describe a entire aerosol distribution.\n",
    "\n",
    "Using the `opcsim.AerosolDistribution` class, we can build our own distributions by defining each aerosol mode as its own lognormal mode. \n",
    "\n",
    "Ex: Initialize an Aerosol Distribution with a single mode ($N=1000$, $D_{pg}=100\\;nm$, $\\sigma=1.5$)"
   ]
  },
  {
   "cell_type": "code",
   "execution_count": null,
   "metadata": {},
   "outputs": [],
   "source": [
    "# Initialize a distribution\n",
    "sample = opcsim.AerosolDistribution()\n",
    "\n",
    "# Add a mode with N=1000, GM=0.1, GSD=1.5\n",
    "sample.add_mode(n=1000, gm=0.1, gsd=1.5, label=\"Mode I\")"
   ]
  },
  {
   "cell_type": "markdown",
   "metadata": {},
   "source": [
    "Most aerosol distributions are composed of several lognormal modes. Table 8.3 in Seinfeld and Pandis (originally from Jaenicke (1993)) shows parameters for several model aerosol distributions. The urban aerosol distribution can be described as follows:\n",
    "\n",
    "|Mode|$N$|$D_{pg}$|$log\\sigma_i$|\n",
    "|:--:|:-:|:------:|:--------:|\n",
    "|I| 7100 | 0.0117 | 0.232 |\n",
    "|II| 6320 | 0.0373 | 0.250 |\n",
    "|III| 960 | 0.151 | 0.204 |\n",
    "\n",
    "\n",
    "\n",
    "How would we go about building this distribution? We can add as many modes as we would like, following the same method we used above. Also, if you look at the API documentation for the `opcsim.AerosolDistribution` class, we see that you can add a label for the distribution as an argument upon initiation of the class instance."
   ]
  },
  {
   "cell_type": "code",
   "execution_count": null,
   "metadata": {},
   "outputs": [],
   "source": [
    "# Initiate a new aerosol distribution which is names 'Urban'\n",
    "urban = opcsim.AerosolDistribution(\"Urban\")\n",
    "\n",
    "# Individually add each mode\n",
    "urban.add_mode(7100, 0.0117, 10**0.232, \"Mode I\")\n",
    "urban.add_mode(6320, 0.0373, 10**0.25, \"Mode II\")\n",
    "urban.add_mode(960, 0.151, 10**0.204, \"Mode III\")"
   ]
  },
  {
   "cell_type": "markdown",
   "metadata": {},
   "source": [
    "To make things even easier, we have included the model distributions directly into the package which can be accessed via the `opcsim.load_distribution` function. To import the distribution, simply call `opcsim.load_distribution` and provide the name of the distribution you would like to use as an argument. Options include: \n",
    "\n",
    "  * Urban\n",
    "  * Marine\n",
    "  * Rural\n",
    "  * Remote Continental\n",
    "  * Free Troposphere\n",
    "  * Polar\n",
    "  * Desert\n",
    "  \n",
    "To read in the urban distribution, we would do the following:"
   ]
  },
  {
   "cell_type": "code",
   "execution_count": null,
   "metadata": {},
   "outputs": [],
   "source": [
    "urban = opcsim.load_distribution(\"Urban\")"
   ]
  },
  {
   "cell_type": "markdown",
   "metadata": {},
   "source": [
    "## Incorporating Optical and Chemical Properties of Aerosols\n",
    "\n",
    "This library was created for evaluating particle sensors' response to aerosol distributions. Thus, it is extremely important to consider the effects of aerosol optical properties as well. In addition to the size parameters described above, each mode has a few additional properties you can set:\n",
    "\n",
    "  * **kappa**: the $\\kappa$-kohler coefficient for describing water uptake\n",
    "  * **rho**: the particle density, $\\rho$\n",
    "  * **refr**: the complex refractive index, $n$\n",
    "  \n",
    "Each of these is set at the individual mode level and has defaults of $\\kappa=0$, $\\rho=1$, and $RI=1.5+0i$.\n",
    "\n",
    "Thus, if we wanted to create a distribution with a single mode of Ammonium Sulfate:"
   ]
  },
  {
   "cell_type": "code",
   "execution_count": null,
   "metadata": {},
   "outputs": [],
   "source": [
    "amm_sulf = opcsim.AerosolDistribution(\"Ammonium Sulfate\")\n",
    "\n",
    "# add a single mode of ammonium sulfate\n",
    "amm_sulf.add_mode(n=1000, gm=0.08, gsd=1.5, label=\"mode_1\", \n",
    "            refr=(1.521+0j), rho=1.77, kappa=0.53)\n",
    "\n",
    "amm_sulf"
   ]
  },
  {
   "cell_type": "markdown",
   "metadata": {},
   "source": [
    "If you wanted, you could also add multiple modes with different optical properties. In addition, there are a few helper functions, found in the utilities, that make it simple to make homogeneous aerosol mixtures. At this point in time, the library does not support heterogeneous mixtures or core-shell models, though it may in the future if their is demand."
   ]
  },
  {
   "cell_type": "markdown",
   "metadata": {},
   "source": [
    "# Probability Distribution Function\n",
    "\n",
    "## Number Distribution\n",
    "\n",
    "Aerosol distributions are typically depicted using the probabliity distribution function (PDF). In Seinfeld and Pandis, they refer to it as the **Number Distribution Function**. When plotted in log-space (i.e. $dN/dlogD_p$), the area under the curve is the aerosol number concentration. \n",
    "\n",
    "Mathematically, the PDF in number-space looks like the following:\n",
    "\n",
    "$$n_N^o(logD_p)=\\frac{dN}{dlogD_p}=\\frac{N_t}{\\sqrt{2\\pi} \\; log\\sigma_g}exp\\Big(-\\frac{(logD_p - logD_{pg})^2}{2log^2\\sigma_g}\\Big)$$\n",
    "\n",
    "All three representations of the number distribution are available:\n",
    "\n",
    "  * $dN/dD_p$: `opcsim.equations.pdf.dn_ddp`\n",
    "  * $dN/dlnD_p$: `opcsim.equations.pdf.dn_dlndp`\n",
    "  * $dN/dlogD_p$: `opcsim.equations.pdf.dn_dlogdp`\n",
    "\n",
    "While mathematically, representing the aerosol distribution in any base {log, log10, none} is equivilant, visually it is not. For this reason, when plotting, we use the log10-base so that the area under the curve represents the total aerosol number concentration. For example, if we were to plot all three bases on the same plot for the Urban distribution, we would get:\n"
   ]
  },
  {
   "cell_type": "code",
   "execution_count": null,
   "metadata": {},
   "outputs": [],
   "source": [
    "sample = opcsim.AerosolDistribution(\"Sample\")\n",
    "sample.add_mode(1000, 0.8, 2)\n",
    "\n",
    "fig, ax = plt.subplots(1, figsize=(10, 6))\n",
    "\n",
    "ax = opcsim.plots.pdfplot(sample, ax=ax, weight='number', base='none', label='$n_N(D_p)$')\n",
    "ax = opcsim.plots.pdfplot(sample, ax=ax, weight='number', base='log', label='$n_N^e(lnD_p)$')\n",
    "ax = opcsim.plots.pdfplot(sample, ax=ax, weight='number', base='log10', label='$n_N^0(logD_p)$')\n",
    "\n",
    "ax.legend(loc='upper left')\n",
    "ax.set_ylim(0, None)\n",
    "ax.set_xlim(0.01, 10)\n",
    "sns.despine()"
   ]
  },
  {
   "cell_type": "markdown",
   "metadata": {},
   "source": [
    "## Surface Area Distribution\n",
    "\n",
    "It is also quite useful to look at the surface area and volume distributions. The surface area probability distribution can easily be obtained by relating to the number probability distribution in the following way:\n",
    "\n",
    "$$n_S^o(logD_p)=\\pi D_p^2 n_N^o(logD_p)=\\frac{dS}{dlogD_p}=\\frac{\\pi D_p^2 N_t}{\\sqrt{2\\pi} \\; log\\sigma_g}exp\\Big(-\\frac{(logD_p - logD_{pg})^2}{2log^2\\sigma_g}\\Big)$$\n",
    "\n",
    "All three representations of the surface area distribution are available:\n",
    "\n",
    "  * $dS/dD_p$: `opcsim.equations.pdf.ds_ddp`\n",
    "  * $dS/dlnD_p$: `opcsim.equations.pdf.ds_dlndp`\n",
    "  * $dS/dlogD_p$: `opcsim.equations.pdf.ds_dlogdp`"
   ]
  },
  {
   "cell_type": "markdown",
   "metadata": {},
   "source": [
    "## Volume Distribution\n",
    "\n",
    "Likewise, for the volume distribution, we get:\n",
    "\n",
    "$$n_V^o(logD_p)=\\frac{\\pi}{6} D_p^3 n_N^o(logD_p)=\\frac{dV}{dlogD_p}=\\frac{\\pi D_p^3 N_t}{6\\sqrt{2\\pi} \\; log\\sigma_g}exp\\Big(-\\frac{(logD_p - logD_{pg})^2}{2log^2\\sigma_g}\\Big)$$\n",
    "\n",
    "All three representations of the volume distribution are available:\n",
    "\n",
    "  * $dV/dD_p$: `opcsim.equations.pdf.dv_ddp`\n",
    "  * $dV/dlnD_p$: `opcsim.equations.pdf.dv_dlndp`\n",
    "  * $dV/dlogD_p$: `opcsim.equations.pdf.dv_dlogdp`\n",
    "  \n",
    "\n",
    "### Evaluating the PDF\n",
    "`opcsim` provides the `AerosolDistribution.pdf` method to easily calculate the distribution at any particle diameter. The arguments of the function are the particle diameter (`dp`), the base (`none`, `log`, or `log10`), the weight (`number`, `surface`, `volume`, or `mass`), and an optional `mode` parameter in case you would like to examine only one of the modes of the distribution at a time. The default arguments are set to be the most useful/common ones (i.e. `weight='number'`, `base='log10'`). If calculating the mass-weighted PDF, you can also provide an optional keyword argument `rho`; the default value for particle density is $1\\;gcm^{-3}$.\n",
    "\n",
    "To calculate the number probability for the urban aerosol distribution at $0.1 \\; \\mu m$, we can do the following:"
   ]
  },
  {
   "cell_type": "code",
   "execution_count": null,
   "metadata": {},
   "outputs": [],
   "source": [
    "urban.pdf(0.1)"
   ]
  },
  {
   "cell_type": "markdown",
   "metadata": {},
   "source": [
    "This gives us the number concentration probability at 1 micron in units of $particles\\;cm^{-3}$. We can also calculate a whole range of values by providing an array for the `dp` value:"
   ]
  },
  {
   "cell_type": "code",
   "execution_count": null,
   "metadata": {},
   "outputs": [],
   "source": [
    "urban.pdf(np.array([0.1, 0.2, 0.3]))"
   ]
  },
  {
   "cell_type": "markdown",
   "metadata": {},
   "source": [
    "To calculate the volume-weighted PDF at some particle diameter ($dV/dlogD_p$), we could do the following:"
   ]
  },
  {
   "cell_type": "code",
   "execution_count": null,
   "metadata": {},
   "outputs": [],
   "source": [
    "urban.pdf(0.1, weight='volume')"
   ]
  },
  {
   "cell_type": "markdown",
   "metadata": {},
   "source": [
    "This returns $dV/dlogDp$ at particle diameter $D_p=0.1\\;\\mu m$ in units of $\\mu m^3 cm^{-3}$."
   ]
  },
  {
   "cell_type": "markdown",
   "metadata": {},
   "source": [
    "# Visualizing the Distribution\n",
    "\n",
    "Visualizing the PDF for an aerosol distribution is extremely helpful. The function `opcsim.plots.pdfplot` has been included to make this simple.\n",
    "\n",
    "To plot the pdf of an aerosol distribution, the only required input is the `opcsim.AerosolDistribution` object. The function returns a matplotlib axis object which makes it extremely easy to add to modify the plot using normal matplotlib syntax.\n",
    "\n",
    "Let's plot the urban distribution we built earlier."
   ]
  },
  {
   "cell_type": "code",
   "execution_count": null,
   "metadata": {},
   "outputs": [],
   "source": [
    "ax = opcsim.plots.pdfplot(urban)\n",
    "\n",
    "# Set the y-lim to start at 0\n",
    "ax.set_ylim(0, None)\n",
    "\n",
    "# Remove the right and top spines\n",
    "sns.despine();"
   ]
  },
  {
   "cell_type": "markdown",
   "metadata": {},
   "source": [
    "## kwargs for the PDF Plot\n",
    "\n",
    "We can also send a number of kwargs to the PDF plot to change its appearance. We can add `plot_kws` to the matplotlib plot call (things like linewidth, color, etc). We can add `fig_kws` which are sent when creating the figure (think figsize, etc). We can set `fill_kws` that are sent to the matplotlib fill_between call if and only if `fill=True`."
   ]
  },
  {
   "cell_type": "code",
   "execution_count": null,
   "metadata": {},
   "outputs": [],
   "source": [
    "ax = opcsim.plots.pdfplot(urban, fill=True, fill_kws=dict(alpha=.3), plot_kws=dict(linewidth=1))\n",
    "\n",
    "# Set the y-lim to start at 0\n",
    "ax.set_ylim(0, None)\n",
    "\n",
    "# Remove the right and top spines\n",
    "sns.despine();"
   ]
  },
  {
   "cell_type": "markdown",
   "metadata": {},
   "source": [
    "We can also go ahead and plot each individual mode along with the entire distribution using the `with_modes` argument:"
   ]
  },
  {
   "cell_type": "code",
   "execution_count": null,
   "metadata": {},
   "outputs": [],
   "source": [
    "ax = opcsim.plots.pdfplot(urban, with_modes=True)\n",
    "\n",
    "ax.legend(loc='best')\n",
    "\n",
    "# Set the y-lim to start at 0\n",
    "ax.set_ylim(0, None)\n",
    "\n",
    "# Remove the right and top spines\n",
    "sns.despine();"
   ]
  },
  {
   "cell_type": "markdown",
   "metadata": {},
   "source": [
    "Still staying in number space, we can go ahead and plot all of the available sample distributions to get a feel for just how different they are!"
   ]
  },
  {
   "cell_type": "code",
   "execution_count": null,
   "metadata": {},
   "outputs": [],
   "source": [
    "fig, ax = plt.subplots(1, figsize=(12,6))\n",
    "\n",
    "# Iterate over every sample in the library\n",
    "for i, sample in enumerate(opcsim.distributions.DISTRIBUTION_DATA.keys()):\n",
    "    # Load the sample dataset\n",
    "    _sample = opcsim.load_distribution(sample)\n",
    "    \n",
    "    # if we've used more colors than we have available in this palette, change the linestyle\n",
    "    ls = '-' if i < 6 else '--'\n",
    "    \n",
    "    opcsim.plots.pdfplot(_sample, ax=ax, plot_kws={'linestyle': ls}, dp=np.logspace(-4, 0, 1000))\n",
    "    \n",
    "# Add a legend\n",
    "ax.legend(loc='upper left')\n",
    "\n",
    "# Set the y-lim\n",
    "ax.set_ylim(0, None)\n",
    "\n",
    "# remove the spine\n",
    "sns.despine()"
   ]
  },
  {
   "cell_type": "markdown",
   "metadata": {},
   "source": [
    "Finally, we can also go ahead and look at one distribution in number, surface area, and volume weighted views:"
   ]
  },
  {
   "cell_type": "code",
   "execution_count": null,
   "metadata": {},
   "outputs": [],
   "source": [
    "fig, ax = plt.subplots(3, figsize=(10,9), sharex=True)\n",
    "\n",
    "opcsim.plots.pdfplot(urban, weight='number', ax=ax[0])\n",
    "opcsim.plots.pdfplot(urban, weight='surface', ax=ax[1])\n",
    "opcsim.plots.pdfplot(urban, weight='volume', ax=ax[2])\n",
    "\n",
    "fig.subplots_adjust(hspace=0)\n",
    "\n",
    "ax[0].set_ylabel(\"Number\")\n",
    "ax[1].set_ylabel(\"Surface Area\")\n",
    "ax[2].set_ylabel(\"Volume\")\n",
    "\n",
    "sns.despine()\n",
    "\n",
    "plt.tight_layout(h_pad=0)\n",
    "plt.show()"
   ]
  },
  {
   "cell_type": "markdown",
   "metadata": {},
   "source": [
    "## Visualizing the Effects of Relative Humidity on Particle Growth\n",
    "\n",
    "If we define a distribution that has a non-zero kappa value, we can visualize changes in particle size due to water uptake as follows:"
   ]
  },
  {
   "cell_type": "code",
   "execution_count": null,
   "metadata": {},
   "outputs": [],
   "source": [
    "amm_sulf = opcsim.AerosolDistribution(\"Ammonium Sulfate\")\n",
    "\n",
    "# add a single mode of ammonium sulfate\n",
    "amm_sulf.add_mode(n=1000, gm=0.08, gsd=1.5, label=\"mode_1\", \n",
    "            refr=complex(1.521, 0), rho=1.77, kappa=0.53)\n",
    "\n",
    "# set up a range of rh's to evaluate and plot\n",
    "rh = np.linspace(5, 95, 10)\n",
    "\n",
    "# define a color palette with the right number of colors\n",
    "cpal = sns.color_palette(\"GnBu_d\", len(rh))\n",
    "\n",
    "# set up a figure\n",
    "fig, ax = plt.subplots(1, figsize=(8, 6))\n",
    "\n",
    "# iterate over each rh and plot\n",
    "for i, each in enumerate(rh):\n",
    "    ax = opcsim.plots.pdfplot(amm_sulf, rh=each, plot_kws=dict(color=cpal[i]),\n",
    "                              ax=ax, weight='volume', label=\"RH={:.0f}%\".format(each))\n",
    "\n",
    "# tidy up\n",
    "ax.set_ylim(0, None)\n",
    "ax.legend(bbox_to_anchor=(1.01, 1))\n",
    "sns.despine()"
   ]
  },
  {
   "cell_type": "markdown",
   "metadata": {},
   "source": [
    "# Cumulative Distribution Function\n",
    "\n",
    "We can easily obtain the integrated value for number of particles, total surface area, total volume, or total mass by integrating the correct CDF. \n",
    "\n",
    "## Number CDF\n",
    "\n",
    "The total number of particles between two particle diameters can be found by completing the following integration\n",
    "\n",
    "$$N_t=\\int_{D_{min}}^{D_{max}}n_N(D_p)dD_p$$\n",
    "\n",
    "## Surface Area CDF\n",
    "\n",
    "We can find the total particle surface area between two diameters using the following integral:\n",
    "\n",
    "$$S_t=\\pi \\int_{D_{min}}^{D_{max}}D_p^2 n_N(D_p)dD_p$$\n",
    "\n",
    "## Volume CDF\n",
    "\n",
    "We can find the total particle volume between two diameters using the following integral:\n",
    "\n",
    "$$V_t=\\frac{\\pi}{6} \\int_{D_{min}}^{D_{max}}D_p^3 n_N(D_p)dD_p$$\n",
    "\n",
    "\n",
    "To evaluate the CDF, we use the `opcsim.AerosolDistribution.cdf` method. For example, to evaluate the number of particles with diameter less than $D_p=2.5\\;\\mu m$, we do the following:"
   ]
  },
  {
   "cell_type": "code",
   "execution_count": null,
   "metadata": {},
   "outputs": [],
   "source": [
    "urban.cdf(dmax=2.5)"
   ]
  },
  {
   "cell_type": "markdown",
   "metadata": {},
   "source": [
    "If we want to calculate the total number of particles within some size range, we can add the `dmin` argument. For example, let's find the total number of particles between 1 and 2.5 microns:"
   ]
  },
  {
   "cell_type": "code",
   "execution_count": null,
   "metadata": {},
   "outputs": [],
   "source": [
    "urban.cdf(dmin=1, dmax=2.5)"
   ]
  },
  {
   "cell_type": "markdown",
   "metadata": {},
   "source": [
    "What about the total mass of particles less than $D_p=1 \\; \\mu m$? (i.e. $PM_1$)"
   ]
  },
  {
   "cell_type": "code",
   "execution_count": null,
   "metadata": {},
   "outputs": [],
   "source": [
    "urban.cdf(dmax=1, weight='volume')"
   ]
  },
  {
   "cell_type": "markdown",
   "metadata": {},
   "source": [
    "Last, how about the total mass of particles in the Urban distribution if we set the particle density $\\rho=1.65\\;gcm^{-3}$:"
   ]
  },
  {
   "cell_type": "code",
   "execution_count": null,
   "metadata": {},
   "outputs": [],
   "source": [
    "urban.cdf(dmax=10, weight='mass', rho=1.65)"
   ]
  },
  {
   "cell_type": "markdown",
   "metadata": {},
   "source": [
    "Although we wouldn't normally plot the CDF, we easily can to visualize where most of the [number, surface area, mass] is within the distribution using the `opcsim.plots.cdfplot` function:"
   ]
  },
  {
   "cell_type": "code",
   "execution_count": null,
   "metadata": {},
   "outputs": [],
   "source": [
    "ax = opcsim.plots.cdfplot(urban)\n",
    "\n",
    "ax.set_ylim(0, None)\n",
    "sns.despine()"
   ]
  },
  {
   "cell_type": "markdown",
   "metadata": {},
   "source": [
    "Lastly, we can plot the total volume CDF to get an idea of where the mass is distributed:"
   ]
  },
  {
   "cell_type": "code",
   "execution_count": null,
   "metadata": {},
   "outputs": [],
   "source": [
    "ax = opcsim.plots.cdfplot(urban, weight='mass', rho=1.65)\n",
    "\n",
    "ax.set_ylim(0, None)\n",
    "sns.despine()"
   ]
  },
  {
   "cell_type": "code",
   "execution_count": null,
   "metadata": {},
   "outputs": [],
   "source": []
  }
 ],
 "metadata": {
  "kernelspec": {
   "display_name": "Python 3",
   "language": "python",
   "name": "python3"
  },
  "language_info": {
   "codemirror_mode": {
    "name": "ipython",
    "version": 3
   },
   "file_extension": ".py",
   "mimetype": "text/x-python",
   "name": "python",
   "nbconvert_exporter": "python",
   "pygments_lexer": "ipython3",
   "version": "3.6.5"
  }
 },
 "nbformat": 4,
 "nbformat_minor": 4
}
