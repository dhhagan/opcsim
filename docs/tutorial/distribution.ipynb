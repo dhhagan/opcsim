{
 "cells": [
  {
   "cell_type": "raw",
   "metadata": {
    "deletable": true,
    "editable": true
   },
   "source": [
    ".. _distribution_tutorial:\n"
   ]
  },
  {
   "cell_type": "markdown",
   "metadata": {},
   "source": [
    "The following tutorial will show you how an aerosol distribution is represented in the opcsim software. You will learn how to import sample datasets and how to create your own distribution from scratch. Additional visualization tools are also discussed.\n",
    "\n",
    "First, we import the python libraries we need and set the styles used for plotting throughout this tutorial."
   ]
  },
  {
   "cell_type": "code",
   "execution_count": null,
   "metadata": {
    "collapsed": true
   },
   "outputs": [],
   "source": [
    "# Make imports\n",
    "import opcsim\n",
    "import numpy as np\n",
    "import matplotlib.pyplot as plt\n",
    "import seaborn as sns\n",
    "\n",
    "%matplotlib inline\n",
    "\n",
    "# turn off warnings temporarily\n",
    "import warnings\n",
    "warnings.simplefilter('ignore')\n",
    "\n",
    "# Let's set some default seaborn settings\n",
    "sns.set(context='notebook', style='ticks', palette='dark', font_scale=1.75, rc={'figure.figsize': (10,5)})"
   ]
  },
  {
   "cell_type": "markdown",
   "metadata": {
    "deletable": true,
    "editable": true
   },
   "source": [
    "# The Aerosol Distribution\n",
    "\n",
    "For the purpose of evaluating the performance of low-cost optical particle counters, we are going to assume that every aerosol distribution can be described as the sum of $n$ lognormal distributions (S+P 8.54). Thus, it follows that:\n",
    "\n",
    "$$n_N^o(logD_p)=\\sum_{i=1}^n \\frac{N_i}{\\sqrt{2\\pi} * log\\sigma_i}exp\\Big(-\\frac{(logD_p - logD_{pi})^2}{2log^2\\sigma_i}\\Big)$$\n",
    "\n",
    "where $N_i$ is the number concentration, $D_{pi}$ is the median particle diameter, and $\\sigma$ is the standard deviation. Thus, we need $3n$ parameters to describe a complete aerosol distribution.\n",
    "\n",
    "Using the `opcsim.AerosolDistribution` class, we can build our own distributions by defining each aerosol mode as its own lognormal mode. \n",
    "\n",
    "Ex: Initialize an Aerosol Distribution with a Single Mode ($N=1000$, $D_{pg}=100\\;nm$, $\\sigma=1.5$)"
   ]
  },
  {
   "cell_type": "code",
   "execution_count": null,
   "metadata": {
    "collapsed": true,
    "deletable": true,
    "editable": true
   },
   "outputs": [],
   "source": [
    "# Initialize a distribution\n",
    "sample = opcsim.AerosolDistribution()\n",
    "\n",
    "# Add a mode with N=1000, GM=0.1, GSD=1.5\n",
    "sample.add_mode(n=1000, gm=0.1, gsd=1.5, label=\"Mode I\")"
   ]
  },
  {
   "cell_type": "markdown",
   "metadata": {
    "deletable": true,
    "editable": true
   },
   "source": [
    "Most aerosol distributions are composed of multiple lognormal modes. Table 8.3 in Seinfeld and Pandis shows some sample parameters for several different distributions. The urban aerosol distribution can be described as follows:\n",
    "\n",
    "|Mode|$N$|$D_{pg}$|$log\\sigma_i$|\n",
    "|:--:|:-:|:------:|:--------:|\n",
    "|I| 7100 | 0.0117 | 0.232 |\n",
    "|II| 6320 | 0.0373 | 0.250 |\n",
    "|III| 960 | 0.151 | 0.204 |\n",
    "\n",
    "How would we go about building this distribution? We can add as many modes as we would like, just as we did above. Also, if you look at the API documentation for the `opcsim.AerosolDistribution` class, we see that you can add a label for the distribution as an argument upon initiation of the class instance."
   ]
  },
  {
   "cell_type": "code",
   "execution_count": null,
   "metadata": {
    "collapsed": true,
    "deletable": true,
    "editable": true
   },
   "outputs": [],
   "source": [
    "urban = opcsim.AerosolDistribution(\"Urban\")\n",
    "\n",
    "urban.add_mode(7100, 0.0117, 10**0.232, \"Mode I\")\n",
    "urban.add_mode(6320, 0.0373, 10**0.25, \"Mode II\")\n",
    "urban.add_mode(960, 0.151, 10**0.204, \"Mode III\")"
   ]
  },
  {
   "cell_type": "markdown",
   "metadata": {
    "deletable": true,
    "editable": true
   },
   "source": [
    "To make things even easier, there are several \"sample\" distributions included in the package and can be accessed via the `opcsim.load_distribution` function. The parameters for the distributions are taken directly from Seinfeld and Pandis Table 8.3. To read in the distribution, simply provide the name of the type of distribution you would like to use. Options include: \n",
    "\n",
    "  * Urban\n",
    "  * Marine\n",
    "  * Rural\n",
    "  * Remote Continental\n",
    "  * Free Troposphere\n",
    "  * Polar\n",
    "  * Desert\n",
    "  \n",
    "To read in the urban distribution, we would do the following:"
   ]
  },
  {
   "cell_type": "code",
   "execution_count": null,
   "metadata": {
    "collapsed": false,
    "deletable": true,
    "editable": true
   },
   "outputs": [],
   "source": [
    "urban = opcsim.load_distribution(\"Urban\")"
   ]
  },
  {
   "cell_type": "markdown",
   "metadata": {
    "deletable": true,
    "editable": true
   },
   "source": [
    "# Probability Distribution Function\n",
    "\n",
    "## Number Distribution\n",
    "\n",
    "Aerosol distributions are typically depicted using the probabliity distribution function. In Seinfeld and Pandis, they refer to it as the \"Number Distribution Function\". When plotted in log-space (i.e. $dN/dlogD_p$), the area under the curve is the aerosol number concentration. \n",
    "\n",
    "Mathematically, the PDF in number-space looks like the following:\n",
    "\n",
    "$$n_N^o(logD_p)=\\frac{dN}{dlogD_p}=\\frac{N_t}{\\sqrt{2\\pi} \\; log\\sigma_g}exp\\Big(-\\frac{(logD_p - logD_{pg})^2}{2log^2\\sigma_g}\\Big)$$\n",
    "\n",
    "\n",
    "## Surface Area Distribution\n",
    "\n",
    "It is also quite useful to look at the surface area and volume distributions. The surface area probability distribution can easily be obtained by relating to the number probability distribution in the following way:\n",
    "\n",
    "$$n_S^o(logD_p)=\\pi D_p^2 n_N^o(logD_p)=\\frac{dS}{dlogD_p}=\\frac{\\pi D_p^2 N_t}{\\sqrt{2\\pi} \\; log\\sigma_g}exp\\Big(-\\frac{(logD_p - logD_{pg})^2}{2log^2\\sigma_g}\\Big)$$\n",
    "\n",
    "## Volume Distribution\n",
    "\n",
    "Likewise, for the volume distribution, we get:\n",
    "\n",
    "$$n_V^o(logD_p)=\\frac{\\pi}{6} D_p^3 n_N^o(logD_p)=\\frac{dV}{dlogD_p}=\\frac{\\pi D_p^3 N_t}{6\\sqrt{2\\pi} \\; log\\sigma_g}exp\\Big(-\\frac{(logD_p - logD_{pg})^2}{2log^2\\sigma_g}\\Big)$$\n",
    "\n",
    "`opcsim` provides the `AerosolDistribution.pdf` method to easily calculate the distribution at any particle diameter. The arguments of the function are the particle diameter (`dp`), the base (`none`, `log`, or `log10`), the weight (`number`, `surface`, `volume`, or `mass`), and an optional `mode` parameter in case you would like to examine only one of the modes of the distribution at a time. The default arguments are set to be the most useful/common ones (i.e. `weight='number'`, `base='log10'`). If calculating the mass-weighted PDF, you can also provide an optional keyword argument `rho`; the default value for particle density is $1\\;gcm^{-3}$.\n",
    "\n",
    "To calculate the number probability for the urban aerosol distribution at 0.1 micron, we do the following:"
   ]
  },
  {
   "cell_type": "code",
   "execution_count": null,
   "metadata": {
    "collapsed": false,
    "deletable": true,
    "editable": true
   },
   "outputs": [],
   "source": [
    "urban.pdf(0.1)"
   ]
  },
  {
   "cell_type": "markdown",
   "metadata": {
    "deletable": true,
    "editable": true
   },
   "source": [
    "This gives us the number concentration probability at 1 micron in units of $particles\\;cm^{-3}$. We can also calculate a whole range of values by providing an array for the `dp` value:"
   ]
  },
  {
   "cell_type": "code",
   "execution_count": null,
   "metadata": {
    "collapsed": false,
    "deletable": true,
    "editable": true
   },
   "outputs": [],
   "source": [
    "urban.pdf(np.array([0.1, 0.2, 0.3]))"
   ]
  },
  {
   "cell_type": "markdown",
   "metadata": {},
   "source": [
    "To calculate the volume-weighted PDF at some particle diameter ($dV/dlogD_p$), we could do the following:"
   ]
  },
  {
   "cell_type": "code",
   "execution_count": null,
   "metadata": {
    "collapsed": false
   },
   "outputs": [],
   "source": [
    "urban.pdf(0.1, weight='volume')"
   ]
  },
  {
   "cell_type": "markdown",
   "metadata": {},
   "source": [
    "This returns $dV/dlogDp$ at particle diameter $D_p=0.1\\;\\mu m$ in units of $\\mu m^3 cm^{-3}$."
   ]
  },
  {
   "cell_type": "markdown",
   "metadata": {
    "deletable": true,
    "editable": true
   },
   "source": [
    "# Visualizing the Distribution\n",
    "\n",
    "Visualizing the PDF for an aerosol distribution is extremely helpful. The function `opcsim.plots.pdfplot` has been included to make this simple.\n",
    "\n",
    "To plot the pdf of an aerosol distribution, the only required input is the `opcsim.AerosolDistribution` object. The function returns a matplotlib axis object which makes it extremely easy to add to modify the plot using normal matplotlib syntax.\n",
    "\n",
    "Let's plot the urban distribution we built earlier."
   ]
  },
  {
   "cell_type": "code",
   "execution_count": null,
   "metadata": {
    "collapsed": false,
    "deletable": true,
    "editable": true
   },
   "outputs": [],
   "source": [
    "ax = opcsim.plots.pdfplot(urban)"
   ]
  },
  {
   "cell_type": "markdown",
   "metadata": {
    "deletable": true,
    "editable": true
   },
   "source": [
    "We can also go ahead and plot each individual mode along with the entire distribution using the `with_modes` argument:"
   ]
  },
  {
   "cell_type": "code",
   "execution_count": null,
   "metadata": {
    "collapsed": false,
    "deletable": true,
    "editable": true
   },
   "outputs": [],
   "source": [
    "ax = opcsim.plots.pdfplot(urban, with_modes=True)\n",
    "\n",
    "ax.legend(loc='best')\n",
    "\n",
    "sns.despine()"
   ]
  },
  {
   "cell_type": "markdown",
   "metadata": {
    "deletable": true,
    "editable": true
   },
   "source": [
    "Still staying in number space, we can go ahead and plot all of the available sample distributions to get a feel for just how different they are!"
   ]
  },
  {
   "cell_type": "code",
   "execution_count": null,
   "metadata": {
    "collapsed": false
   },
   "outputs": [],
   "source": [
    "fig, ax = plt.subplots(1, figsize=(14,7))\n",
    "\n",
    "# Iterate over every sample in the library\n",
    "for i, sample in enumerate(opcsim.distributions.DISTRIBUTION_DATA.keys()):\n",
    "    # Load the sample dataset\n",
    "    _sample = opcsim.load_distribution(sample)\n",
    "    \n",
    "    # if we've used more colors than we have available in this palette, change the linestyle\n",
    "    ls = '-' if i < 6 else '--'\n",
    "    \n",
    "    opcsim.plots.pdfplot(_sample, ax=ax, plot_kws={'linestyle': ls})\n",
    "    \n",
    "# Add a legend\n",
    "ax.legend(loc='best')\n",
    "\n",
    "# remove the spine\n",
    "sns.despine()"
   ]
  },
  {
   "cell_type": "markdown",
   "metadata": {
    "deletable": true,
    "editable": true
   },
   "source": [
    "Finally, we can also go ahead and look at one distribution in number, surface area, and volume weighted views:"
   ]
  },
  {
   "cell_type": "code",
   "execution_count": null,
   "metadata": {
    "collapsed": false,
    "deletable": true,
    "editable": true
   },
   "outputs": [],
   "source": [
    "fig, ax = plt.subplots(3, figsize=(12,9), sharex=True)\n",
    "\n",
    "opcsim.plots.pdfplot(urban, weight='number', ax=ax[0])\n",
    "opcsim.plots.pdfplot(urban, weight='surface', ax=ax[1])\n",
    "opcsim.plots.pdfplot(urban, weight='volume', ax=ax[2])\n",
    "\n",
    "#fig.subplots_adjust(hspace=0)\n",
    "\n",
    "ax[0].set_ylabel(\"Number\")\n",
    "ax[1].set_ylabel(\"Surface Area\")\n",
    "ax[2].set_ylabel(\"Volume\")\n",
    "\n",
    "plt.tight_layout(h_pad=0)\n",
    "plt.show()"
   ]
  },
  {
   "cell_type": "markdown",
   "metadata": {
    "deletable": true,
    "editable": true
   },
   "source": [
    "# Cumulative Distribution Function\n",
    "\n",
    "We can easily obtain the integrated value for number of particles, total surface area, total volume, or total mass by integrating the correct CDF. \n",
    "\n",
    "## Number CDF\n",
    "\n",
    "The total number of particles between two particle diameters can be found by completing the following integration\n",
    "\n",
    "$$N_t=\\int_{dmin}^{dmax}n_N(D_p)dD_p$$\n",
    "\n",
    "## Surface Area CDF\n",
    "\n",
    "We can find the total particle surface area between two diameters using the following integral:\n",
    "\n",
    "$$S_t=\\pi \\int_{dmin}^{dmax}D_p^2 n_N(D_p)dD_p$$\n",
    "\n",
    "## Volume CDF\n",
    "\n",
    "We can find the total particle volume between two diameters using the following integral:\n",
    "\n",
    "$$V_t=\\frac{\\pi}{6} \\int_{dmin}^{dmax}D_p^3 n_N(D_p)dD_p$$\n",
    "\n",
    "\n",
    "To evaluate the CDF, we use the `opcsim.AerosolDistribution.cdf` method. For example, to evaluate the number of particles with diameter less than $D_p=2.5\\;\\mu m$, we do the following:"
   ]
  },
  {
   "cell_type": "code",
   "execution_count": null,
   "metadata": {
    "collapsed": false,
    "deletable": true,
    "editable": true
   },
   "outputs": [],
   "source": [
    "urban.cdf(dmax=2.5)"
   ]
  },
  {
   "cell_type": "markdown",
   "metadata": {
    "deletable": true,
    "editable": true
   },
   "source": [
    "If we want to calculate the total number of particles within some size range, we can add the `dmin` argument. For example, let's find the total number of particles between 1 and 2.5 microns:"
   ]
  },
  {
   "cell_type": "code",
   "execution_count": null,
   "metadata": {
    "collapsed": false,
    "deletable": true,
    "editable": true
   },
   "outputs": [],
   "source": [
    "urban.cdf(dmin=1, dmax=2.5)"
   ]
  },
  {
   "cell_type": "markdown",
   "metadata": {
    "deletable": true,
    "editable": true
   },
   "source": [
    "What about the total volume of particles less than $D_p=1 \\; \\mu m$? (i.e. $PM_1$)"
   ]
  },
  {
   "cell_type": "code",
   "execution_count": null,
   "metadata": {
    "collapsed": false,
    "deletable": true,
    "editable": true
   },
   "outputs": [],
   "source": [
    "urban.cdf(dmax=1, weight='volume')"
   ]
  },
  {
   "cell_type": "markdown",
   "metadata": {},
   "source": [
    "Last, how about the total mass of particles in the Urban distribution if we set the particle density $\\rho=1.65\\;gcm^{-3}$:"
   ]
  },
  {
   "cell_type": "code",
   "execution_count": null,
   "metadata": {
    "collapsed": false
   },
   "outputs": [],
   "source": [
    "urban.cdf(dmax=100, weight='mass', rho=1.65)"
   ]
  },
  {
   "cell_type": "markdown",
   "metadata": {
    "collapsed": true,
    "deletable": true,
    "editable": true
   },
   "source": [
    "Although we wouldn't normally plot the CDF, we easily can to visualize where most of the [number, surface area, mass] is within the distribution using the `opcsim.plots.cdfplot` function:"
   ]
  },
  {
   "cell_type": "code",
   "execution_count": null,
   "metadata": {
    "collapsed": false,
    "deletable": true,
    "editable": true
   },
   "outputs": [],
   "source": [
    "ax = opcsim.plots.cdfplot(urban)"
   ]
  },
  {
   "cell_type": "markdown",
   "metadata": {
    "deletable": true,
    "editable": true
   },
   "source": [
    "Lastly, we can plot the total volume CDF to get an idea of where the mass is distributed:"
   ]
  },
  {
   "cell_type": "code",
   "execution_count": null,
   "metadata": {
    "collapsed": false,
    "deletable": true,
    "editable": true
   },
   "outputs": [],
   "source": [
    "ax = opcsim.plots.cdfplot(urban, weight='mass', rho=1.65)"
   ]
  },
  {
   "cell_type": "code",
   "execution_count": null,
   "metadata": {
    "collapsed": true,
    "deletable": true,
    "editable": true
   },
   "outputs": [],
   "source": []
  }
 ],
 "metadata": {
  "kernelspec": {
   "display_name": "Python 3",
   "language": "python",
   "name": "python3"
  },
  "language_info": {
   "codemirror_mode": {
    "name": "ipython",
    "version": 3
   },
   "file_extension": ".py",
   "mimetype": "text/x-python",
   "name": "python",
   "nbconvert_exporter": "python",
   "pygments_lexer": "ipython3",
   "version": "3.6.0"
  }
 },
 "nbformat": 4,
 "nbformat_minor": 2
}
