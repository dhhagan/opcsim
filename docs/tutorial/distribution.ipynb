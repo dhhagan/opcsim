{
 "cells": [
  {
   "cell_type": "raw",
   "metadata": {
    "deletable": true,
    "editable": true
   },
   "source": [
    ".. _distribution_tutorial:\n",
    "\n",
    ".. current_module:: opcsim"
   ]
  },
  {
   "cell_type": "markdown",
   "metadata": {
    "deletable": true,
    "editable": true
   },
   "source": [
    "# Build an Aerosol Distribution"
   ]
  },
  {
   "cell_type": "markdown",
   "metadata": {
    "deletable": true,
    "editable": true
   },
   "source": [
    "An aerosol distribution..."
   ]
  },
  {
   "cell_type": "code",
   "execution_count": 1,
   "metadata": {
    "collapsed": false,
    "deletable": true,
    "editable": true
   },
   "outputs": [],
   "source": [
    "import opcsim\n",
    "import pandas as pd\n",
    "import numpy as np\n",
    "\n",
    "import seaborn as sns"
   ]
  },
  {
   "cell_type": "markdown",
   "metadata": {
    "collapsed": true,
    "deletable": true,
    "editable": true
   },
   "source": [
    "## Urban Aerosol Distribution\n",
    "\n",
    "To begin, we can initiate an instance of the `AerosolDistribution` class using parameters from Seinfeld and Pandis:\n",
    "\n",
    "|Mode|$N$|$D_{pg}$|$log\\sigma_i$|\n",
    "|:--:|:-:|:------:|:--------:|\n",
    "|I| 7100 | 0.0117 | 0.232 |\n",
    "|II| 6320 | 0.0373 | 0.250 |\n",
    "|III| 960 | 0.151 | 0.204 |"
   ]
  },
  {
   "cell_type": "code",
   "execution_count": 2,
   "metadata": {
    "collapsed": false
   },
   "outputs": [
    {
     "data": {
      "text/plain": [
       "AerosolDistribution: Urban\n",
       "\n",
       "Mode\tN\t\tGM\tGSD\n",
       "Mode I\t7.10e+03\t0.012\t1.706\n",
       "Mode II\t6.32e+03\t0.037\t1.778\n",
       "Mode III\t9.60e+02\t0.151\t1.600"
      ]
     },
     "execution_count": 2,
     "metadata": {},
     "output_type": "execute_result"
    }
   ],
   "source": [
    "d = opcsim.AerosolDistribution(\"Urban\")\n",
    "\n",
    "d.add_mode(7100, 0.0117, 10**0.232, \"Mode I\")\n",
    "d.add_mode(6320, 0.0373, 10**0.25, \"Mode II\")\n",
    "d.add_mode(960, 0.151, 10**0.204, \"Mode III\")\n",
    "\n",
    "d"
   ]
  },
  {
   "cell_type": "code",
   "execution_count": 3,
   "metadata": {
    "collapsed": false
   },
   "outputs": [
    {
     "data": {
      "text/plain": [
       "0.57136840961758029"
      ]
     },
     "execution_count": 3,
     "metadata": {},
     "output_type": "execute_result"
    }
   ],
   "source": [
    "d.pdf(1)"
   ]
  },
  {
   "cell_type": "code",
   "execution_count": 4,
   "metadata": {
    "collapsed": false
   },
   "outputs": [
    {
     "data": {
      "text/plain": [
       "array([  1.24309860e+04,   1.02054540e+03,   6.94029532e+01,\n",
       "         5.44233259e+00,   5.71368410e-01])"
      ]
     },
     "execution_count": 4,
     "metadata": {},
     "output_type": "execute_result"
    }
   ],
   "source": [
    "d.pdf(np.linspace(0.01, 1., 5))"
   ]
  },
  {
   "cell_type": "code",
   "execution_count": 6,
   "metadata": {
    "collapsed": false
   },
   "outputs": [
    {
     "data": {
      "text/plain": [
       "AerosolDistribution: Urban\n",
       "\n",
       "Mode\tN\t\tGM\tGSD\n",
       "Mode I\t7.10e+03\t0.012\t1.706\n",
       "Mode II\t6.32e+03\t0.037\t1.778\n",
       "Mode III\t9.60e+02\t0.151\t1.600"
      ]
     },
     "execution_count": 6,
     "metadata": {},
     "output_type": "execute_result"
    }
   ],
   "source": [
    "opcsim.load_distribution(\"Urban\")"
   ]
  },
  {
   "cell_type": "code",
   "execution_count": null,
   "metadata": {
    "collapsed": true
   },
   "outputs": [],
   "source": []
  }
 ],
 "metadata": {
  "kernelspec": {
   "display_name": "Python 3",
   "language": "python",
   "name": "python3"
  },
  "language_info": {
   "codemirror_mode": {
    "name": "ipython",
    "version": 3
   },
   "file_extension": ".py",
   "mimetype": "text/x-python",
   "name": "python",
   "nbconvert_exporter": "python",
   "pygments_lexer": "ipython3",
   "version": "3.6.0"
  }
 },
 "nbformat": 4,
 "nbformat_minor": 2
}
